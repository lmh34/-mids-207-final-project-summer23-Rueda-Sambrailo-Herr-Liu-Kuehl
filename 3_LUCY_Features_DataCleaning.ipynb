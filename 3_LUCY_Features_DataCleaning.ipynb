{
 "cells": [
  {
   "cell_type": "markdown",
   "id": "f8de59ac",
   "metadata": {},
   "source": [
    "# Data pre-processing and Feature Engineering \n",
    "In this file, we use the training and test data (split in the previous file into train/test) as the input. \n",
    "<br> After performing the EDA, we review the current state of each data column/feature to perform any necessary data pre-processing or feature transformation/engineering. "
   ]
  },
  {
   "cell_type": "markdown",
   "id": "71a5c973",
   "metadata": {},
   "source": [
    "### Imports & Read files"
   ]
  },
  {
   "cell_type": "code",
   "execution_count": 1,
   "id": "e7cd7e25",
   "metadata": {},
   "outputs": [],
   "source": [
    "# Remove warning prints\n",
    "import warnings\n",
    "warnings.filterwarnings(\"ignore\")"
   ]
  },
  {
   "cell_type": "code",
   "execution_count": 2,
   "id": "b4ecbd81",
   "metadata": {},
   "outputs": [],
   "source": [
    "# standard imports\n",
    "import numpy as np\n",
    "import pandas as pd\n",
    "import matplotlib.pyplot as plt \n",
    "import seaborn as sns\n",
    "from mlxtend.plotting import heatmap\n",
    "from wordcloud import WordCloud\n",
    "import openpyxl\n",
    "from fuzzywuzzy import fuzz\n",
    "from fuzzywuzzy import process as fuzz_process\n",
    "from sklearn.preprocessing import OneHotEncoder\n",
    "from sklearn.preprocessing import StandardScaler\n",
    "import category_encoders as ce\n",
    "\n",
    "\n",
    "# tf and keras\n",
    "import tensorflow as tf\n",
    "from tensorflow.keras import Sequential\n",
    "from tensorflow.keras.layers import Dense\n",
    "from tensorflow.keras.layers import Embedding\n",
    "from tensorflow.keras.layers import GlobalAveragePooling1D\n",
    "from tensorflow.keras.layers import Dropout\n",
    "# import tensorflow_datasets as tfds\n",
    "\n",
    "# shap\n",
    "import shap\n",
    "\n",
    "# plots and images\n",
    "import seaborn as sns\n",
    "import matplotlib.pyplot as plt\n",
    "from IPython.display import Image\n",
    "\n",
    "# others\n",
    "import re\n",
    "from sklearn.decomposition import PCA\n",
    "from wordcloud import WordCloud\n",
    "from collections import Counter\n",
    "from nltk.corpus import words\n",
    "from collections import Counter"
   ]
  },
  {
   "cell_type": "code",
   "execution_count": 3,
   "id": "2a981e0d",
   "metadata": {},
   "outputs": [],
   "source": [
    "# Universal to entire EDA \n",
    "file_path = './data/' #might need to update if you don't have your data here\n",
    "train_file = 'split_train.csv' #created at end of file 1 (parse and merge)\n",
    "test_file = 'split_test.csv' #created at end of file 1 (parse and merge)\n",
    "\n",
    "# Import train and test\n",
    "train = pd.read_csv(train_file)\n",
    "test = pd.read_csv(test_file)\n",
    "columns = train.columns\n",
    "\n",
    "# Additional files \n",
    "breed_lbl = 'PetFinder-BreedLabels.csv'\n",
    "color_lbl = 'PetFinder-ColorLabels.csv'\n",
    "state_lbl = 'PetFinder-StateLabels.csv'\n",
    "\n",
    "#labels for numbered categorical features\n",
    "breeds = pd.read_csv(file_path+breed_lbl)\n",
    "colors = pd.read_csv(file_path+color_lbl)\n",
    "states = pd.read_csv(file_path+state_lbl)"
   ]
  },
  {
   "cell_type": "markdown",
   "id": "a0bca17a",
   "metadata": {},
   "source": [
    "## Alberto's Feature Engineering / Data pre-processing"
   ]
  },
  {
   "cell_type": "markdown",
   "id": "dfc005d5",
   "metadata": {},
   "source": [
    "<b>Text Based Features in Dataset</b>\n",
    " - Name - Name of pet (Empty if not named)\n",
    " - RescuerID - ID of Rescuer\n",
    " \n",
    "<b> Categorical Features in Dataset </b>\n",
    "\n",
    " - Health - Health Condition (1 = Healthy, 2 = Minor Injury, 3 = Serious Injury, 0 = Not Specified)\n",
    " - Vaccinated - Pet has been vaccinated (1 = Yes, 2 = No, 3 = Not Sure)\n",
    " - Dewormed - Pet has been dewormed (1 = Yes, 2 = No, 3 = Not Sure)\n",
    " - Sterilized - Pet has been spayed / neutered (1 = Yes, 2 = No, 3 = Not Sure)\n",
    " - State - State location in Malaysia (Refer to StateLabels dictionary)\n",
    " \n",
    " <b> Interval Features in Dataset</b>\n",
    " - Fee - Adoption fee (0 = Free)\n",
    " - Quantity - Number of pets represented in profile\n",
    " - Age - Age of pet when listed, in months"
   ]
  },
  {
   "cell_type": "markdown",
   "id": "6a88b642",
   "metadata": {},
   "source": [
    "## Feature: Name"
   ]
  },
  {
   "cell_type": "markdown",
   "id": "93f7903d",
   "metadata": {},
   "source": [
    "<b> Name: Text-based feature. Name of pet (Empty if not named) </b>\n",
    " - Circa 7,500 unique names. Top names have very low frequency \n",
    " - Inputting/missing values: Fill NAs with No_Name values\n",
    " - Add binary variable: valid vs. invalid_names. Invalid_names includes: NAs, generic inputs (such as Puppies, pup, kitten, cat) and non-descriptive inputs (e.g. \"No Name Yet\" and two letter names such as V1)\n",
    " - Accuracy of the above-described name categorization: After sampling 200 rows: 5 false positives, 1 false negative, 194 true positives/negatives"
   ]
  },
  {
   "cell_type": "code",
   "execution_count": 4,
   "id": "9b2aedcc",
   "metadata": {},
   "outputs": [
    {
     "name": "stdout",
     "output_type": "stream",
     "text": [
      "Percentage of invalid_names in train\n"
     ]
    },
    {
     "data": {
      "text/plain": [
       "Invalid_name\n",
       "0    0.770969\n",
       "1    0.229031\n",
       "Name: proportion, dtype: float64"
      ]
     },
     "execution_count": 4,
     "metadata": {},
     "output_type": "execute_result"
    }
   ],
   "source": [
    "# Identify and process invalid names \n",
    "\n",
    "# Fill NAs in train and test\n",
    "train['Name'].fillna('No_Name', inplace=True)\n",
    "test['Name'].fillna('No_Name', inplace=True)\n",
    "\n",
    "# Function to create invalid_name binary column\n",
    "def invalid_name(df, column_name):\n",
    "    \n",
    "    # Check if column_name exists in the DataFrame\n",
    "    if column_name not in df.columns:\n",
    "        raise ValueError(f\"Column '{column_name}' does not exist in the DataFrame.\")\n",
    "\n",
    "    # Prepoc: Create a new column with default value 0 and fill NAs\n",
    "    df['Invalid_name'] = 0\n",
    "    \n",
    "    # Set the value to 1 if short length\n",
    "    df.loc[df[column_name].str.len() <= 2, 'Invalid_name'] = 1\n",
    "    \n",
    "    # Set the value to 1 if contains generic words\n",
    "    generic_words = ['Kitten', 'Kittens', 'Kitty', 'Adoption', 'Baby', 'Name', 'Kitties', \n",
    "                     'Stray', 'Lost Dog', 'Mixed', 'Male', 'Female', 'MPSP', \n",
    "                     'Puppy', 'Puppies', 'Pups', 'Pup' ]\n",
    "    df.loc[df[column_name].str.contains('|'.join(generic_words), case=False), 'Invalid_name'] = 1\n",
    "    \n",
    "    return df\n",
    "\n",
    "# Apply function to train and test\n",
    "invalid_name(train, 'Name')\n",
    "invalid_name(test, 'Name')\n",
    "\n",
    "# Percentage of invalid names in train\n",
    "print('Percentage of invalid_names in train')\n",
    "train['Invalid_name'].value_counts(normalize=True)"
   ]
  },
  {
   "cell_type": "markdown",
   "id": "be7fb9a6",
   "metadata": {},
   "source": [
    "## Feature: RescuerID"
   ]
  },
  {
   "cell_type": "markdown",
   "id": "74fdecd0",
   "metadata": {},
   "source": [
    "<b> RescuerID: Text/Alphanumeric feature. ID of Rescuer</b>\n",
    " - Create new feature ItTopRescuer if RescuerID in Top 25 with most ads. Top rescuers have lower AdoptionSpeed\n",
    " - Create new feature RescuerCount to assign to each rescuer the corresponding % of total ads. "
   ]
  },
  {
   "cell_type": "code",
   "execution_count": 5,
   "id": "fbb42bbf",
   "metadata": {},
   "outputs": [],
   "source": [
    "# Create new feature IsTopRescuer\n",
    "top_rescuers = train.loc[train['Type'] == 1]['RescuerID'].value_counts().nlargest(25).index\n",
    "top_rescuers.append(train.loc[train['Type'] == 2]['RescuerID'].value_counts().nlargest(25).index)\n",
    "train['IsTopRescuer'] = train['RescuerID'].isin(top_rescuers).astype(int)\n",
    "test['IsTopRescuer'] = test['RescuerID'].isin(top_rescuers).astype(int)\n",
    "\n",
    "# Create new feature RescuerCount\n",
    "train['RescuerCount'] = train['RescuerID'].map(train['RescuerID'].value_counts(normalize=True))\n",
    "test['RescuerCount'] = test['RescuerID'].map(test['RescuerID'].value_counts(normalize=True))\n",
    "\n",
    "# Drop RescuerID column\n",
    "train.drop(columns = ['RescuerID'], axis = 1, inplace=True)\n",
    "test.drop(columns = ['RescuerID'], axis = 1, inplace=True)"
   ]
  },
  {
   "cell_type": "code",
   "execution_count": 6,
   "id": "190ed42d",
   "metadata": {},
   "outputs": [
    {
     "name": "stdout",
     "output_type": "stream",
     "text": [
      "-- AdoptioSpeed for TopRescuer for Dogs --\n"
     ]
    },
    {
     "data": {
      "text/plain": [
       "IsTopRescuer\n",
       "0    2.661525\n",
       "1    2.518557\n",
       "Name: AdoptionSpeed, dtype: float64"
      ]
     },
     "metadata": {},
     "output_type": "display_data"
    },
    {
     "name": "stdout",
     "output_type": "stream",
     "text": [
      "-- AdoptioSpeed for TopRescuer for Cats --\n"
     ]
    },
    {
     "data": {
      "text/plain": [
       "IsTopRescuer\n",
       "0    2.407204\n",
       "1    2.272727\n",
       "Name: AdoptionSpeed, dtype: float64"
      ]
     },
     "metadata": {},
     "output_type": "display_data"
    }
   ],
   "source": [
    "# AdoptionSpeed for top rescuers for both cats and dogs \n",
    "breeds = ['Dogs', 'Cats']\n",
    "for item in [1,2]:\n",
    "    print(f'-- AdoptioSpeed for TopRescuer for {breeds[item-1]} --')\n",
    "    display(train.loc[train['Type'] == item].groupby('IsTopRescuer')['AdoptionSpeed'].mean())"
   ]
  },
  {
   "cell_type": "markdown",
   "id": "715a011f",
   "metadata": {},
   "source": [
    "## Feature: Health"
   ]
  },
  {
   "cell_type": "markdown",
   "id": "a6edca61",
   "metadata": {},
   "source": [
    "<b> Health: Ordinal feature. Health Condition (1 = Healthy, 2 = Minor Injury, 3 = Serious Injury, 0 = Not Specified) </b>\n",
    " - This is an ordinal feature because there is a rank to it ie 1 is more healthy than 2\n",
    " - Change numerical encoding to range [0,2] instead of [1,3]"
   ]
  },
  {
   "cell_type": "code",
   "execution_count": 7,
   "id": "6c1b2c0b",
   "metadata": {},
   "outputs": [
    {
     "data": {
      "text/plain": [
       "Health\n",
       "0    11578\n",
       "1      388\n",
       "2       28\n",
       "Name: count, dtype: int64"
      ]
     },
     "execution_count": 7,
     "metadata": {},
     "output_type": "execute_result"
    }
   ],
   "source": [
    "# Relabel numeric values to [0,2] instead of [1,3]\n",
    "def relabel_col(df, target, to_range, from_range):\n",
    "    \n",
    "    # Check if column_name exists in the DataFrame\n",
    "    if target not in df.columns:\n",
    "        raise ValueError(f\"Column '{target}' does not exist in the DataFrame.\")\n",
    "        \n",
    "    # Create dict and apply function\n",
    "    dict_lab = {i: j for i, j in zip(to_range, from_range)}\n",
    "    df[target] = df[target].map(dict_lab)\n",
    "    return df\n",
    "\n",
    "# Apply relabing function to train and test\n",
    "relabel_col(train,'Health',range(1,4), range(0,3))\n",
    "relabel_col(test,'Health',range(1,4), range(0,3))\n",
    "\n",
    "# Value counts on train\n",
    "train['Health'].value_counts()"
   ]
  },
  {
   "cell_type": "markdown",
   "id": "38a86001",
   "metadata": {},
   "source": [
    "## Feature: Vaccinated, Dewormed"
   ]
  },
  {
   "cell_type": "markdown",
   "id": "05d6ac07",
   "metadata": {},
   "source": [
    "<b> Vaccianted: Nominal feature. Pet has been Vaccinated (1 = Yes, 2 = No, 3 = Not Sure)\n",
    "<br> Dewormed: Nominal feature. Pet has been Dewormed (1 = Yes, 2 = No, 3 = Not Sure)\n",
    "</b>\n",
    " - These are nominal features with low cardinality so we OHE both "
   ]
  },
  {
   "cell_type": "code",
   "execution_count": 8,
   "id": "cadcf88b",
   "metadata": {},
   "outputs": [],
   "source": [
    "# Define function to OHE selected columns\n",
    "def OHE_vars(train, test, target):\n",
    "    '''\n",
    "    Takes in the train and test datasets, and the target feature to encode.\n",
    "    Fits to the train and then transforms both and returns the entire dataset\n",
    "    with the target feature transformed.\n",
    "    '''\n",
    "    \n",
    "    # Check if column_name exists in the DataFrame\n",
    "    if target not in train.columns:\n",
    "        raise ValueError(f\"Column '{target}' does not exist in the DataFrame.\")\n",
    "    \n",
    "    #creating encoder\n",
    "    temp_encoder = ce.OneHotEncoder(cols=[target])\n",
    "    # fitting the encoder to train\n",
    "    temp_encoder.fit(train)\n",
    "    # transforming both datasets with encoder\n",
    "    train = temp_encoder.transform(train)\n",
    "    test = temp_encoder.transform(test)\n",
    "    \n",
    "    return train, test\n",
    "\n",
    "# Apply function\n",
    "train, test = OHE_vars(train, test, 'Vaccinated')\n",
    "train, test = OHE_vars(train, test, 'Dewormed')"
   ]
  },
  {
   "cell_type": "markdown",
   "id": "a8a950ca",
   "metadata": {},
   "source": [
    "## Feature: Sterelized"
   ]
  },
  {
   "cell_type": "markdown",
   "id": "246cb454",
   "metadata": {},
   "source": [
    "<b> Sterelized: Nominal feature. Pet has been spayed / neutered (1 = Yes, 2 = No, 3 = Not Sure)</b>\n",
    " - This is a nominal feature with low cardinality so we also OHE "
   ]
  },
  {
   "cell_type": "code",
   "execution_count": 9,
   "id": "09ba68b3",
   "metadata": {},
   "outputs": [],
   "source": [
    "# Run OHE on Sterilized for both train and test df\n",
    "train, test = OHE_vars(train, test, 'Sterilized')"
   ]
  },
  {
   "cell_type": "markdown",
   "id": "7caef3fa",
   "metadata": {},
   "source": [
    " ## Feature: State"
   ]
  },
  {
   "cell_type": "markdown",
   "id": "978443c7",
   "metadata": {},
   "source": [
    "<b> State - State location in Malaysia (Refer to StateLabels dictionary) </b>\n",
    " - Since there are 14 states I decide to do BinaryEncoding so we only need 4 additional columns"
   ]
  },
  {
   "cell_type": "code",
   "execution_count": 10,
   "id": "d6e51e7b",
   "metadata": {},
   "outputs": [],
   "source": [
    "# Binary Encoding function\n",
    "def binary_encoding(train, test, target):\n",
    "    '''\n",
    "    Takes in the train and test datasets, and the target feature to encode. \n",
    "    Fits to the train and then transforms both and returns the entire dataset \n",
    "    with the target feature transformed.\n",
    "    '''\n",
    "    # Check if column_name exists in the DataFrame\n",
    "    if target not in train.columns:\n",
    "        raise ValueError(f\"Column '{target}' does not exist in the DataFrame.\")\n",
    "    \n",
    "    # creating the encoder\n",
    "    temp_encoder = ce.BinaryEncoder(cols=[target])\n",
    "    #fitting the encoder to train\n",
    "    temp_encoder.fit(train)\n",
    "    #transforming both datasets with encoder\n",
    "    train = temp_encoder.transform(train)\n",
    "    test = temp_encoder.transform(test)\n",
    "    #returning both datasets\n",
    "    return train, test\n",
    "\n",
    "# Apply function\n",
    "train, test = binary_encoding(train, test, 'StateID')"
   ]
  },
  {
   "cell_type": "markdown",
   "id": "b8d4fda4",
   "metadata": {},
   "source": [
    "## Feature: Fee"
   ]
  },
  {
   "cell_type": "markdown",
   "id": "16a4316a",
   "metadata": {},
   "source": [
    "<b> Fee: Adoption fee (0 = Free)</b>\n",
    " - Fee variable clipped for outliers\n",
    " - Create Fee_binary variable which equals 1 when the pet is not offered for free\n",
    " - Create bins for Fee and OHE\n",
    " - Fee variable needs to be normalized but this will be done at the top of the modeling notebook with all the other features "
   ]
  },
  {
   "cell_type": "code",
   "execution_count": 11,
   "id": "16d44949",
   "metadata": {},
   "outputs": [],
   "source": [
    "# Clipping values between $0-400\n",
    "train['Fee'] = train['Fee'].clip(0, 400)\n",
    "test['Fee'] = test['Fee'].clip(0, 400)\n",
    "\n",
    "# Create binary variable if pets is Free or not\n",
    "train['Fee_binary'] = (train['Fee'] > 1).astype(int)\n",
    "test['Fee_binary'] = (test['Fee'] > 1).astype(int)\n",
    "\n",
    "# Create bins for Fee and OHE for train\n",
    "bins_f = [0, 1, 51, 101, float('inf')]\n",
    "labels_f = ['0', '1-50', '51-100', '+100']\n",
    "train['Fee_bin'] = pd.cut(train['Fee'], bins=bins_f, labels=labels_f, right=False)\n",
    "test['Fee_bin'] = pd.cut(test['Fee'], bins=bins_f, labels=labels_f, right=False)\n",
    "\n",
    "# Apply OHE function\n",
    "train, test = OHE_vars(train, test, 'Fee_bin')"
   ]
  },
  {
   "cell_type": "markdown",
   "id": "374e94ae",
   "metadata": {},
   "source": [
    "## Feature: Quantity"
   ]
  },
  {
   "cell_type": "markdown",
   "id": "a2c536a9",
   "metadata": {},
   "source": [
    "<b> Quantity: Numerical feature. Number of pets represented in profile</b>\n",
    " - Transform to Quantity_binary. 0 is single pet, 1 if multiple pets (i.e. groups)\n",
    " - Create bins for Quantity and OHE\n",
    " - Meaningful overlap of Quantity_binary = 1 with Gender = 3 so we might decide to drop Quantity_binary if we want sparse models"
   ]
  },
  {
   "cell_type": "code",
   "execution_count": 12,
   "id": "33da775e",
   "metadata": {},
   "outputs": [],
   "source": [
    "# Create new binary feature Quantity_binary\n",
    "train['Quantity_binary'] = (train['Quantity'] > 1).astype(int)\n",
    "test['Quantity_binary'] = (test['Quantity'] > 1).astype(int)\n",
    "\n",
    "# Create bins for Quantity and OHE for train/test\n",
    "bins_q = [1, 2, 5, float('inf')]\n",
    "labels_q = ['1', '2-4', '+5']\n",
    "train['Quantity_bin'] = pd.cut(train['Quantity'], bins=bins_q, labels=labels_q, right=False)\n",
    "test['Quantity_bin'] = pd.cut(test['Quantity'], bins=bins_q, labels=labels_q, right=False)\n",
    "\n",
    "# Apply OHE function\n",
    "train, test = OHE_vars(train, test, 'Quantity_bin')"
   ]
  },
  {
   "cell_type": "code",
   "execution_count": 13,
   "id": "11080924",
   "metadata": {},
   "outputs": [
    {
     "data": {
      "text/html": [
       "<div>\n",
       "<style scoped>\n",
       "    .dataframe tbody tr th:only-of-type {\n",
       "        vertical-align: middle;\n",
       "    }\n",
       "\n",
       "    .dataframe tbody tr th {\n",
       "        vertical-align: top;\n",
       "    }\n",
       "\n",
       "    .dataframe thead tr th {\n",
       "        text-align: left;\n",
       "    }\n",
       "\n",
       "    .dataframe thead tr:last-of-type th {\n",
       "        text-align: right;\n",
       "    }\n",
       "</style>\n",
       "<table border=\"1\" class=\"dataframe\">\n",
       "  <thead>\n",
       "    <tr>\n",
       "      <th></th>\n",
       "      <th colspan=\"3\" halign=\"left\">count</th>\n",
       "    </tr>\n",
       "    <tr>\n",
       "      <th>Gender</th>\n",
       "      <th>1</th>\n",
       "      <th>2</th>\n",
       "      <th>3</th>\n",
       "    </tr>\n",
       "    <tr>\n",
       "      <th>Quantity</th>\n",
       "      <th></th>\n",
       "      <th></th>\n",
       "      <th></th>\n",
       "    </tr>\n",
       "  </thead>\n",
       "  <tbody>\n",
       "    <tr>\n",
       "      <th>2</th>\n",
       "      <td>231.0</td>\n",
       "      <td>375.0</td>\n",
       "      <td>526.0</td>\n",
       "    </tr>\n",
       "    <tr>\n",
       "      <th>3</th>\n",
       "      <td>67.0</td>\n",
       "      <td>138.0</td>\n",
       "      <td>381.0</td>\n",
       "    </tr>\n",
       "    <tr>\n",
       "      <th>4</th>\n",
       "      <td>28.0</td>\n",
       "      <td>52.0</td>\n",
       "      <td>334.0</td>\n",
       "    </tr>\n",
       "    <tr>\n",
       "      <th>5</th>\n",
       "      <td>19.0</td>\n",
       "      <td>30.0</td>\n",
       "      <td>228.0</td>\n",
       "    </tr>\n",
       "    <tr>\n",
       "      <th>6</th>\n",
       "      <td>1.0</td>\n",
       "      <td>27.0</td>\n",
       "      <td>116.0</td>\n",
       "    </tr>\n",
       "  </tbody>\n",
       "</table>\n",
       "</div>"
      ],
      "text/plain": [
       "          count              \n",
       "Gender        1      2      3\n",
       "Quantity                     \n",
       "2         231.0  375.0  526.0\n",
       "3          67.0  138.0  381.0\n",
       "4          28.0   52.0  334.0\n",
       "5          19.0   30.0  228.0\n",
       "6           1.0   27.0  116.0"
      ]
     },
     "execution_count": 13,
     "metadata": {},
     "output_type": "execute_result"
    }
   ],
   "source": [
    "# Overlap between Gender = 3 and Quantity_binary = 1\n",
    "group_pets = train.loc[train['Quantity_binary'] == 1]\n",
    "\n",
    "pd.crosstab(\n",
    "    index=[group_pets['Quantity']],\n",
    "    columns=group_pets['Gender'],\n",
    "    values=group_pets['Quantity'],\n",
    "    aggfunc=['count'])[:5]"
   ]
  },
  {
   "cell_type": "markdown",
   "id": "7aae048f",
   "metadata": {},
   "source": [
    "## Feature: Age"
   ]
  },
  {
   "cell_type": "markdown",
   "id": "c5882a80",
   "metadata": {},
   "source": [
    "<b> Age: Numerical feature. Age of pet when listed, in months</b>\n",
    " - No empty values\n",
    " - Clip data due to \"Outliers\": Most pets have < 60 months (both cats and dogs) \n",
    " - Create new feature: 20% of pets have their Ages guessed (multiple of 12). These pets get adopted slower. \n",
    " - Create age bins and OHE\n",
    " - Could create new feature Log_age which is the log(1+x) of age (need to add 1 because the dataset has zeros)"
   ]
  },
  {
   "cell_type": "code",
   "execution_count": 14,
   "id": "fb701166",
   "metadata": {},
   "outputs": [],
   "source": [
    "# Clipping values between 0 and 100 months\n",
    "train['Age'] = train['Age'].clip(0, 100)\n",
    "test['Age'] = test['Age'].clip(0, 100)\n",
    "\n",
    "# New feature: Age_guessed if Age is multiple of 12 \n",
    "train['Age_guessed'] = train['Age'].apply(lambda x: 1 if x in range(12,12*10, 12) else 0)\n",
    "test['Age_guessed'] = test['Age'].apply(lambda x: 1 if x in range(12,12*10, 12) else 0)\n",
    "\n",
    "# Create bins for age and OHE for train/test\n",
    "bins_a = [0, 7, 13, 37, 61, float('inf')]\n",
    "labels_a = ['0-6m', '6-12m', '12-36m', '37-60m','+60m']\n",
    "train['Age_bin'] = pd.cut(train['Age'], bins=bins_a, labels=labels_a, right=False)\n",
    "test['Age_bin'] = pd.cut(test['Age'], bins=bins_a, labels=labels_a, right=False)\n",
    "\n",
    "# Apply OHE function\n",
    "train, test = OHE_vars(train, test, 'Age_bin')\n",
    "\n",
    "# Take the log of the Age to standarize\n",
    "# train['Age'] = np.log1p(train['Age'])\n",
    "# test['Age'] = np.log1p(test['Age'])"
   ]
  },
  {
   "cell_type": "markdown",
   "id": "a4849c9e",
   "metadata": {},
   "source": [
    "### -----begin Erik's EDA-----"
   ]
  },
  {
   "cell_type": "markdown",
   "id": "d4aae637",
   "metadata": {},
   "source": [
    "# Erik's Feature Engineering / Data Cleaning\n",
    "\n",
    "---\n",
    "#### Table of Feature Modifications\n",
    "\n",
    "**Below is a table showing the feature modifications and additions that are being made by the code that follows.** Please refer to EDA file #2 for additional back-up to reasoning."
   ]
  },
  {
   "cell_type": "markdown",
   "id": "f56733b7",
   "metadata": {},
   "source": [
    "| Feature | Modified Existing or New | Feature Type | Notes | \n",
    "|--|--|--|--|\n",
    "| Type  | Mod. (E) | Binary (1 = Dog, 0 = Cat) | \n",
    "| has_Video | New | Binary (1 = has video, 0 = does not have video) |\n",
    "| has_Photo | New | Binary (1 = has photo, 0 = does not have photo) |\n",
    "| MaturitySize | Mod. (E) | Ordinal (1 = Small, 2 = Medium, 3 = Large, 4 = Extra Large, -1 = unspecified) | multiply by Maturity_isSpecified |\n",
    "| ~~Maturity_isSpecified~~ | ~~New~~ | ~~Binary (1 = Maturity_isSpecified, 0 = Maturity_notSpecified)~~ | irrelevant to current dataset |\n",
    "| FurLength | Mod. (E) | Ordinal(1 = Short, 2 = Medium, 3 = Long, -1 = unspecified) | multiply by Fur_isSpecified |\n",
    "| ~~FurLength_isSpecified~~ | ~~New~~ | ~~Binary(1 = isSpecified, 0 = notSpecified)~~ | irrelevant to current dataset |\n",
    "| isMale | New | Binary (1 = male present, 0 = no_males) | mixed gender has 1 in both |\n",
    "| isFemale | New | Binary (1 = female present, 0 = no_females) | mixed gender has 1 in both |\n",
    "| {Color} | New | Binary OHE (1 = color is present, 0 = color not present) | one feature for each color |\n",
    "| ColorCount | New | Interval (1 - 3 = number of colors identified) |\n",
    "| isGeneric_Breed | New | Binary (1 = generic description, 0 = more specific) | 0 if another breed present |\n",
    "| {Breed1_i} | New | Binary_Encoder (i = 0 - 7 ) | using category encoder to fit_transform Breed1 feature |\n",
    "| {Breed2_i} | New | Binary_Encoder (i = 0 - 6 ) | using category encoder to fit_transform Breed2 feature |"
   ]
  },
  {
   "cell_type": "markdown",
   "id": "e3ac0be7-9223-4deb-98c3-6014c21b9617",
   "metadata": {},
   "source": [
    "**Below is a table of raw features in the dataset that are not needed for modeling after addition of the above features.** These will be dropped from the datasets. "
   ]
  },
  {
   "cell_type": "markdown",
   "id": "d30e9306-334b-4f9e-8e01-96d6b34bb0a5",
   "metadata": {},
   "source": [
    "| Feature | Feature Type | Notes | \n",
    "|--|--|--|\n",
    "| Gender  |  Nominal (1 = Male, 2 = Female, 3 = Mixed) | replaced by 'isMale' 'isFemale'|\n",
    "| Color1 | Nominal (1-7) | OHE and count now exists for this feature |\n",
    "| Color2 | Nominal (1-7) | OHE and count now exists for this feature |\n",
    "| Color3 | Nominal (1-7) | OHE and count now exists for this feature |"
   ]
  },
  {
   "cell_type": "markdown",
   "id": "617420b3-dce5-482a-a675-1cf9caeba303",
   "metadata": {},
   "source": [
    "**Below is a table of the features that remain in the dataset untouched for potential use in modeling.**"
   ]
  },
  {
   "cell_type": "markdown",
   "id": "79a47f02-2e10-41cd-8ab8-bd5ad605e4c0",
   "metadata": {},
   "source": [
    "| Feature | Feature Type | Notes | \n",
    "|--|--|--|\n",
    "| VideoAmt | Interval | Total uploaded videos for this pet |\n",
    "| PhotoAmt | Interval | Total uploaded photos for this pet |"
   ]
  },
  {
   "cell_type": "code",
   "execution_count": 15,
   "id": "c47681b3",
   "metadata": {},
   "outputs": [],
   "source": [
    "#Type - transforming all 2's to 0's\n",
    "train['Type'] = train['Type'].replace(2, 0)\n",
    "test['Type'] = test['Type'].replace(2, 0)\n",
    "\n",
    "#has_Video - transforming all non 0's to 1's\n",
    "train['has_Video'] = (train['VideoAmt'] != 0).astype(int)\n",
    "test['has_Video'] = (test['VideoAmt'] != 0).astype(int)\n",
    "\n",
    "#has_Photo - transforming all non 0's to 1's\n",
    "train['has_Photo'] = (train['PhotoAmt'] != 0).astype(int)\n",
    "test['has_Photo'] = (test['PhotoAmt'] != 0).astype(int)\n",
    "\n",
    "#MaturitySize - replacing all 0's with -1's\n",
    "train['MaturitySize'] = train['MaturitySize'].replace(0, -1)\n",
    "test['MaturitySize'] = test['MaturitySize'].replace(0, -1)\n",
    "\n",
    "#### Feature was originally added out of principle to align with documentation \n",
    "#### indicated potential for maturity to not be specified. \n",
    "#### However Maturity is specified for all records, so this feature is of no use. \n",
    "# #Maturity_isSpecified\n",
    "# train['Maturity_isSpecified'] = (train['MaturitySize'] != 0).astype(int)\n",
    "# test['Maturity_isSpecified'] = (test['MaturitySize'] != 0).astype(int)\n",
    "\n",
    "#FurLength - replacing all 0's with -1's\n",
    "train['FurLength'] = train['FurLength'].replace(0, -1)\n",
    "test['FurLength'] = test['FurLength'].replace(0, -1)\n",
    "\n",
    "#### Feature was originally added out of principle to align with documentation \n",
    "#### indicated potential for FurLength to not be specified. \n",
    "#### However FurLength is specified for all records, so this feature is of no use. \n",
    "# #FurLength_isSpecified\n",
    "# train['FurLength_isSpecified'] = (train['FurLength'] != 0).astype(int)\n",
    "# test['FurLength_isSpecified'] = (test['FurLength'] != 0).astype(int)\n",
    "\n",
    "#isMale - transform to binary\n",
    "train['isMale'] = train['Gender'].apply(lambda x: 1 if x == 1 or x == 3 else 0)\n",
    "test['isMale'] = test['Gender'].apply(lambda x: 1 if x == 1 or x == 3 else 0)\n",
    "\n",
    "#isFemale - transform to binary\n",
    "train['isFemale'] = train['Gender'].apply(lambda x: 1 if x == 2 or x == 3 else 0)\n",
    "test['isFemale'] = test['Gender'].apply(lambda x: 1 if x == 2 or x == 3 else 0)\n",
    "\n",
    "#{Color} - OHE for presence of each color\n",
    "#iterating through each color in the color labels file\n",
    "for color_num, color in zip(colors['ColorID'], colors['ColorName']):\n",
    "    #creating a new feature named by color as OHE\n",
    "    train[color] = train[['Color1', 'Color2', 'Color3']].apply(lambda row: 1 if color_num in row.values else 0, axis=1)\n",
    "    test[color] = test[['Color1', 'Color2', 'Color3']].apply(lambda row: 1 if color_num in row.values else 0, axis=1)\n",
    "\n",
    "#ColorCount\n",
    "color_columns = colors['ColorName'].tolist()\n",
    "train['ColorCount'] = train[color_columns].sum(axis=1)\n",
    "test['ColorCount'] = test[color_columns].sum(axis=1)\n",
    "\n",
    "#isGeneric_Breed\n",
    "#identifying the 4 IDs for breeds that are generic 'mixed-breed, domestic-short/medium/long hair\n",
    "generic_breeds = [307,264,265,266]\n",
    "train['isGeneric_Breed'] = train[['Breed1', 'Breed2']].apply(\n",
    "    lambda row: 1 if all(breed in generic_breeds or breed == 0 for breed in row) else 0,axis=1)\n",
    "test['isGeneric_Breed'] = test[['Breed1', 'Breed2']].apply(\n",
    "    lambda row: 1 if all(breed in generic_breeds or breed == 0 for breed in row) else 0,axis=1)\n",
    "\n",
    "#Breed1\n",
    "#utilizing 'binary_encoding' function to minimize number of encodings necessary\n",
    "#since there are 307 possible IDs\n",
    "train, test = binary_encoding(train, test, target='Breed1') # need to specify 'target' arg\n",
    "\n",
    "#Breed2\n",
    "train, test = binary_encoding(train, test, target ='Breed2') # need to specify 'target' arg\n",
    "\n",
    "#dropping features Gender, Color1, Color2, Color3\n",
    "columns_to_drop = ['Gender', 'Color1', 'Color2', 'Color3']\n",
    "train.drop(columns_to_drop, axis=1, inplace=True)\n",
    "test.drop(columns_to_drop, axis=1, inplace=True)"
   ]
  },
  {
   "cell_type": "markdown",
   "id": "52d6939e",
   "metadata": {},
   "source": [
    "### -----begin Nicole's EDA-----"
   ]
  },
  {
   "cell_type": "markdown",
   "id": "126c6c96",
   "metadata": {},
   "source": [
    "# 3. Nicole's Feature Engineering / Data Cleaning"
   ]
  },
  {
   "cell_type": "code",
   "execution_count": 16,
   "id": "89948a9f",
   "metadata": {},
   "outputs": [
    {
     "data": {
      "text/plain": [
       "True"
      ]
     },
     "execution_count": 16,
     "metadata": {},
     "output_type": "execute_result"
    }
   ],
   "source": [
    "#check that all rows that have texts have a sentiment score\n",
    "null_score = train[train['doc_scores'].isnull()]\n",
    "null_score['text'].isnull().all() #should return true "
   ]
  },
  {
   "cell_type": "code",
   "execution_count": 17,
   "id": "44faeab2",
   "metadata": {},
   "outputs": [
    {
     "data": {
      "text/plain": [
       "True"
      ]
     },
     "execution_count": 17,
     "metadata": {},
     "output_type": "execute_result"
    }
   ],
   "source": [
    "null_score = test[test['doc_scores'].isnull()]\n",
    "null_score['text'].isnull().all() #should return true "
   ]
  },
  {
   "cell_type": "code",
   "execution_count": 18,
   "id": "59777d67-a460-4a2a-bf19-ecdd07157f08",
   "metadata": {},
   "outputs": [],
   "source": [
    "#create a new column that has value 1 if there is a descriptoin for the pet, otherwise 0\n",
    "train['has_descriptoin'] = (~train['doc_scores'].isnull()).astype(int)\n",
    "\n",
    "#fill in missing scores as 0 \n",
    "# in the model, please use the interaction term \"has_description\" * \"docs_scores\" and \"has_description\" * \"doc_magnitudes\"\n",
    "\n",
    "train['doc_scores'] = train['doc_scores'].fillna(0)\n",
    "train['doc_magnitudes'] = train['doc_magnitudes'].fillna(0)\n",
    "\n",
    "#upon examination, results from sentiment analysis for non-english text are outliers (don't make sense), set them to 0\n",
    "train.loc[train['languages'] != 'en', ['doc_scores', 'doc_magnitudes']] = 0"
   ]
  },
  {
   "cell_type": "code",
   "execution_count": 19,
   "id": "9428d588",
   "metadata": {},
   "outputs": [],
   "source": [
    "#create a new column that has value 1 if there is a descriptoin for the pet, otherwise 0\n",
    "test['has_descriptoin'] = (~test['doc_scores'].isnull()).astype(int)\n",
    "\n",
    "#fill in missing scores as 0 \n",
    "# in the model, please use the interaction term \"has_description\" * \"docs_scores\" and \"has_description\" * \"doc_magnitudes\"\n",
    "\n",
    "test['doc_scores'] = test['doc_scores'].fillna(0)\n",
    "test['doc_magnitudes'] = test['doc_magnitudes'].fillna(0)\n",
    "\n",
    "#upon examination, results from sentiment analysis for non-english text are outliers (don't make sense), set them to 0\n",
    "test.loc[test['languages'] != 'en', ['doc_scores', 'doc_magnitudes']] = 0"
   ]
  },
  {
   "cell_type": "code",
   "execution_count": 20,
   "id": "f2c91e85",
   "metadata": {},
   "outputs": [],
   "source": [
    "#fill in missing values in langauges \n",
    "train['languages'] = train['languages'].fillna('NA')\n",
    "train['Description'] = train['Description'].fillna('NA')"
   ]
  },
  {
   "cell_type": "code",
   "execution_count": 21,
   "id": "74e16818",
   "metadata": {},
   "outputs": [],
   "source": [
    "#fill in missing values in langauges \n",
    "test['languages'] = test['languages'].fillna('NA')\n",
    "test['Description'] = test['Description'].fillna('NA')"
   ]
  },
  {
   "cell_type": "code",
   "execution_count": 22,
   "id": "64180f1d",
   "metadata": {},
   "outputs": [],
   "source": [
    "#take out the sentence scores from the main train df and preserve them in a new df\n",
    "train_sent_scores_df = train[['PetID','sent_scores','sent_magnitudes']]\n",
    "\n",
    "#take out the sentence scores from the main test df and preserve them in a new df\n",
    "test_sent_scores_df = test[['PetID','sent_scores','sent_magnitudes']]"
   ]
  },
  {
   "cell_type": "code",
   "execution_count": 23,
   "id": "b3c93f29",
   "metadata": {},
   "outputs": [],
   "source": [
    "#drop my petID column as it's a duplicate from PetID, as well as other columns not going into the model\n",
    "train = train.drop(['petID','sent_scores','sent_magnitudes','text'],axis = 1)\n",
    "\n",
    "test = test.drop(['petID','sent_scores','sent_magnitudes','text'],axis = 1)\n"
   ]
  },
  {
   "cell_type": "code",
   "execution_count": 24,
   "id": "5d204ad9",
   "metadata": {},
   "outputs": [
    {
     "data": {
      "text/html": [
       "<div>\n",
       "<style scoped>\n",
       "    .dataframe tbody tr th:only-of-type {\n",
       "        vertical-align: middle;\n",
       "    }\n",
       "\n",
       "    .dataframe tbody tr th {\n",
       "        vertical-align: top;\n",
       "    }\n",
       "\n",
       "    .dataframe thead th {\n",
       "        text-align: right;\n",
       "    }\n",
       "</style>\n",
       "<table border=\"1\" class=\"dataframe\">\n",
       "  <thead>\n",
       "    <tr style=\"text-align: right;\">\n",
       "      <th></th>\n",
       "      <th>Unnamed: 0</th>\n",
       "      <th>Type</th>\n",
       "      <th>Name</th>\n",
       "      <th>Age</th>\n",
       "      <th>Breed1_0</th>\n",
       "      <th>Breed1_1</th>\n",
       "      <th>Breed1_2</th>\n",
       "      <th>Breed1_3</th>\n",
       "      <th>Breed1_4</th>\n",
       "      <th>Breed1_5</th>\n",
       "      <th>...</th>\n",
       "      <th>Black</th>\n",
       "      <th>Brown</th>\n",
       "      <th>Golden</th>\n",
       "      <th>Yellow</th>\n",
       "      <th>Cream</th>\n",
       "      <th>Gray</th>\n",
       "      <th>White</th>\n",
       "      <th>ColorCount</th>\n",
       "      <th>isGeneric_Breed</th>\n",
       "      <th>has_descriptoin</th>\n",
       "    </tr>\n",
       "  </thead>\n",
       "  <tbody>\n",
       "    <tr>\n",
       "      <th>11989</th>\n",
       "      <td>5191</td>\n",
       "      <td>1</td>\n",
       "      <td>Rocky</td>\n",
       "      <td>48</td>\n",
       "      <td>0</td>\n",
       "      <td>0</td>\n",
       "      <td>0</td>\n",
       "      <td>1</td>\n",
       "      <td>1</td>\n",
       "      <td>1</td>\n",
       "      <td>...</td>\n",
       "      <td>1</td>\n",
       "      <td>0</td>\n",
       "      <td>0</td>\n",
       "      <td>0</td>\n",
       "      <td>0</td>\n",
       "      <td>0</td>\n",
       "      <td>0</td>\n",
       "      <td>1</td>\n",
       "      <td>0</td>\n",
       "      <td>1</td>\n",
       "    </tr>\n",
       "    <tr>\n",
       "      <th>11990</th>\n",
       "      <td>13418</td>\n",
       "      <td>1</td>\n",
       "      <td>Hearty</td>\n",
       "      <td>3</td>\n",
       "      <td>0</td>\n",
       "      <td>0</td>\n",
       "      <td>0</td>\n",
       "      <td>0</td>\n",
       "      <td>0</td>\n",
       "      <td>0</td>\n",
       "      <td>...</td>\n",
       "      <td>0</td>\n",
       "      <td>0</td>\n",
       "      <td>0</td>\n",
       "      <td>0</td>\n",
       "      <td>1</td>\n",
       "      <td>0</td>\n",
       "      <td>1</td>\n",
       "      <td>2</td>\n",
       "      <td>1</td>\n",
       "      <td>1</td>\n",
       "    </tr>\n",
       "    <tr>\n",
       "      <th>11991</th>\n",
       "      <td>5390</td>\n",
       "      <td>0</td>\n",
       "      <td>Arwen</td>\n",
       "      <td>12</td>\n",
       "      <td>0</td>\n",
       "      <td>0</td>\n",
       "      <td>0</td>\n",
       "      <td>0</td>\n",
       "      <td>0</td>\n",
       "      <td>0</td>\n",
       "      <td>...</td>\n",
       "      <td>0</td>\n",
       "      <td>0</td>\n",
       "      <td>0</td>\n",
       "      <td>0</td>\n",
       "      <td>0</td>\n",
       "      <td>0</td>\n",
       "      <td>1</td>\n",
       "      <td>1</td>\n",
       "      <td>1</td>\n",
       "      <td>1</td>\n",
       "    </tr>\n",
       "    <tr>\n",
       "      <th>11992</th>\n",
       "      <td>860</td>\n",
       "      <td>0</td>\n",
       "      <td>Shy Kittens</td>\n",
       "      <td>5</td>\n",
       "      <td>0</td>\n",
       "      <td>0</td>\n",
       "      <td>0</td>\n",
       "      <td>0</td>\n",
       "      <td>0</td>\n",
       "      <td>0</td>\n",
       "      <td>...</td>\n",
       "      <td>1</td>\n",
       "      <td>0</td>\n",
       "      <td>0</td>\n",
       "      <td>1</td>\n",
       "      <td>1</td>\n",
       "      <td>0</td>\n",
       "      <td>0</td>\n",
       "      <td>3</td>\n",
       "      <td>1</td>\n",
       "      <td>1</td>\n",
       "    </tr>\n",
       "    <tr>\n",
       "      <th>11993</th>\n",
       "      <td>7270</td>\n",
       "      <td>0</td>\n",
       "      <td>Toby</td>\n",
       "      <td>16</td>\n",
       "      <td>0</td>\n",
       "      <td>0</td>\n",
       "      <td>0</td>\n",
       "      <td>0</td>\n",
       "      <td>0</td>\n",
       "      <td>0</td>\n",
       "      <td>...</td>\n",
       "      <td>1</td>\n",
       "      <td>0</td>\n",
       "      <td>0</td>\n",
       "      <td>0</td>\n",
       "      <td>0</td>\n",
       "      <td>0</td>\n",
       "      <td>1</td>\n",
       "      <td>2</td>\n",
       "      <td>1</td>\n",
       "      <td>1</td>\n",
       "    </tr>\n",
       "  </tbody>\n",
       "</table>\n",
       "<p>5 rows × 91 columns</p>\n",
       "</div>"
      ],
      "text/plain": [
       "       Unnamed: 0  Type         Name  Age  Breed1_0  Breed1_1  Breed1_2  \\\n",
       "11989        5191     1        Rocky   48         0         0         0   \n",
       "11990       13418     1       Hearty    3         0         0         0   \n",
       "11991        5390     0        Arwen   12         0         0         0   \n",
       "11992         860     0  Shy Kittens    5         0         0         0   \n",
       "11993        7270     0         Toby   16         0         0         0   \n",
       "\n",
       "       Breed1_3  Breed1_4  Breed1_5  ...  Black  Brown  Golden  Yellow  Cream  \\\n",
       "11989         1         1         1  ...      1      0       0       0      0   \n",
       "11990         0         0         0  ...      0      0       0       0      1   \n",
       "11991         0         0         0  ...      0      0       0       0      0   \n",
       "11992         0         0         0  ...      1      0       0       1      1   \n",
       "11993         0         0         0  ...      1      0       0       0      0   \n",
       "\n",
       "       Gray  White  ColorCount  isGeneric_Breed  has_descriptoin  \n",
       "11989     0      0           1                0                1  \n",
       "11990     0      1           2                1                1  \n",
       "11991     0      1           1                1                1  \n",
       "11992     0      0           3                1                1  \n",
       "11993     0      1           2                1                1  \n",
       "\n",
       "[5 rows x 91 columns]"
      ]
     },
     "execution_count": 24,
     "metadata": {},
     "output_type": "execute_result"
    }
   ],
   "source": [
    "train.tail()"
   ]
  },
  {
   "cell_type": "code",
   "execution_count": 25,
   "id": "84aa3443",
   "metadata": {},
   "outputs": [
    {
     "data": {
      "text/html": [
       "<div>\n",
       "<style scoped>\n",
       "    .dataframe tbody tr th:only-of-type {\n",
       "        vertical-align: middle;\n",
       "    }\n",
       "\n",
       "    .dataframe tbody tr th {\n",
       "        vertical-align: top;\n",
       "    }\n",
       "\n",
       "    .dataframe thead th {\n",
       "        text-align: right;\n",
       "    }\n",
       "</style>\n",
       "<table border=\"1\" class=\"dataframe\">\n",
       "  <thead>\n",
       "    <tr style=\"text-align: right;\">\n",
       "      <th></th>\n",
       "      <th>Unnamed: 0</th>\n",
       "      <th>Type</th>\n",
       "      <th>Name</th>\n",
       "      <th>Age</th>\n",
       "      <th>Breed1_0</th>\n",
       "      <th>Breed1_1</th>\n",
       "      <th>Breed1_2</th>\n",
       "      <th>Breed1_3</th>\n",
       "      <th>Breed1_4</th>\n",
       "      <th>Breed1_5</th>\n",
       "      <th>...</th>\n",
       "      <th>Black</th>\n",
       "      <th>Brown</th>\n",
       "      <th>Golden</th>\n",
       "      <th>Yellow</th>\n",
       "      <th>Cream</th>\n",
       "      <th>Gray</th>\n",
       "      <th>White</th>\n",
       "      <th>ColorCount</th>\n",
       "      <th>isGeneric_Breed</th>\n",
       "      <th>has_descriptoin</th>\n",
       "    </tr>\n",
       "  </thead>\n",
       "  <tbody>\n",
       "    <tr>\n",
       "      <th>2994</th>\n",
       "      <td>8191</td>\n",
       "      <td>1</td>\n",
       "      <td>Monica</td>\n",
       "      <td>3</td>\n",
       "      <td>0</td>\n",
       "      <td>0</td>\n",
       "      <td>0</td>\n",
       "      <td>0</td>\n",
       "      <td>0</td>\n",
       "      <td>0</td>\n",
       "      <td>...</td>\n",
       "      <td>1</td>\n",
       "      <td>1</td>\n",
       "      <td>0</td>\n",
       "      <td>0</td>\n",
       "      <td>0</td>\n",
       "      <td>0</td>\n",
       "      <td>0</td>\n",
       "      <td>2</td>\n",
       "      <td>1</td>\n",
       "      <td>1</td>\n",
       "    </tr>\n",
       "    <tr>\n",
       "      <th>2995</th>\n",
       "      <td>3297</td>\n",
       "      <td>1</td>\n",
       "      <td>Scott &amp; Tyler</td>\n",
       "      <td>84</td>\n",
       "      <td>0</td>\n",
       "      <td>0</td>\n",
       "      <td>1</td>\n",
       "      <td>0</td>\n",
       "      <td>1</td>\n",
       "      <td>0</td>\n",
       "      <td>...</td>\n",
       "      <td>1</td>\n",
       "      <td>1</td>\n",
       "      <td>0</td>\n",
       "      <td>0</td>\n",
       "      <td>0</td>\n",
       "      <td>0</td>\n",
       "      <td>1</td>\n",
       "      <td>3</td>\n",
       "      <td>0</td>\n",
       "      <td>1</td>\n",
       "    </tr>\n",
       "    <tr>\n",
       "      <th>2996</th>\n",
       "      <td>14107</td>\n",
       "      <td>0</td>\n",
       "      <td>TT (TsingTao)</td>\n",
       "      <td>3</td>\n",
       "      <td>0</td>\n",
       "      <td>0</td>\n",
       "      <td>0</td>\n",
       "      <td>1</td>\n",
       "      <td>0</td>\n",
       "      <td>0</td>\n",
       "      <td>...</td>\n",
       "      <td>1</td>\n",
       "      <td>1</td>\n",
       "      <td>0</td>\n",
       "      <td>0</td>\n",
       "      <td>0</td>\n",
       "      <td>0</td>\n",
       "      <td>0</td>\n",
       "      <td>2</td>\n",
       "      <td>0</td>\n",
       "      <td>1</td>\n",
       "    </tr>\n",
       "    <tr>\n",
       "      <th>2997</th>\n",
       "      <td>5513</td>\n",
       "      <td>1</td>\n",
       "      <td>Boy</td>\n",
       "      <td>60</td>\n",
       "      <td>0</td>\n",
       "      <td>0</td>\n",
       "      <td>0</td>\n",
       "      <td>0</td>\n",
       "      <td>0</td>\n",
       "      <td>1</td>\n",
       "      <td>...</td>\n",
       "      <td>0</td>\n",
       "      <td>0</td>\n",
       "      <td>0</td>\n",
       "      <td>0</td>\n",
       "      <td>1</td>\n",
       "      <td>1</td>\n",
       "      <td>0</td>\n",
       "      <td>2</td>\n",
       "      <td>0</td>\n",
       "      <td>1</td>\n",
       "    </tr>\n",
       "    <tr>\n",
       "      <th>2998</th>\n",
       "      <td>9938</td>\n",
       "      <td>0</td>\n",
       "      <td>Mochi</td>\n",
       "      <td>2</td>\n",
       "      <td>0</td>\n",
       "      <td>0</td>\n",
       "      <td>0</td>\n",
       "      <td>0</td>\n",
       "      <td>0</td>\n",
       "      <td>0</td>\n",
       "      <td>...</td>\n",
       "      <td>1</td>\n",
       "      <td>0</td>\n",
       "      <td>0</td>\n",
       "      <td>0</td>\n",
       "      <td>1</td>\n",
       "      <td>0</td>\n",
       "      <td>1</td>\n",
       "      <td>3</td>\n",
       "      <td>1</td>\n",
       "      <td>1</td>\n",
       "    </tr>\n",
       "  </tbody>\n",
       "</table>\n",
       "<p>5 rows × 91 columns</p>\n",
       "</div>"
      ],
      "text/plain": [
       "      Unnamed: 0  Type           Name  Age  Breed1_0  Breed1_1  Breed1_2  \\\n",
       "2994        8191     1         Monica    3         0         0         0   \n",
       "2995        3297     1  Scott & Tyler   84         0         0         1   \n",
       "2996       14107     0  TT (TsingTao)    3         0         0         0   \n",
       "2997        5513     1            Boy   60         0         0         0   \n",
       "2998        9938     0          Mochi    2         0         0         0   \n",
       "\n",
       "      Breed1_3  Breed1_4  Breed1_5  ...  Black  Brown  Golden  Yellow  Cream  \\\n",
       "2994         0         0         0  ...      1      1       0       0      0   \n",
       "2995         0         1         0  ...      1      1       0       0      0   \n",
       "2996         1         0         0  ...      1      1       0       0      0   \n",
       "2997         0         0         1  ...      0      0       0       0      1   \n",
       "2998         0         0         0  ...      1      0       0       0      1   \n",
       "\n",
       "      Gray  White  ColorCount  isGeneric_Breed  has_descriptoin  \n",
       "2994     0      0           2                1                1  \n",
       "2995     0      1           3                0                1  \n",
       "2996     0      0           2                0                1  \n",
       "2997     1      0           2                0                1  \n",
       "2998     0      1           3                1                1  \n",
       "\n",
       "[5 rows x 91 columns]"
      ]
     },
     "execution_count": 25,
     "metadata": {},
     "output_type": "execute_result"
    }
   ],
   "source": [
    "test.tail()"
   ]
  },
  {
   "cell_type": "code",
   "execution_count": 26,
   "id": "8507cf1a-dc64-4824-a4b2-7740ec794da0",
   "metadata": {
    "scrolled": true
   },
   "outputs": [
    {
     "data": {
      "text/plain": [
       "Index(['Unnamed: 0', 'Type', 'Name', 'Age', 'Breed1_0', 'Breed1_1', 'Breed1_2',\n",
       "       'Breed1_3', 'Breed1_4', 'Breed1_5', 'Breed1_6', 'Breed1_7', 'Breed2_0',\n",
       "       'Breed2_1', 'Breed2_2', 'Breed2_3', 'Breed2_4', 'Breed2_5', 'Breed2_6',\n",
       "       'MaturitySize', 'FurLength', 'Vaccinated_1', 'Vaccinated_2',\n",
       "       'Vaccinated_3', 'Dewormed_1', 'Dewormed_2', 'Dewormed_3',\n",
       "       'Sterilized_1', 'Sterilized_2', 'Sterilized_3', 'Health', 'Quantity',\n",
       "       'Fee', 'StateID_0', 'StateID_1', 'StateID_2', 'StateID_3', 'VideoAmt',\n",
       "       'Description', 'PetID', 'PhotoAmt', 'AdoptionSpeed', 'vertex_xs',\n",
       "       'vertex_ys', 'bounding_confidences', 'bounding_importance_fracs',\n",
       "       'dominant_blues', 'dominant_greens', 'dominant_reds',\n",
       "       'dominant_pixel_fracs'],\n",
       "      dtype='object')"
      ]
     },
     "execution_count": 26,
     "metadata": {},
     "output_type": "execute_result"
    }
   ],
   "source": [
    "train.columns[:50]"
   ]
  },
  {
   "cell_type": "code",
   "execution_count": 27,
   "id": "7eb33def-8a43-408e-b654-2bc65faa60a3",
   "metadata": {},
   "outputs": [
    {
     "data": {
      "text/plain": [
       "Index(['dominant_scores', 'label_descriptions', 'label_scores', 'doc_scores',\n",
       "       'doc_magnitudes', 'languages', 'StateName', 'state_population',\n",
       "       'median_state_income', 'Invalid_name', 'IsTopRescuer', 'RescuerCount',\n",
       "       'Fee_binary', 'Fee_bin_1', 'Fee_bin_2', 'Fee_bin_3', 'Fee_bin_4',\n",
       "       'Quantity_binary', 'Quantity_bin_1', 'Quantity_bin_2', 'Quantity_bin_3',\n",
       "       'Age_guessed', 'Age_bin_1', 'Age_bin_2', 'Age_bin_3', 'Age_bin_4',\n",
       "       'Age_bin_5', 'has_Video', 'has_Photo', 'isMale', 'isFemale', 'Black',\n",
       "       'Brown', 'Golden', 'Yellow', 'Cream', 'Gray', 'White', 'ColorCount',\n",
       "       'isGeneric_Breed', 'has_descriptoin'],\n",
       "      dtype='object')"
      ]
     },
     "execution_count": 27,
     "metadata": {},
     "output_type": "execute_result"
    }
   ],
   "source": [
    "train.columns[50:150]"
   ]
  },
  {
   "cell_type": "markdown",
   "id": "0f1f90be-a33d-4dfe-9ead-141e8c487b75",
   "metadata": {},
   "source": [
    "# Lucy FE/Data Cleaning"
   ]
  },
  {
   "cell_type": "markdown",
   "id": "e6bb4436-a153-4077-a727-c577446a865f",
   "metadata": {},
   "source": [
    "CURRENT FEATURE | ISSUE | ACTION | NEW FEATURE(S) CREATED | ORIGINAL FEATURE\n",
    "-|-|-|-|-\n",
    "'label_descriptions' | nominal (e.g., \"dog\", \"mammal\"), 73 unique, ~2% nulls | fill NA's w/ 'Unknown' & binary encode | 7: 'label_descriptions_0'- 'label_descriptions_6'| drop \n",
    "'languages' | nominal string (5 unique vals) | binary encode | 'languages_1', 'languages_2' | drop \n",
    "'Name' | nominal/string, many unique vals. | transform to binary (0=no name, 1=name)| 'has_name' | drop\n",
    "'Description' | text strings| capture info in sentiment features/embeddings| 'doc_scores', 'has_description', ...  | drop \n",
    "'StateName' | nominal, redundant to binary encoded State Ids | drop | already done: 'State_ID 1' - '3' | drop \n",
    "'PetID' | nominal ID number not meaningful as quantity | retain for reference | – | KEEP "
   ]
  },
  {
   "cell_type": "markdown",
   "id": "8026e83a-af04-4c7a-8c6d-af33984084c0",
   "metadata": {},
   "source": [
    "## Check null values in train & test sets "
   ]
  },
  {
   "cell_type": "code",
   "execution_count": 28,
   "id": "5f019d10-fa8d-4808-8540-9eba076fd6cf",
   "metadata": {},
   "outputs": [
    {
     "name": "stdout",
     "output_type": "stream",
     "text": [
      "Dataframe has 91 columns.\n",
      "1 columns have missing values.\n"
     ]
    },
    {
     "data": {
      "text/html": [
       "<div>\n",
       "<style scoped>\n",
       "    .dataframe tbody tr th:only-of-type {\n",
       "        vertical-align: middle;\n",
       "    }\n",
       "\n",
       "    .dataframe tbody tr th {\n",
       "        vertical-align: top;\n",
       "    }\n",
       "\n",
       "    .dataframe thead th {\n",
       "        text-align: right;\n",
       "    }\n",
       "</style>\n",
       "<table border=\"1\" class=\"dataframe\">\n",
       "  <thead>\n",
       "    <tr style=\"text-align: right;\">\n",
       "      <th></th>\n",
       "      <th>Missing Values</th>\n",
       "      <th>% of Total Values</th>\n",
       "    </tr>\n",
       "  </thead>\n",
       "  <tbody>\n",
       "    <tr>\n",
       "      <th>label_descriptions</th>\n",
       "      <td>269</td>\n",
       "      <td>2.2</td>\n",
       "    </tr>\n",
       "  </tbody>\n",
       "</table>\n",
       "</div>"
      ],
      "text/plain": [
       "                    Missing Values  % of Total Values\n",
       "label_descriptions             269                2.2"
      ]
     },
     "execution_count": 28,
     "metadata": {},
     "output_type": "execute_result"
    }
   ],
   "source": [
    "# define function to count nulls in each col \n",
    "def missing_values_table(df):\n",
    "    mis_val = df.isnull().sum()\n",
    "    mis_val_percent = 100 * df.isnull().sum() / len(df)\n",
    "    mis_val_table = pd.concat([mis_val, mis_val_percent], axis=1)\n",
    "    mis_val_table_ren_columns = mis_val_table.rename(\n",
    "    columns = {0 : 'Missing Values', 1 : '% of Total Values'})\n",
    "    mis_val_table_ren_columns = mis_val_table_ren_columns[\n",
    "        mis_val_table_ren_columns.iloc[:,1] != 0].sort_values(\n",
    "    '% of Total Values', ascending=False).round(1)\n",
    "    print (\"Dataframe has \" + str(df.shape[1]) + \" columns.\\n\"      \n",
    "           + str(mis_val_table_ren_columns.shape[0]) + \" columns have missing values.\")\n",
    "    return mis_val_table_ren_columns\n",
    "\n",
    "missing_values_table(train)"
   ]
  },
  {
   "cell_type": "code",
   "execution_count": 29,
   "id": "0660d34f-2997-4c0f-a405-a136d5fd7182",
   "metadata": {
    "scrolled": true
   },
   "outputs": [
    {
     "name": "stdout",
     "output_type": "stream",
     "text": [
      "Dataframe has 91 columns.\n",
      "1 columns have missing values.\n"
     ]
    },
    {
     "data": {
      "text/html": [
       "<div>\n",
       "<style scoped>\n",
       "    .dataframe tbody tr th:only-of-type {\n",
       "        vertical-align: middle;\n",
       "    }\n",
       "\n",
       "    .dataframe tbody tr th {\n",
       "        vertical-align: top;\n",
       "    }\n",
       "\n",
       "    .dataframe thead th {\n",
       "        text-align: right;\n",
       "    }\n",
       "</style>\n",
       "<table border=\"1\" class=\"dataframe\">\n",
       "  <thead>\n",
       "    <tr style=\"text-align: right;\">\n",
       "      <th></th>\n",
       "      <th>Missing Values</th>\n",
       "      <th>% of Total Values</th>\n",
       "    </tr>\n",
       "  </thead>\n",
       "  <tbody>\n",
       "    <tr>\n",
       "      <th>label_descriptions</th>\n",
       "      <td>74</td>\n",
       "      <td>2.5</td>\n",
       "    </tr>\n",
       "  </tbody>\n",
       "</table>\n",
       "</div>"
      ],
      "text/plain": [
       "                    Missing Values  % of Total Values\n",
       "label_descriptions              74                2.5"
      ]
     },
     "execution_count": 29,
     "metadata": {},
     "output_type": "execute_result"
    }
   ],
   "source": [
    "missing_values_table(test)"
   ]
  },
  {
   "cell_type": "markdown",
   "id": "f6922fe2-413b-49f5-add8-1359d6ab9395",
   "metadata": {},
   "source": [
    "### Fill missing 'label_descriptions' values & binary encode to use in modeling "
   ]
  },
  {
   "cell_type": "code",
   "execution_count": 30,
   "id": "21486999-f771-464a-8583-cc2c2fde184d",
   "metadata": {},
   "outputs": [],
   "source": [
    "# fill NA values in label_descriptions column in with \"Unknown\" class\n",
    "train.label_descriptions.fillna(\"Unknown\", inplace=True)\n",
    "test.label_descriptions.fillna(\"Unknown\", inplace=True)"
   ]
  },
  {
   "cell_type": "code",
   "execution_count": 31,
   "id": "d033bf7e-4a05-4168-9394-986dcfa17b91",
   "metadata": {},
   "outputs": [
    {
     "name": "stdout",
     "output_type": "stream",
     "text": [
      "Dataframe has 91 columns.\n",
      "0 columns have missing values.\n"
     ]
    },
    {
     "data": {
      "text/html": [
       "<div>\n",
       "<style scoped>\n",
       "    .dataframe tbody tr th:only-of-type {\n",
       "        vertical-align: middle;\n",
       "    }\n",
       "\n",
       "    .dataframe tbody tr th {\n",
       "        vertical-align: top;\n",
       "    }\n",
       "\n",
       "    .dataframe thead th {\n",
       "        text-align: right;\n",
       "    }\n",
       "</style>\n",
       "<table border=\"1\" class=\"dataframe\">\n",
       "  <thead>\n",
       "    <tr style=\"text-align: right;\">\n",
       "      <th></th>\n",
       "      <th>Missing Values</th>\n",
       "      <th>% of Total Values</th>\n",
       "    </tr>\n",
       "  </thead>\n",
       "  <tbody>\n",
       "  </tbody>\n",
       "</table>\n",
       "</div>"
      ],
      "text/plain": [
       "Empty DataFrame\n",
       "Columns: [Missing Values, % of Total Values]\n",
       "Index: []"
      ]
     },
     "execution_count": 31,
     "metadata": {},
     "output_type": "execute_result"
    }
   ],
   "source": [
    "# check train \n",
    "missing_values_table(train)"
   ]
  },
  {
   "cell_type": "code",
   "execution_count": 32,
   "id": "2c85efb3-ab2f-414d-b3f0-7b8c52230758",
   "metadata": {},
   "outputs": [
    {
     "name": "stdout",
     "output_type": "stream",
     "text": [
      "Dataframe has 91 columns.\n",
      "0 columns have missing values.\n"
     ]
    },
    {
     "data": {
      "text/html": [
       "<div>\n",
       "<style scoped>\n",
       "    .dataframe tbody tr th:only-of-type {\n",
       "        vertical-align: middle;\n",
       "    }\n",
       "\n",
       "    .dataframe tbody tr th {\n",
       "        vertical-align: top;\n",
       "    }\n",
       "\n",
       "    .dataframe thead th {\n",
       "        text-align: right;\n",
       "    }\n",
       "</style>\n",
       "<table border=\"1\" class=\"dataframe\">\n",
       "  <thead>\n",
       "    <tr style=\"text-align: right;\">\n",
       "      <th></th>\n",
       "      <th>Missing Values</th>\n",
       "      <th>% of Total Values</th>\n",
       "    </tr>\n",
       "  </thead>\n",
       "  <tbody>\n",
       "  </tbody>\n",
       "</table>\n",
       "</div>"
      ],
      "text/plain": [
       "Empty DataFrame\n",
       "Columns: [Missing Values, % of Total Values]\n",
       "Index: []"
      ]
     },
     "execution_count": 32,
     "metadata": {},
     "output_type": "execute_result"
    }
   ],
   "source": [
    "# check test\n",
    "missing_values_table(test)"
   ]
  },
  {
   "cell_type": "code",
   "execution_count": 33,
   "id": "557c3552-fb65-489f-8b9f-3ccbaa88d6a3",
   "metadata": {},
   "outputs": [],
   "source": [
    "# binary encode 'label_descriptions' feature\n",
    "train, test = binary_encoding(train, test, target='label_descriptions')"
   ]
  },
  {
   "cell_type": "code",
   "execution_count": 34,
   "id": "e6ca19ec-3972-44c1-8c86-3f48e0122d50",
   "metadata": {},
   "outputs": [
    {
     "data": {
      "text/plain": [
       "Index(['Unnamed: 0', 'Type', 'Name', 'Age', 'Breed1_0', 'Breed1_1', 'Breed1_2',\n",
       "       'Breed1_3', 'Breed1_4', 'Breed1_5', 'Breed1_6', 'Breed1_7', 'Breed2_0',\n",
       "       'Breed2_1', 'Breed2_2', 'Breed2_3', 'Breed2_4', 'Breed2_5', 'Breed2_6',\n",
       "       'MaturitySize', 'FurLength', 'Vaccinated_1', 'Vaccinated_2',\n",
       "       'Vaccinated_3', 'Dewormed_1', 'Dewormed_2', 'Dewormed_3',\n",
       "       'Sterilized_1', 'Sterilized_2', 'Sterilized_3', 'Health', 'Quantity',\n",
       "       'Fee', 'StateID_0', 'StateID_1', 'StateID_2', 'StateID_3', 'VideoAmt',\n",
       "       'Description', 'PetID', 'PhotoAmt', 'AdoptionSpeed', 'vertex_xs',\n",
       "       'vertex_ys', 'bounding_confidences', 'bounding_importance_fracs',\n",
       "       'dominant_blues', 'dominant_greens', 'dominant_reds',\n",
       "       'dominant_pixel_fracs', 'dominant_scores', 'label_descriptions_0',\n",
       "       'label_descriptions_1', 'label_descriptions_2', 'label_descriptions_3',\n",
       "       'label_descriptions_4', 'label_descriptions_5', 'label_descriptions_6',\n",
       "       'label_scores', 'doc_scores', 'doc_magnitudes', 'languages',\n",
       "       'StateName', 'state_population', 'median_state_income', 'Invalid_name',\n",
       "       'IsTopRescuer', 'RescuerCount', 'Fee_binary', 'Fee_bin_1', 'Fee_bin_2',\n",
       "       'Fee_bin_3', 'Fee_bin_4', 'Quantity_binary', 'Quantity_bin_1',\n",
       "       'Quantity_bin_2', 'Quantity_bin_3', 'Age_guessed', 'Age_bin_1',\n",
       "       'Age_bin_2', 'Age_bin_3', 'Age_bin_4', 'Age_bin_5', 'has_Video',\n",
       "       'has_Photo', 'isMale', 'isFemale', 'Black', 'Brown', 'Golden', 'Yellow',\n",
       "       'Cream', 'Gray', 'White', 'ColorCount', 'isGeneric_Breed',\n",
       "       'has_descriptoin'],\n",
       "      dtype='object')"
      ]
     },
     "execution_count": 34,
     "metadata": {},
     "output_type": "execute_result"
    }
   ],
   "source": [
    "# check train set: created 7 new features (label_descriptions_0 - label_descriptions_6)\n",
    "train.columns "
   ]
  },
  {
   "cell_type": "code",
   "execution_count": 35,
   "id": "2e08c4b8-6cc0-4bf5-b73a-e7cdba2553b8",
   "metadata": {},
   "outputs": [
    {
     "data": {
      "text/plain": [
       "Index(['Unnamed: 0', 'Type', 'Name', 'Age', 'Breed1_0', 'Breed1_1', 'Breed1_2',\n",
       "       'Breed1_3', 'Breed1_4', 'Breed1_5', 'Breed1_6', 'Breed1_7', 'Breed2_0',\n",
       "       'Breed2_1', 'Breed2_2', 'Breed2_3', 'Breed2_4', 'Breed2_5', 'Breed2_6',\n",
       "       'MaturitySize', 'FurLength', 'Vaccinated_1', 'Vaccinated_2',\n",
       "       'Vaccinated_3', 'Dewormed_1', 'Dewormed_2', 'Dewormed_3',\n",
       "       'Sterilized_1', 'Sterilized_2', 'Sterilized_3', 'Health', 'Quantity',\n",
       "       'Fee', 'StateID_0', 'StateID_1', 'StateID_2', 'StateID_3', 'VideoAmt',\n",
       "       'Description', 'PetID', 'PhotoAmt', 'AdoptionSpeed', 'vertex_xs',\n",
       "       'vertex_ys', 'bounding_confidences', 'bounding_importance_fracs',\n",
       "       'dominant_blues', 'dominant_greens', 'dominant_reds',\n",
       "       'dominant_pixel_fracs', 'dominant_scores', 'label_descriptions_0',\n",
       "       'label_descriptions_1', 'label_descriptions_2', 'label_descriptions_3',\n",
       "       'label_descriptions_4', 'label_descriptions_5', 'label_descriptions_6',\n",
       "       'label_scores', 'doc_scores', 'doc_magnitudes', 'languages',\n",
       "       'StateName', 'state_population', 'median_state_income', 'Invalid_name',\n",
       "       'IsTopRescuer', 'RescuerCount', 'Fee_binary', 'Fee_bin_1', 'Fee_bin_2',\n",
       "       'Fee_bin_3', 'Fee_bin_4', 'Quantity_binary', 'Quantity_bin_1',\n",
       "       'Quantity_bin_2', 'Quantity_bin_3', 'Age_guessed', 'Age_bin_1',\n",
       "       'Age_bin_2', 'Age_bin_3', 'Age_bin_4', 'Age_bin_5', 'has_Video',\n",
       "       'has_Photo', 'isMale', 'isFemale', 'Black', 'Brown', 'Golden', 'Yellow',\n",
       "       'Cream', 'Gray', 'White', 'ColorCount', 'isGeneric_Breed',\n",
       "       'has_descriptoin'],\n",
       "      dtype='object')"
      ]
     },
     "execution_count": 35,
     "metadata": {},
     "output_type": "execute_result"
    }
   ],
   "source": [
    "# check test set: created 7 new features (label_descriptions_0 - label_descriptions_6)\n",
    "test.columns "
   ]
  },
  {
   "cell_type": "markdown",
   "id": "349c42bb-1dc3-4d9e-ab27-add130756a7d",
   "metadata": {},
   "source": [
    "### Binary encode 'languages' to use in modeling "
   ]
  },
  {
   "cell_type": "code",
   "execution_count": 36,
   "id": "d7c620e6-23f5-4a72-931c-66bd52916837",
   "metadata": {},
   "outputs": [],
   "source": [
    "# binary encode 'language\"\n",
    "train, test = binary_encoding(train, test, target='languages')"
   ]
  },
  {
   "cell_type": "code",
   "execution_count": 37,
   "id": "b50fd2c6-82e9-47d4-b18a-cd0700c6b978",
   "metadata": {},
   "outputs": [
    {
     "data": {
      "text/plain": [
       "Index(['Unnamed: 0', 'Type', 'Name', 'Age', 'Breed1_0', 'Breed1_1', 'Breed1_2',\n",
       "       'Breed1_3', 'Breed1_4', 'Breed1_5', 'Breed1_6', 'Breed1_7', 'Breed2_0',\n",
       "       'Breed2_1', 'Breed2_2', 'Breed2_3', 'Breed2_4', 'Breed2_5', 'Breed2_6',\n",
       "       'MaturitySize', 'FurLength', 'Vaccinated_1', 'Vaccinated_2',\n",
       "       'Vaccinated_3', 'Dewormed_1', 'Dewormed_2', 'Dewormed_3',\n",
       "       'Sterilized_1', 'Sterilized_2', 'Sterilized_3', 'Health', 'Quantity',\n",
       "       'Fee', 'StateID_0', 'StateID_1', 'StateID_2', 'StateID_3', 'VideoAmt',\n",
       "       'Description', 'PetID', 'PhotoAmt', 'AdoptionSpeed', 'vertex_xs',\n",
       "       'vertex_ys', 'bounding_confidences', 'bounding_importance_fracs',\n",
       "       'dominant_blues', 'dominant_greens', 'dominant_reds',\n",
       "       'dominant_pixel_fracs', 'dominant_scores', 'label_descriptions_0',\n",
       "       'label_descriptions_1', 'label_descriptions_2', 'label_descriptions_3',\n",
       "       'label_descriptions_4', 'label_descriptions_5', 'label_descriptions_6',\n",
       "       'label_scores', 'doc_scores', 'doc_magnitudes', 'languages_0',\n",
       "       'languages_1', 'languages_2', 'StateName', 'state_population',\n",
       "       'median_state_income', 'Invalid_name', 'IsTopRescuer', 'RescuerCount',\n",
       "       'Fee_binary', 'Fee_bin_1', 'Fee_bin_2', 'Fee_bin_3', 'Fee_bin_4',\n",
       "       'Quantity_binary', 'Quantity_bin_1', 'Quantity_bin_2', 'Quantity_bin_3',\n",
       "       'Age_guessed', 'Age_bin_1', 'Age_bin_2', 'Age_bin_3', 'Age_bin_4',\n",
       "       'Age_bin_5', 'has_Video', 'has_Photo', 'isMale', 'isFemale', 'Black',\n",
       "       'Brown', 'Golden', 'Yellow', 'Cream', 'Gray', 'White', 'ColorCount',\n",
       "       'isGeneric_Breed', 'has_descriptoin'],\n",
       "      dtype='object')"
      ]
     },
     "execution_count": 37,
     "metadata": {},
     "output_type": "execute_result"
    }
   ],
   "source": [
    "# check train/test\n",
    "train.columns"
   ]
  },
  {
   "cell_type": "code",
   "execution_count": 38,
   "id": "c3209255-e4b0-486a-9c24-eb16296454e1",
   "metadata": {},
   "outputs": [
    {
     "data": {
      "text/plain": [
       "Index(['Unnamed: 0', 'Type', 'Name', 'Age', 'Breed1_0', 'Breed1_1', 'Breed1_2',\n",
       "       'Breed1_3', 'Breed1_4', 'Breed1_5', 'Breed1_6', 'Breed1_7', 'Breed2_0',\n",
       "       'Breed2_1', 'Breed2_2', 'Breed2_3', 'Breed2_4', 'Breed2_5', 'Breed2_6',\n",
       "       'MaturitySize', 'FurLength', 'Vaccinated_1', 'Vaccinated_2',\n",
       "       'Vaccinated_3', 'Dewormed_1', 'Dewormed_2', 'Dewormed_3',\n",
       "       'Sterilized_1', 'Sterilized_2', 'Sterilized_3', 'Health', 'Quantity',\n",
       "       'Fee', 'StateID_0', 'StateID_1', 'StateID_2', 'StateID_3', 'VideoAmt',\n",
       "       'Description', 'PetID', 'PhotoAmt', 'AdoptionSpeed', 'vertex_xs',\n",
       "       'vertex_ys', 'bounding_confidences', 'bounding_importance_fracs',\n",
       "       'dominant_blues', 'dominant_greens', 'dominant_reds',\n",
       "       'dominant_pixel_fracs', 'dominant_scores', 'label_descriptions_0',\n",
       "       'label_descriptions_1', 'label_descriptions_2', 'label_descriptions_3',\n",
       "       'label_descriptions_4', 'label_descriptions_5', 'label_descriptions_6',\n",
       "       'label_scores', 'doc_scores', 'doc_magnitudes', 'languages_0',\n",
       "       'languages_1', 'languages_2', 'StateName', 'state_population',\n",
       "       'median_state_income', 'Invalid_name', 'IsTopRescuer', 'RescuerCount',\n",
       "       'Fee_binary', 'Fee_bin_1', 'Fee_bin_2', 'Fee_bin_3', 'Fee_bin_4',\n",
       "       'Quantity_binary', 'Quantity_bin_1', 'Quantity_bin_2', 'Quantity_bin_3',\n",
       "       'Age_guessed', 'Age_bin_1', 'Age_bin_2', 'Age_bin_3', 'Age_bin_4',\n",
       "       'Age_bin_5', 'has_Video', 'has_Photo', 'isMale', 'isFemale', 'Black',\n",
       "       'Brown', 'Golden', 'Yellow', 'Cream', 'Gray', 'White', 'ColorCount',\n",
       "       'isGeneric_Breed', 'has_descriptoin'],\n",
       "      dtype='object')"
      ]
     },
     "execution_count": 38,
     "metadata": {},
     "output_type": "execute_result"
    }
   ],
   "source": [
    "test.columns"
   ]
  },
  {
   "cell_type": "markdown",
   "id": "0493206e-3548-4ce2-8924-269c8a9827cd",
   "metadata": {},
   "source": [
    "### ~~'Name': transform to binary (0=no name, 1=name)~~ (TBD)"
   ]
  },
  {
   "cell_type": "markdown",
   "id": "8a907d40-acd4-4a57-a4d9-125167c1a11f",
   "metadata": {},
   "source": [
    "### Drop unused categorical features (transformed to new features)"
   ]
  },
  {
   "cell_type": "code",
   "execution_count": 39,
   "id": "f6251daf-b465-4622-9efd-db98d0b5ab6d",
   "metadata": {},
   "outputs": [],
   "source": [
    "train = train.drop(['Unnamed: 0','Name','Description','StateName'], axis=1)\n",
    "test = test.drop(['Unnamed: 0','Name','Description','StateName'], axis=1)"
   ]
  },
  {
   "cell_type": "code",
   "execution_count": 40,
   "id": "6428067a-e020-4592-8c4b-735144a7e181",
   "metadata": {},
   "outputs": [
    {
     "name": "stdout",
     "output_type": "stream",
     "text": [
      "Index(['Type', 'Age', 'Breed1_0', 'Breed1_1', 'Breed1_2', 'Breed1_3',\n",
      "       'Breed1_4', 'Breed1_5', 'Breed1_6', 'Breed1_7', 'Breed2_0', 'Breed2_1',\n",
      "       'Breed2_2', 'Breed2_3', 'Breed2_4', 'Breed2_5', 'Breed2_6',\n",
      "       'MaturitySize', 'FurLength', 'Vaccinated_1', 'Vaccinated_2',\n",
      "       'Vaccinated_3', 'Dewormed_1', 'Dewormed_2', 'Dewormed_3',\n",
      "       'Sterilized_1', 'Sterilized_2', 'Sterilized_3', 'Health', 'Quantity',\n",
      "       'Fee', 'StateID_0', 'StateID_1', 'StateID_2', 'StateID_3', 'VideoAmt',\n",
      "       'PetID', 'PhotoAmt', 'AdoptionSpeed', 'vertex_xs', 'vertex_ys',\n",
      "       'bounding_confidences', 'bounding_importance_fracs', 'dominant_blues',\n",
      "       'dominant_greens', 'dominant_reds', 'dominant_pixel_fracs',\n",
      "       'dominant_scores', 'label_descriptions_0', 'label_descriptions_1'],\n",
      "      dtype='object')\n",
      "Index(['label_descriptions_2', 'label_descriptions_3', 'label_descriptions_4',\n",
      "       'label_descriptions_5', 'label_descriptions_6', 'label_scores',\n",
      "       'doc_scores', 'doc_magnitudes', 'languages_0', 'languages_1',\n",
      "       'languages_2', 'state_population', 'median_state_income',\n",
      "       'Invalid_name', 'IsTopRescuer', 'RescuerCount', 'Fee_binary',\n",
      "       'Fee_bin_1', 'Fee_bin_2', 'Fee_bin_3', 'Fee_bin_4', 'Quantity_binary',\n",
      "       'Quantity_bin_1', 'Quantity_bin_2', 'Quantity_bin_3', 'Age_guessed',\n",
      "       'Age_bin_1', 'Age_bin_2', 'Age_bin_3', 'Age_bin_4', 'Age_bin_5',\n",
      "       'has_Video', 'has_Photo', 'isMale', 'isFemale', 'Black', 'Brown',\n",
      "       'Golden', 'Yellow', 'Cream', 'Gray', 'White', 'ColorCount',\n",
      "       'isGeneric_Breed', 'has_descriptoin'],\n",
      "      dtype='object')\n",
      "Index(['Type', 'Age', 'Breed1_0', 'Breed1_1', 'Breed1_2', 'Breed1_3',\n",
      "       'Breed1_4', 'Breed1_5', 'Breed1_6', 'Breed1_7', 'Breed2_0', 'Breed2_1',\n",
      "       'Breed2_2', 'Breed2_3', 'Breed2_4', 'Breed2_5', 'Breed2_6',\n",
      "       'MaturitySize', 'FurLength', 'Vaccinated_1', 'Vaccinated_2',\n",
      "       'Vaccinated_3', 'Dewormed_1', 'Dewormed_2', 'Dewormed_3',\n",
      "       'Sterilized_1', 'Sterilized_2', 'Sterilized_3', 'Health', 'Quantity',\n",
      "       'Fee', 'StateID_0', 'StateID_1', 'StateID_2', 'StateID_3', 'VideoAmt',\n",
      "       'PetID', 'PhotoAmt', 'AdoptionSpeed', 'vertex_xs', 'vertex_ys',\n",
      "       'bounding_confidences', 'bounding_importance_fracs', 'dominant_blues',\n",
      "       'dominant_greens', 'dominant_reds', 'dominant_pixel_fracs',\n",
      "       'dominant_scores', 'label_descriptions_0', 'label_descriptions_1'],\n",
      "      dtype='object')\n",
      "Index(['label_descriptions_2', 'label_descriptions_3', 'label_descriptions_4',\n",
      "       'label_descriptions_5', 'label_descriptions_6', 'label_scores',\n",
      "       'doc_scores', 'doc_magnitudes', 'languages_0', 'languages_1',\n",
      "       'languages_2', 'state_population', 'median_state_income',\n",
      "       'Invalid_name', 'IsTopRescuer', 'RescuerCount', 'Fee_binary',\n",
      "       'Fee_bin_1', 'Fee_bin_2', 'Fee_bin_3', 'Fee_bin_4', 'Quantity_binary',\n",
      "       'Quantity_bin_1', 'Quantity_bin_2', 'Quantity_bin_3', 'Age_guessed',\n",
      "       'Age_bin_1', 'Age_bin_2', 'Age_bin_3', 'Age_bin_4', 'Age_bin_5',\n",
      "       'has_Video', 'has_Photo', 'isMale', 'isFemale', 'Black', 'Brown',\n",
      "       'Golden', 'Yellow', 'Cream', 'Gray', 'White', 'ColorCount',\n",
      "       'isGeneric_Breed', 'has_descriptoin'],\n",
      "      dtype='object')\n"
     ]
    }
   ],
   "source": [
    "print(train.columns[:50])\n",
    "print(train.columns[50:100])\n",
    "print(test.columns[:50])\n",
    "print(test.columns[50:100])"
   ]
  },
  {
   "cell_type": "markdown",
   "id": "0845e229-c7bf-406f-99a8-0e84e7fb329e",
   "metadata": {},
   "source": [
    "### Check column data types "
   ]
  },
  {
   "cell_type": "code",
   "execution_count": 41,
   "id": "463bbdb5-dd48-4823-b5cc-f136e4e7d301",
   "metadata": {},
   "outputs": [
    {
     "name": "stdout",
     "output_type": "stream",
     "text": [
      "Type                           int64\n",
      "Age                            int64\n",
      "Breed1_0                       int64\n",
      "Breed1_1                       int64\n",
      "Breed1_2                       int64\n",
      "Breed1_3                       int64\n",
      "Breed1_4                       int64\n",
      "Breed1_5                       int64\n",
      "Breed1_6                       int64\n",
      "Breed1_7                       int64\n",
      "Breed2_0                       int64\n",
      "Breed2_1                       int64\n",
      "Breed2_2                       int64\n",
      "Breed2_3                       int64\n",
      "Breed2_4                       int64\n",
      "Breed2_5                       int64\n",
      "Breed2_6                       int64\n",
      "MaturitySize                   int64\n",
      "FurLength                      int64\n",
      "Vaccinated_1                   int64\n",
      "Vaccinated_2                   int64\n",
      "Vaccinated_3                   int64\n",
      "Dewormed_1                     int64\n",
      "Dewormed_2                     int64\n",
      "Dewormed_3                     int64\n",
      "Sterilized_1                   int64\n",
      "Sterilized_2                   int64\n",
      "Sterilized_3                   int64\n",
      "Health                         int64\n",
      "Quantity                       int64\n",
      "Fee                            int64\n",
      "StateID_0                      int64\n",
      "StateID_1                      int64\n",
      "StateID_2                      int64\n",
      "StateID_3                      int64\n",
      "VideoAmt                       int64\n",
      "PetID                         object\n",
      "PhotoAmt                     float64\n",
      "AdoptionSpeed                  int64\n",
      "vertex_xs                      int64\n",
      "vertex_ys                      int64\n",
      "bounding_confidences         float64\n",
      "bounding_importance_fracs    float64\n",
      "dominant_blues                 int64\n",
      "dominant_greens                int64\n",
      "dominant_reds                  int64\n",
      "dominant_pixel_fracs         float64\n",
      "dominant_scores              float64\n",
      "label_descriptions_0           int64\n",
      "label_descriptions_1           int64\n",
      "dtype: object\n",
      "label_descriptions_2      int64\n",
      "label_descriptions_3      int64\n",
      "label_descriptions_4      int64\n",
      "label_descriptions_5      int64\n",
      "label_descriptions_6      int64\n",
      "label_scores            float64\n",
      "doc_scores              float64\n",
      "doc_magnitudes          float64\n",
      "languages_0               int64\n",
      "languages_1               int64\n",
      "languages_2               int64\n",
      "state_population          int64\n",
      "median_state_income     float64\n",
      "Invalid_name              int64\n",
      "IsTopRescuer              int64\n",
      "RescuerCount            float64\n",
      "Fee_binary                int64\n",
      "Fee_bin_1                 int64\n",
      "Fee_bin_2                 int64\n",
      "Fee_bin_3                 int64\n",
      "Fee_bin_4                 int64\n",
      "Quantity_binary           int64\n",
      "Quantity_bin_1            int64\n",
      "Quantity_bin_2            int64\n",
      "Quantity_bin_3            int64\n",
      "Age_guessed               int64\n",
      "Age_bin_1                 int64\n",
      "Age_bin_2                 int64\n",
      "Age_bin_3                 int64\n",
      "Age_bin_4                 int64\n",
      "Age_bin_5                 int64\n",
      "has_Video                 int64\n",
      "has_Photo                 int64\n",
      "isMale                    int64\n",
      "isFemale                  int64\n",
      "Black                     int64\n",
      "Brown                     int64\n",
      "Golden                    int64\n",
      "Yellow                    int64\n",
      "Cream                     int64\n",
      "Gray                      int64\n",
      "White                     int64\n",
      "ColorCount                int64\n",
      "isGeneric_Breed           int64\n",
      "has_descriptoin           int64\n",
      "dtype: object\n"
     ]
    }
   ],
   "source": [
    "print(test.dtypes[0:50])\n",
    "print(test.dtypes[50:100])"
   ]
  },
  {
   "cell_type": "markdown",
   "id": "9769931e",
   "metadata": {},
   "source": [
    "## Output files"
   ]
  },
  {
   "cell_type": "code",
   "execution_count": 42,
   "id": "78adfc1c",
   "metadata": {},
   "outputs": [],
   "source": [
    "# train\n",
    "train.to_csv('split_train_clean.csv')"
   ]
  },
  {
   "cell_type": "code",
   "execution_count": 43,
   "id": "6bd7e861",
   "metadata": {},
   "outputs": [],
   "source": [
    "# test \n",
    "test.to_csv('split_test_clean.csv')"
   ]
  },
  {
   "cell_type": "code",
   "execution_count": null,
   "id": "441a5efe-bb9b-419d-a941-e34de46c81ea",
   "metadata": {},
   "outputs": [],
   "source": []
  }
 ],
 "metadata": {
  "kernelspec": {
   "display_name": "Python 3 (ipykernel)",
   "language": "python",
   "name": "python3"
  },
  "language_info": {
   "codemirror_mode": {
    "name": "ipython",
    "version": 3
   },
   "file_extension": ".py",
   "mimetype": "text/x-python",
   "name": "python",
   "nbconvert_exporter": "python",
   "pygments_lexer": "ipython3",
   "version": "3.9.16"
  },
  "toc": {
   "base_numbering": 1,
   "nav_menu": {},
   "number_sections": true,
   "sideBar": true,
   "skip_h1_title": false,
   "title_cell": "Table of Contents",
   "title_sidebar": "Contents",
   "toc_cell": false,
   "toc_position": {},
   "toc_section_display": true,
   "toc_window_display": false
  }
 },
 "nbformat": 4,
 "nbformat_minor": 5
}

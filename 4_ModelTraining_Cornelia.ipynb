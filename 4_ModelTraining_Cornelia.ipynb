{
 "cells": [
  {
   "cell_type": "markdown",
   "id": "1b2ca285",
   "metadata": {},
   "source": [
    "# Model Training\n",
    "We aim to use the following models:\n",
    "\n",
    "1. Decision Trees \n",
    "2. Random Forest\n",
    "3. Neural Nets\n",
    "4. Pre-trained Transformers \n"
   ]
  },
  {
   "cell_type": "code",
   "execution_count": 1,
   "id": "4bed0e98",
   "metadata": {},
   "outputs": [
    {
     "name": "stderr",
     "output_type": "stream",
     "text": [
      "/Users/lucymherr/miniforge3/envs/w207_final/lib/python3.9/site-packages/tensorflow_addons/utils/tfa_eol_msg.py:23: UserWarning: \n",
      "\n",
      "TensorFlow Addons (TFA) has ended development and introduction of new features.\n",
      "TFA has entered a minimal maintenance and release mode until a planned end of life in May 2024.\n",
      "Please modify downstream libraries to take dependencies from other repositories in our TensorFlow community (e.g. Keras, Keras-CV, and Keras-NLP). \n",
      "\n",
      "For more information see: https://github.com/tensorflow/addons/issues/2807 \n",
      "\n",
      "  warnings.warn(\n",
      "Using `tqdm.autonotebook.tqdm` in notebook mode. Use `tqdm.tqdm` instead to force console mode (e.g. in jupyter console)\n",
      "Importing display from IPython.core.display is deprecated since IPython 7.14, please import from IPython display\n"
     ]
    }
   ],
   "source": [
    "# Standard\n",
    "import pandas as pd\n",
    "import numpy as np \n",
    "\n",
    "# sklearn\n",
    "from sklearn.preprocessing import StandardScaler\n",
    "from sklearn.model_selection import train_test_split\n",
    "from sklearn.metrics import precision_score, recall_score, f1_score\n",
    "from sklearn import tree\n",
    "from sklearn.tree import DecisionTreeClassifier\n",
    "\n",
    "# tf and keras\n",
    "import tensorflow as tf\n",
    "import tensorflow_addons as tfa\n",
    "from tensorflow import keras\n",
    "from tensorflow.keras import Sequential\n",
    "from tensorflow.keras import initializers\n",
    "from tensorflow.keras.layers import InputLayer\n",
    "from tensorflow.keras.layers import Input\n",
    "from tensorflow.keras.layers import Dense\n",
    "from tensorflow.keras.layers import Embedding\n",
    "from tensorflow.keras.layers import GlobalAveragePooling1D\n",
    "from tensorflow.keras.layers import Dropout\n",
    "from tensorflow.keras.optimizers import Adam\n",
    "from tensorflow.keras.callbacks import EarlyStopping\n",
    "\n",
    "# shap\n",
    "import shap\n",
    "\n",
    "# plots and images\n",
    "import seaborn as sns\n",
    "import matplotlib.pyplot as plt\n",
    "from IPython.core.display import Image, display\n",
    "\n",
    "import warnings\n",
    "warnings.filterwarnings(\"ignore\")"
   ]
  },
  {
   "cell_type": "markdown",
   "id": "a5b765cb",
   "metadata": {},
   "source": [
    "# Load and prepare data"
   ]
  },
  {
   "cell_type": "code",
   "execution_count": 2,
   "id": "0ff311de",
   "metadata": {},
   "outputs": [
    {
     "name": "stdout",
     "output_type": "stream",
     "text": [
      "Shape of train file: (11994, 96)\n",
      "Shape of test file: (2999, 96)\n"
     ]
    }
   ],
   "source": [
    "# Load train file\n",
    "train_file =  'split_train_clean.csv' #'mids-207-final-project-summer23-Rueda-Sambrailo-Herr-Liu-Kuehl/split_train_clean.csv' \n",
    "train = pd.read_csv(train_file)\n",
    "\n",
    "# Load test file\n",
    "test_file = 'split_test_clean.csv' #'mids-207-final-project-summer23-Rueda-Sambrailo-Herr-Liu-Kuehl/split_test_clean.csv'\n",
    "test = pd.read_csv(test_file)\n",
    "\n",
    "print(f'Shape of train file: {train.shape}')\n",
    "print(f'Shape of test file: {test.shape}')"
   ]
  },
  {
   "cell_type": "code",
   "execution_count": 3,
   "id": "b7a1e3b6",
   "metadata": {},
   "outputs": [
    {
     "name": "stdout",
     "output_type": "stream",
     "text": [
      " Number of missing data points pre: 0\n",
      " Number of missing data points post: 0\n"
     ]
    }
   ],
   "source": [
    "# Input data\n",
    "print(f' Number of missing data points pre: {sum(train.isna().sum())}')\n",
    "\n",
    "# Drop NAs\n",
    "train = train.dropna()\n",
    "\n",
    "print(f' Number of missing data points post: {sum(train.isna().sum())}')"
   ]
  },
  {
   "cell_type": "code",
   "execution_count": 4,
   "id": "c3ad72c1",
   "metadata": {},
   "outputs": [
    {
     "data": {
      "text/plain": [
       "AdoptionSpeed\n",
       "3    3364\n",
       "1    3231\n",
       "0    2781\n",
       "2    2618\n",
       "Name: count, dtype: int64"
      ]
     },
     "execution_count": 4,
     "metadata": {},
     "output_type": "execute_result"
    }
   ],
   "source": [
    "# Group 0 & 1 and relabel target variable in train and test\n",
    "relabel_dict = { 0:0, 1:0, 2:1, 3:2, 4:3}\n",
    "train['AdoptionSpeed'] = train['AdoptionSpeed'].map(relabel_dict)\n",
    "test['AdoptionSpeed'] = test['AdoptionSpeed'].map(relabel_dict)\n",
    "\n",
    "# Value counts of re-labeled AdoptionSpeed\n",
    "train['AdoptionSpeed'].value_counts()"
   ]
  },
  {
   "cell_type": "code",
   "execution_count": 5,
   "id": "b5c14e51",
   "metadata": {},
   "outputs": [
    {
     "name": "stdout",
     "output_type": "stream",
     "text": [
      "After downsampling, our data contains 9400 pets and 96 columns\n"
     ]
    }
   ],
   "source": [
    "group_size = 2350\n",
    "\n",
    "# Downsample so all 4 categories have equal reviews in train\n",
    "temp_0 = train[train.AdoptionSpeed.eq(0)].sample(\n",
    "    n=group_size,\n",
    "    replace=False)\n",
    "\n",
    "temp_1 = train[train.AdoptionSpeed.eq(1)].sample(\n",
    "    n=group_size,\n",
    "    replace=False)\n",
    "\n",
    "temp_2 = train[train.AdoptionSpeed.eq(2)].sample(\n",
    "    n=group_size,\n",
    "    replace=False)\n",
    "\n",
    "temp_3 = train[train.AdoptionSpeed.eq(3)].sample(\n",
    "    n=group_size,\n",
    "    replace=False)\n",
    "\n",
    "train_bal = pd.concat(\n",
    "    [temp_0, temp_1, temp_2, temp_3],\n",
    "    axis=0)\n",
    "\n",
    "# shuffle df_balanced\n",
    "train_bal.sample(frac=1) # frac=1 retains all the data\n",
    "train_bal.reset_index(drop=True, inplace=True) # reset index\n",
    "\n",
    "print('After downsampling, our data contains', train_bal.shape[0], 'pets and', train_bal.shape[1], 'columns')"
   ]
  },
  {
   "cell_type": "code",
   "execution_count": 6,
   "id": "55da3684",
   "metadata": {},
   "outputs": [
    {
     "name": "stdout",
     "output_type": "stream",
     "text": [
      "Shape of X_train: (9400, 95)\n",
      "Shape of y_train: (9400,)\n",
      "Shape of X_test: (2999, 95)\n",
      "Shape of y_test: (2999,)\n"
     ]
    }
   ],
   "source": [
    "# Train data\n",
    "y_train = train_bal['AdoptionSpeed']\n",
    "y_train = np.array(y_train)\n",
    "X_train = train_bal.drop('AdoptionSpeed', axis=1)\n",
    "\n",
    "# Test data\n",
    "y_test = test['AdoptionSpeed']\n",
    "y_test = np.array(y_test)\n",
    "X_test = test.drop('AdoptionSpeed', axis=1)\n",
    "\n",
    "# Print statement\n",
    "print(f'Shape of X_train: {X_train.shape}')\n",
    "print(f'Shape of y_train: {y_train.shape}')\n",
    "print(f'Shape of X_test: {X_test.shape}')\n",
    "print(f'Shape of y_test: {y_test.shape}')"
   ]
  },
  {
   "cell_type": "code",
   "execution_count": 7,
   "id": "3e129368",
   "metadata": {},
   "outputs": [],
   "source": [
    "X_train_1, X_val, y_train_1, y_val = train_test_split(X_train, y_train, test_size=0.20, random_state=42)"
   ]
  },
  {
   "cell_type": "code",
   "execution_count": null,
   "id": "22de0793",
   "metadata": {},
   "outputs": [],
   "source": [
    "# Encode target variable for train and test \n",
    "#y_train_cat = tf.keras.utils.to_categorical(y_train, num_classes=4)\n",
    "#y_test_cat = tf.keras.utils.to_categorical(y_test, num_classes=4)"
   ]
  },
  {
   "cell_type": "markdown",
   "id": "483e12d5",
   "metadata": {},
   "source": [
    "# Neural Networks"
   ]
  },
  {
   "cell_type": "markdown",
   "id": "e6c4f303",
   "metadata": {},
   "source": [
    "## NN pre-processing"
   ]
  },
  {
   "cell_type": "code",
   "execution_count": 8,
   "id": "4f8cefe8",
   "metadata": {},
   "outputs": [
    {
     "name": "stdout",
     "output_type": "stream",
     "text": [
      "Train cols: Index(['Unnamed: 0', 'Type', 'Age', 'Breed1_0', 'Breed1_1', 'Breed1_2',\n",
      "       'Breed1_3', 'Breed1_4', 'Breed1_5', 'Breed1_6', 'Breed1_7', 'Breed2_0',\n",
      "       'Breed2_1', 'Breed2_2', 'Breed2_3', 'Breed2_4', 'Breed2_5', 'Breed2_6',\n",
      "       'MaturitySize', 'FurLength', 'Vaccinated_1', 'Vaccinated_2',\n",
      "       'Vaccinated_3', 'Dewormed_1', 'Dewormed_2', 'Dewormed_3',\n",
      "       'Sterilized_1', 'Sterilized_2', 'Sterilized_3', 'Health', 'Quantity',\n",
      "       'Fee', 'StateID_0', 'StateID_1', 'StateID_2', 'StateID_3', 'VideoAmt',\n",
      "       'PetID', 'PhotoAmt', 'vertex_xs', 'vertex_ys', 'bounding_confidences',\n",
      "       'bounding_importance_fracs', 'dominant_blues', 'dominant_greens',\n",
      "       'dominant_reds', 'dominant_pixel_fracs', 'dominant_scores',\n",
      "       'label_descriptions_0', 'label_descriptions_1', 'label_descriptions_2',\n",
      "       'label_descriptions_3', 'label_descriptions_4', 'label_descriptions_5',\n",
      "       'label_descriptions_6', 'label_scores', 'doc_scores', 'doc_magnitudes',\n",
      "       'languages_0', 'languages_1', 'languages_2', 'state_population',\n",
      "       'median_state_income', 'Invalid_name', 'IsTopRescuer', 'RescuerCount',\n",
      "       'Fee_binary', 'Fee_bin_1', 'Fee_bin_2', 'Fee_bin_3', 'Fee_bin_4',\n",
      "       'Quantity_binary', 'Quantity_bin_1', 'Quantity_bin_2', 'Quantity_bin_3',\n",
      "       'Age_guessed', 'Age_bin_1', 'Age_bin_2', 'Age_bin_3', 'Age_bin_4',\n",
      "       'Age_bin_5', 'has_Video', 'has_Photo', 'isMale', 'isFemale', 'Black',\n",
      "       'Brown', 'Golden', 'Yellow', 'Cream', 'Gray', 'White', 'ColorCount',\n",
      "       'isGeneric_Breed', 'has_descriptoin'],\n",
      "      dtype='object')\n"
     ]
    }
   ],
   "source": [
    "print(f'Train cols: {X_train.columns}')"
   ]
  },
  {
   "cell_type": "code",
   "execution_count": 9,
   "id": "e331fc7c",
   "metadata": {},
   "outputs": [
    {
     "name": "stdout",
     "output_type": "stream",
     "text": [
      "Shape of X_train before dropping: (9400, 95)\n",
      "Index(['Type', 'Age', 'Breed1_0', 'Breed1_1', 'Breed1_2', 'Breed1_3',\n",
      "       'Breed1_4', 'Breed1_5', 'Breed1_6', 'Breed1_7', 'Breed2_0', 'Breed2_1',\n",
      "       'Breed2_2', 'Breed2_3', 'Breed2_4', 'Breed2_5', 'Breed2_6',\n",
      "       'MaturitySize', 'FurLength', 'Vaccinated_1', 'Vaccinated_2',\n",
      "       'Vaccinated_3', 'Dewormed_1', 'Dewormed_2', 'Dewormed_3',\n",
      "       'Sterilized_1', 'Sterilized_2', 'Sterilized_3', 'Health', 'Quantity',\n",
      "       'Fee', 'StateID_0', 'StateID_1', 'StateID_2', 'StateID_3', 'VideoAmt',\n",
      "       'PhotoAmt', 'label_descriptions_0', 'label_descriptions_1',\n",
      "       'label_descriptions_2', 'label_descriptions_3', 'label_descriptions_4',\n",
      "       'label_descriptions_5', 'label_descriptions_6', 'doc_scores',\n",
      "       'doc_magnitudes', 'languages_0', 'languages_1', 'languages_2',\n",
      "       'state_population', 'median_state_income', 'Invalid_name',\n",
      "       'IsTopRescuer', 'RescuerCount', 'Fee_binary', 'Fee_bin_1', 'Fee_bin_2',\n",
      "       'Fee_bin_3', 'Fee_bin_4', 'Quantity_binary', 'Quantity_bin_1',\n",
      "       'Quantity_bin_2', 'Quantity_bin_3', 'Age_guessed', 'Age_bin_1',\n",
      "       'Age_bin_2', 'Age_bin_3', 'Age_bin_4', 'Age_bin_5', 'has_Video',\n",
      "       'isMale', 'isFemale', 'Black', 'Brown', 'Golden', 'Yellow', 'Cream',\n",
      "       'Gray', 'White', 'ColorCount', 'isGeneric_Breed'],\n",
      "      dtype='object')\n",
      "Shape of X_train after dropping: (9400, 81)\n",
      "Shape of X_test: (2999, 81)\n"
     ]
    }
   ],
   "source": [
    "# Print statements\n",
    "print(f'Shape of X_train before dropping: {X_train.shape}')\n",
    "\n",
    "# Drop columns \n",
    "# drop_cols = ['Unnamed: 0.1', 'Unnamed: 0', 'Name', \n",
    "#              'Description', 'PetID', 'vertex_xs', 'vertex_ys', 'bounding_confidences',\n",
    "#              'bounding_importance_fracs', 'dominant_blues', 'dominant_greens','dominant_reds', \n",
    "#              'dominant_pixel_fracs','dominant_scores', 'label_descriptions', 'label_scores',\n",
    "#              'languages','StateName', 'has_Photo', 'has_descriptoin']\n",
    "drop_cols = ['Unnamed: 0', 'PetID', 'vertex_xs', 'vertex_ys', 'bounding_confidences',\n",
    "             'bounding_importance_fracs', 'dominant_blues', 'dominant_greens','dominant_reds', \n",
    "             'dominant_pixel_fracs','dominant_scores', 'label_scores', 'has_Photo', 'has_descriptoin']\n",
    "\n",
    "X_train.drop(columns = drop_cols, axis = 1, inplace=True)\n",
    "X_test.drop(columns = drop_cols, axis = 1, inplace=True)\n",
    "\n",
    "\n",
    "# Reduced dataset excluding bins & others\n",
    "drop_add_cols = ['Dewormed_1', 'Dewormed_2', 'Dewormed_3', 'Black',\n",
    "                 'Brown', 'Golden', 'Yellow', 'Cream', 'Gray', 'White',\n",
    "                 'Fee_bin_1', 'Fee_bin_2', 'Fee_bin_3', 'Fee_bin_4',\n",
    "                 'Quantity_bin_1', 'Quantity_bin_2', 'Quantity_bin_3',\n",
    "                 'Age_bin_1', 'Age_bin_2', 'Age_bin_3', 'Age_bin_4', 'Age_bin_5']\n",
    "\n",
    "#X_train.drop(columns = drop_add_cols, axis = 1, inplace=True)\n",
    "#X_test.drop(columns = drop_add_cols, axis = 1, inplace=True)\n",
    "\n",
    "\n",
    "# Print statements\n",
    "print(X_train.columns)\n",
    "print(f'Shape of X_train after dropping: {X_train.shape}')\n",
    "print(f'Shape of X_test: {X_test.shape}')"
   ]
  },
  {
   "cell_type": "code",
   "execution_count": 10,
   "id": "474b673f",
   "metadata": {},
   "outputs": [],
   "source": [
    "# Apply StandadScaler\n",
    "scaler = StandardScaler()\n",
    "X_train_std = scaler.fit_transform(X_train)\n",
    "# X_test_std = scaler.transform(X_test)"
   ]
  },
  {
   "cell_type": "code",
   "execution_count": 11,
   "id": "dd400ab9",
   "metadata": {},
   "outputs": [
    {
     "data": {
      "text/plain": [
       "array([ 0.9086238 , -0.48560169, -0.08907753, -0.18281489, -0.24953341,\n",
       "       -0.40774146, -0.36348442, -0.5147534 , -0.82266329,  0.89504822,\n",
       "       -0.11561934, -0.177464  , -0.2032744 , -0.23951582, -0.30893919,\n",
       "        1.88469046, -2.1026155 , -1.5587341 , -0.78261287,  1.04127672,\n",
       "       -0.37593981, -0.81035769,  1.46921821, -1.13967126, -0.36647885,\n",
       "        0.68951836, -0.36310919, -0.50896069, -0.17982397,  0.29158835,\n",
       "       -0.30879608, -0.14744196, -0.67128033,  2.84754756,  0.66594966,\n",
       "       -0.17026571,  0.01420499, -0.03095746, -0.06454627, -0.07164211,\n",
       "       -0.18405416, -0.37998372, -0.96528311,  1.03046381,  0.09903552,\n",
       "       -0.01381654, -0.05163978, -0.20749387,  0.19926866, -1.24339884,\n",
       "       -1.68786383,  1.8390988 , -0.4718948 , -0.43720096, -0.41622126,\n",
       "        0.4248054 , -0.25501985, -0.18620563, -0.248811  ,  1.8508409 ,\n",
       "       -1.8508409 ,  2.15145126, -0.22527525, -0.47037754,  0.67545205,\n",
       "       -0.38509996, -0.37038964, -0.19984506, -0.16047725, -0.20412415,\n",
       "       -1.03222096,  0.76723067,  1.01716864,  1.05558515, -0.37722886,\n",
       "       -0.35137048,  2.26887836, -0.40525407, -0.97936186,  1.31006007,\n",
       "        0.66711489])"
      ]
     },
     "execution_count": 11,
     "metadata": {},
     "output_type": "execute_result"
    }
   ],
   "source": [
    "X_train_std[0]"
   ]
  },
  {
   "cell_type": "markdown",
   "id": "dfef896a",
   "metadata": {},
   "source": [
    "## Basic FFNN "
   ]
  },
  {
   "cell_type": "code",
   "execution_count": 12,
   "id": "47679407",
   "metadata": {},
   "outputs": [
    {
     "name": "stderr",
     "output_type": "stream",
     "text": [
      "WARNING:absl:At this time, the v2.11+ optimizer `tf.keras.optimizers.SGD` runs slowly on M1/M2 Macs, please use the legacy Keras optimizer instead, located at `tf.keras.optimizers.legacy.SGD`.\n",
      "WARNING:absl:There is a known slowdown when using v2.11+ Keras optimizers on M1/M2 Macs. Falling back to the legacy Keras optimizer, i.e., `tf.keras.optimizers.legacy.SGD`.\n"
     ]
    },
    {
     "name": "stdout",
     "output_type": "stream",
     "text": [
      "Metal device set to: Apple M1 Pro\n",
      "Model: \"sequential\"\n",
      "_________________________________________________________________\n",
      " Layer (type)                Output Shape              Param #   \n",
      "=================================================================\n",
      " fc_1 (Dense)                (None, 32)                2624      \n",
      "                                                                 \n",
      " dropout (Dropout)           (None, 32)                0         \n",
      "                                                                 \n",
      " fc_2 (Dense)                (None, 16)                528       \n",
      "                                                                 \n",
      " dropout_1 (Dropout)         (None, 16)                0         \n",
      "                                                                 \n",
      " Output (Dense)              (None, 4)                 64        \n",
      "                                                                 \n",
      "=================================================================\n",
      "Total params: 3,216\n",
      "Trainable params: 3,216\n",
      "Non-trainable params: 0\n",
      "_________________________________________________________________\n"
     ]
    }
   ],
   "source": [
    "def build_ffnn_basic(num_features, learning_rate=0.001):\n",
    "\n",
    "    # Set-up\n",
    "    tf.keras.backend.clear_session()\n",
    "    tf.random.set_seed(0)\n",
    "    np.random.seed(0)\n",
    "  \n",
    "    # Initialize model\n",
    "    model = tf.keras.Sequential()\n",
    "    \n",
    "    # Input layer\n",
    "    model.add(tf.keras.Input(shape=(num_features,), name='Input'))\n",
    "        \n",
    "    # First Dense and dropout layer for regularization\n",
    "    model.add(tf.keras.layers.Dense(units=32,activation='relu', name='fc_1'))\n",
    "    model.add(tf.keras.layers.Dropout(0.1))\n",
    "    \n",
    "    # Second Dense and dropout layer for regularization\n",
    "    model.add(tf.keras.layers.Dense(units=16,activation='relu', name='fc_2'))\n",
    "    model.add(tf.keras.layers.Dropout(0.1))\n",
    "    \n",
    "    # create output layer\n",
    "    model.add(tf.keras.layers.Dense(\n",
    "          units=4,  \n",
    "          use_bias=False,\n",
    "          activation='softmax', \n",
    "          name='Output'))\n",
    "    \n",
    "    # Compile model\n",
    "    optimizer = tf.keras.optimizers.SGD(learning_rate=learning_rate)\n",
    "    \n",
    "    model.compile(\n",
    "        loss=tf.keras.losses.SparseCategoricalCrossentropy(),\n",
    "        optimizer=optimizer,\n",
    "        metrics=['accuracy'])\n",
    "    \n",
    "    return model\n",
    "\n",
    "# Build model\n",
    "ffnn1 = build_ffnn_basic(num_features = X_train_std.shape[1], learning_rate=0.01)\n",
    "ffnn1.summary()"
   ]
  },
  {
   "cell_type": "code",
   "execution_count": 14,
   "id": "0e766b22",
   "metadata": {},
   "outputs": [
    {
     "ename": "KeyboardInterrupt",
     "evalue": "",
     "output_type": "error",
     "traceback": [
      "\u001b[0;31m---------------------------------------------------------------------------\u001b[0m",
      "\u001b[0;31mKeyboardInterrupt\u001b[0m                         Traceback (most recent call last)",
      "Cell \u001b[0;32mIn[14], line 2\u001b[0m\n\u001b[1;32m      1\u001b[0m \u001b[38;5;66;03m# Fit basic model\u001b[39;00m\n\u001b[0;32m----> 2\u001b[0m history \u001b[38;5;241m=\u001b[39m \u001b[43mffnn1\u001b[49m\u001b[38;5;241;43m.\u001b[39;49m\u001b[43mfit\u001b[49m\u001b[43m(\u001b[49m\n\u001b[1;32m      3\u001b[0m \u001b[43m    \u001b[49m\u001b[43mx\u001b[49m\u001b[38;5;241;43m=\u001b[39;49m\u001b[43mX_train_std\u001b[49m\u001b[43m,\u001b[49m\n\u001b[1;32m      4\u001b[0m \u001b[43m    \u001b[49m\u001b[43my\u001b[49m\u001b[38;5;241;43m=\u001b[39;49m\u001b[43my_train\u001b[49m\u001b[43m,\u001b[49m\n\u001b[1;32m      5\u001b[0m \u001b[43m    \u001b[49m\u001b[43mepochs\u001b[49m\u001b[38;5;241;43m=\u001b[39;49m\u001b[38;5;241;43m150\u001b[39;49m\u001b[43m,\u001b[49m\n\u001b[1;32m      6\u001b[0m \u001b[43m    \u001b[49m\u001b[43mbatch_size\u001b[49m\u001b[38;5;241;43m=\u001b[39;49m\u001b[38;5;241;43m16\u001b[39;49m\u001b[43m,\u001b[49m\n\u001b[1;32m      7\u001b[0m \u001b[43m    \u001b[49m\u001b[43mvalidation_split\u001b[49m\u001b[38;5;241;43m=\u001b[39;49m\u001b[38;5;241;43m0.1\u001b[39;49m\u001b[43m,\u001b[49m\n\u001b[1;32m      8\u001b[0m \u001b[43m    \u001b[49m\u001b[43mverbose\u001b[49m\u001b[38;5;241;43m=\u001b[39;49m\u001b[38;5;241;43m0\u001b[39;49m\u001b[43m)\u001b[49m\n",
      "File \u001b[0;32m~/miniforge3/envs/w207_final/lib/python3.9/site-packages/keras/utils/traceback_utils.py:65\u001b[0m, in \u001b[0;36mfilter_traceback.<locals>.error_handler\u001b[0;34m(*args, **kwargs)\u001b[0m\n\u001b[1;32m     63\u001b[0m filtered_tb \u001b[38;5;241m=\u001b[39m \u001b[38;5;28;01mNone\u001b[39;00m\n\u001b[1;32m     64\u001b[0m \u001b[38;5;28;01mtry\u001b[39;00m:\n\u001b[0;32m---> 65\u001b[0m     \u001b[38;5;28;01mreturn\u001b[39;00m \u001b[43mfn\u001b[49m\u001b[43m(\u001b[49m\u001b[38;5;241;43m*\u001b[39;49m\u001b[43margs\u001b[49m\u001b[43m,\u001b[49m\u001b[43m \u001b[49m\u001b[38;5;241;43m*\u001b[39;49m\u001b[38;5;241;43m*\u001b[39;49m\u001b[43mkwargs\u001b[49m\u001b[43m)\u001b[49m\n\u001b[1;32m     66\u001b[0m \u001b[38;5;28;01mexcept\u001b[39;00m \u001b[38;5;167;01mException\u001b[39;00m \u001b[38;5;28;01mas\u001b[39;00m e:\n\u001b[1;32m     67\u001b[0m     filtered_tb \u001b[38;5;241m=\u001b[39m _process_traceback_frames(e\u001b[38;5;241m.\u001b[39m__traceback__)\n",
      "File \u001b[0;32m~/miniforge3/envs/w207_final/lib/python3.9/site-packages/keras/engine/training.py:1676\u001b[0m, in \u001b[0;36mModel.fit\u001b[0;34m(self, x, y, batch_size, epochs, verbose, callbacks, validation_split, validation_data, shuffle, class_weight, sample_weight, initial_epoch, steps_per_epoch, validation_steps, validation_batch_size, validation_freq, max_queue_size, workers, use_multiprocessing)\u001b[0m\n\u001b[1;32m   1674\u001b[0m callbacks\u001b[38;5;241m.\u001b[39mon_epoch_begin(epoch)\n\u001b[1;32m   1675\u001b[0m \u001b[38;5;28;01mwith\u001b[39;00m data_handler\u001b[38;5;241m.\u001b[39mcatch_stop_iteration():\n\u001b[0;32m-> 1676\u001b[0m     \u001b[38;5;28;01mfor\u001b[39;00m step \u001b[38;5;129;01min\u001b[39;00m data_handler\u001b[38;5;241m.\u001b[39msteps():\n\u001b[1;32m   1677\u001b[0m         \u001b[38;5;28;01mwith\u001b[39;00m tf\u001b[38;5;241m.\u001b[39mprofiler\u001b[38;5;241m.\u001b[39mexperimental\u001b[38;5;241m.\u001b[39mTrace(\n\u001b[1;32m   1678\u001b[0m             \u001b[38;5;124m\"\u001b[39m\u001b[38;5;124mtrain\u001b[39m\u001b[38;5;124m\"\u001b[39m,\n\u001b[1;32m   1679\u001b[0m             epoch_num\u001b[38;5;241m=\u001b[39mepoch,\n\u001b[0;32m   (...)\u001b[0m\n\u001b[1;32m   1682\u001b[0m             _r\u001b[38;5;241m=\u001b[39m\u001b[38;5;241m1\u001b[39m,\n\u001b[1;32m   1683\u001b[0m         ):\n\u001b[1;32m   1684\u001b[0m             callbacks\u001b[38;5;241m.\u001b[39mon_train_batch_begin(step)\n",
      "File \u001b[0;32m~/miniforge3/envs/w207_final/lib/python3.9/site-packages/keras/engine/data_adapter.py:1375\u001b[0m, in \u001b[0;36mDataHandler.steps\u001b[0;34m(self)\u001b[0m\n\u001b[1;32m   1373\u001b[0m \u001b[38;5;28;01mif\u001b[39;00m \u001b[38;5;28mself\u001b[39m\u001b[38;5;241m.\u001b[39m_insufficient_data:  \u001b[38;5;66;03m# Set by `catch_stop_iteration`.\u001b[39;00m\n\u001b[1;32m   1374\u001b[0m     \u001b[38;5;28;01mbreak\u001b[39;00m\n\u001b[0;32m-> 1375\u001b[0m original_spe \u001b[38;5;241m=\u001b[39m \u001b[38;5;28;43mself\u001b[39;49m\u001b[38;5;241;43m.\u001b[39;49m\u001b[43m_steps_per_execution\u001b[49m\u001b[38;5;241;43m.\u001b[39;49m\u001b[43mnumpy\u001b[49m\u001b[43m(\u001b[49m\u001b[43m)\u001b[49m\u001b[38;5;241m.\u001b[39mitem()\n\u001b[1;32m   1376\u001b[0m can_run_full_execution \u001b[38;5;241m=\u001b[39m (\n\u001b[1;32m   1377\u001b[0m     original_spe \u001b[38;5;241m==\u001b[39m \u001b[38;5;241m1\u001b[39m\n\u001b[1;32m   1378\u001b[0m     \u001b[38;5;129;01mor\u001b[39;00m \u001b[38;5;28mself\u001b[39m\u001b[38;5;241m.\u001b[39m_inferred_steps \u001b[38;5;129;01mis\u001b[39;00m \u001b[38;5;28;01mNone\u001b[39;00m\n\u001b[1;32m   1379\u001b[0m     \u001b[38;5;129;01mor\u001b[39;00m \u001b[38;5;28mself\u001b[39m\u001b[38;5;241m.\u001b[39m_inferred_steps \u001b[38;5;241m-\u001b[39m \u001b[38;5;28mself\u001b[39m\u001b[38;5;241m.\u001b[39m_current_step \u001b[38;5;241m>\u001b[39m\u001b[38;5;241m=\u001b[39m original_spe\n\u001b[1;32m   1380\u001b[0m )\n\u001b[1;32m   1382\u001b[0m \u001b[38;5;28;01mif\u001b[39;00m can_run_full_execution:\n",
      "File \u001b[0;32m~/miniforge3/envs/w207_final/lib/python3.9/site-packages/tensorflow/python/ops/resource_variable_ops.py:647\u001b[0m, in \u001b[0;36mBaseResourceVariable.numpy\u001b[0;34m(self)\u001b[0m\n\u001b[1;32m    645\u001b[0m \u001b[38;5;28;01mdef\u001b[39;00m \u001b[38;5;21mnumpy\u001b[39m(\u001b[38;5;28mself\u001b[39m):\n\u001b[1;32m    646\u001b[0m   \u001b[38;5;28;01mif\u001b[39;00m context\u001b[38;5;241m.\u001b[39mexecuting_eagerly():\n\u001b[0;32m--> 647\u001b[0m     \u001b[38;5;28;01mreturn\u001b[39;00m \u001b[38;5;28;43mself\u001b[39;49m\u001b[38;5;241;43m.\u001b[39;49m\u001b[43mread_value\u001b[49m\u001b[43m(\u001b[49m\u001b[43m)\u001b[49m\u001b[38;5;241;43m.\u001b[39;49m\u001b[43mnumpy\u001b[49m\u001b[43m(\u001b[49m\u001b[43m)\u001b[49m\n\u001b[1;32m    648\u001b[0m   \u001b[38;5;28;01mraise\u001b[39;00m \u001b[38;5;167;01mNotImplementedError\u001b[39;00m(\n\u001b[1;32m    649\u001b[0m       \u001b[38;5;124m\"\u001b[39m\u001b[38;5;124mnumpy() is only available when eager execution is enabled.\u001b[39m\u001b[38;5;124m\"\u001b[39m)\n",
      "File \u001b[0;32m~/miniforge3/envs/w207_final/lib/python3.9/site-packages/tensorflow/python/framework/ops.py:1160\u001b[0m, in \u001b[0;36m_EagerTensorBase.numpy\u001b[0;34m(self)\u001b[0m\n\u001b[1;32m   1137\u001b[0m \u001b[38;5;250m\u001b[39m\u001b[38;5;124;03m\"\"\"Copy of the contents of this Tensor into a NumPy array or scalar.\u001b[39;00m\n\u001b[1;32m   1138\u001b[0m \n\u001b[1;32m   1139\u001b[0m \u001b[38;5;124;03mUnlike NumPy arrays, Tensors are immutable, so this method has to copy\u001b[39;00m\n\u001b[0;32m   (...)\u001b[0m\n\u001b[1;32m   1157\u001b[0m \u001b[38;5;124;03m    NumPy dtype.\u001b[39;00m\n\u001b[1;32m   1158\u001b[0m \u001b[38;5;124;03m\"\"\"\u001b[39;00m\n\u001b[1;32m   1159\u001b[0m \u001b[38;5;66;03m# TODO(slebedev): Consider avoiding a copy for non-CPU or remote tensors.\u001b[39;00m\n\u001b[0;32m-> 1160\u001b[0m maybe_arr \u001b[38;5;241m=\u001b[39m \u001b[38;5;28;43mself\u001b[39;49m\u001b[38;5;241;43m.\u001b[39;49m\u001b[43m_numpy\u001b[49m\u001b[43m(\u001b[49m\u001b[43m)\u001b[49m  \u001b[38;5;66;03m# pylint: disable=protected-access\u001b[39;00m\n\u001b[1;32m   1161\u001b[0m \u001b[38;5;28;01mreturn\u001b[39;00m maybe_arr\u001b[38;5;241m.\u001b[39mcopy() \u001b[38;5;28;01mif\u001b[39;00m \u001b[38;5;28misinstance\u001b[39m(maybe_arr, np\u001b[38;5;241m.\u001b[39mndarray) \u001b[38;5;28;01melse\u001b[39;00m maybe_arr\n",
      "File \u001b[0;32m~/miniforge3/envs/w207_final/lib/python3.9/site-packages/tensorflow/python/framework/ops.py:1126\u001b[0m, in \u001b[0;36m_EagerTensorBase._numpy\u001b[0;34m(self)\u001b[0m\n\u001b[1;32m   1124\u001b[0m \u001b[38;5;28;01mdef\u001b[39;00m \u001b[38;5;21m_numpy\u001b[39m(\u001b[38;5;28mself\u001b[39m):\n\u001b[1;32m   1125\u001b[0m   \u001b[38;5;28;01mtry\u001b[39;00m:\n\u001b[0;32m-> 1126\u001b[0m     \u001b[38;5;28;01mreturn\u001b[39;00m \u001b[38;5;28;43mself\u001b[39;49m\u001b[38;5;241;43m.\u001b[39;49m\u001b[43m_numpy_internal\u001b[49m\u001b[43m(\u001b[49m\u001b[43m)\u001b[49m\n\u001b[1;32m   1127\u001b[0m   \u001b[38;5;28;01mexcept\u001b[39;00m core\u001b[38;5;241m.\u001b[39m_NotOkStatusException \u001b[38;5;28;01mas\u001b[39;00m e:  \u001b[38;5;66;03m# pylint: disable=protected-access\u001b[39;00m\n\u001b[1;32m   1128\u001b[0m     \u001b[38;5;28;01mraise\u001b[39;00m core\u001b[38;5;241m.\u001b[39m_status_to_exception(e) \u001b[38;5;28;01mfrom\u001b[39;00m \u001b[38;5;28;01mNone\u001b[39;00m\n",
      "\u001b[0;31mKeyboardInterrupt\u001b[0m: "
     ]
    }
   ],
   "source": [
    "# Fit basic model\n",
    "history = ffnn1.fit(\n",
    "    x=X_train_std,\n",
    "    y=y_train,\n",
    "    epochs=150,\n",
    "    batch_size=16,\n",
    "    validation_split=0.1,\n",
    "    verbose=0)"
   ]
  },
  {
   "cell_type": "code",
   "execution_count": null,
   "id": "a7434094",
   "metadata": {},
   "outputs": [],
   "source": [
    "print(f\"Average train accuracy last 5 epochs: {sum(history.history['accuracy'][-5:]) / 5}\")\n",
    "print(f\"Average val_accuracy last 5 epochs: {sum(history.history['val_accuracy'][-5:]) / 5}\")"
   ]
  },
  {
   "cell_type": "code",
   "execution_count": null,
   "id": "ff112768",
   "metadata": {},
   "outputs": [],
   "source": [
    "print(f\"Average train accuracy last 5 epochs: {sum(history.history['accuracy'][-5:]) / 5}\")\n",
    "print(f\"Average val_accuracy last 5 epochs: {sum(history.history['val_accuracy'][-5:]) / 5}\")\n",
    "\n",
    "# Plot \n",
    "hist = history.history\n",
    "x_arr = np.arange(len(hist['loss'])) + 1\n",
    "\n",
    "fig = plt.figure(figsize=(12, 4))\n",
    "ax = fig.add_subplot(1, 2, 1)\n",
    "ax.plot(x_arr, hist['loss'], '-o', label='Train loss')\n",
    "ax.plot(x_arr, hist['val_loss'], '--<', label='Validation loss')\n",
    "ax.legend(fontsize=15)\n",
    "ax.set_xlabel('Epoch', size=15)\n",
    "ax.set_ylabel('Loss', size=15)\n",
    "\n",
    "ax = fig.add_subplot(1, 2, 2)\n",
    "ax.plot(x_arr, hist['accuracy'], '-o', label='Train acc.')\n",
    "ax.plot(x_arr, hist['val_accuracy'], '--<', label='Validation acc.')\n",
    "ax.legend(fontsize=15)\n",
    "ax.set_xlabel('Epoch', size=15)\n",
    "ax.set_ylabel('Accuracy', size=15)\n",
    "ax.set_ylim(0,0.6)\n",
    "plt.show()"
   ]
  },
  {
   "cell_type": "markdown",
   "id": "3b3e769a",
   "metadata": {},
   "source": [
    "## Advanced FFNN "
   ]
  },
  {
   "cell_type": "code",
   "execution_count": 15,
   "id": "032f7905",
   "metadata": {},
   "outputs": [
    {
     "name": "stderr",
     "output_type": "stream",
     "text": [
      "WARNING:absl:At this time, the v2.11+ optimizer `tf.keras.optimizers.SGD` runs slowly on M1/M2 Macs, please use the legacy Keras optimizer instead, located at `tf.keras.optimizers.legacy.SGD`.\n",
      "WARNING:absl:There is a known slowdown when using v2.11+ Keras optimizers on M1/M2 Macs. Falling back to the legacy Keras optimizer, i.e., `tf.keras.optimizers.legacy.SGD`.\n"
     ]
    },
    {
     "name": "stdout",
     "output_type": "stream",
     "text": [
      "Model: \"sequential\"\n",
      "_________________________________________________________________\n",
      " Layer (type)                Output Shape              Param #   \n",
      "=================================================================\n",
      " fc_1 (Dense)                (None, 64)                5248      \n",
      "                                                                 \n",
      " dropout (Dropout)           (None, 64)                0         \n",
      "                                                                 \n",
      " fc_2 (Dense)                (None, 32)                2080      \n",
      "                                                                 \n",
      " dropout_1 (Dropout)         (None, 32)                0         \n",
      "                                                                 \n",
      " Output (Dense)              (None, 4)                 128       \n",
      "                                                                 \n",
      "=================================================================\n",
      "Total params: 7,456\n",
      "Trainable params: 7,456\n",
      "Non-trainable params: 0\n",
      "_________________________________________________________________\n"
     ]
    }
   ],
   "source": [
    "def build_ffnn_ad(num_features, learning_rate):\n",
    "\n",
    "    # Set-up\n",
    "    tf.keras.backend.clear_session()\n",
    "    tf.random.set_seed(0)\n",
    "    np.random.seed(0)\n",
    "  \n",
    "    # Initialize model\n",
    "    model = tf.keras.Sequential()\n",
    "    \n",
    "    # Embedding layer - To be added\n",
    "    \n",
    "    \n",
    "    # Input layer\n",
    "    model.add(tf.keras.Input(shape=(num_features,), name='Input'))\n",
    "    \n",
    "    # First Dense and dropout layer \n",
    "    model.add(tf.keras.layers.Dense(units=64, activation='relu', \n",
    "                                    kernel_regularizer=tf.keras.regularizers.L1(l1=1e-4),\n",
    "                                    name='fc_1'))\n",
    "    \n",
    "    model.add(tf.keras.layers.Dropout(0.25))\n",
    "    #model.add(tf.keras.layers.BatchNormalization())\n",
    "    \n",
    "    # Second Dense and dropout layer \n",
    "    model.add(tf.keras.layers.Dense(units=32, activation='relu', \n",
    "                                    kernel_regularizer=tf.keras.regularizers.L1(l1=1e-4),\n",
    "                                    name='fc_2'))\n",
    "        \n",
    "    model.add(tf.keras.layers.Dropout(0.25))\n",
    "    #model.add(tf.keras.layers.BatchNormalization())\n",
    "    \n",
    "    # Third Dense and dropout layer for regularization\n",
    "    #model.add(tf.keras.layers.Dense(units=16,activation='relu', name='fc_3'))\n",
    "    #model.add(tf.keras.layers.Dropout(0.1))\n",
    "    \n",
    "    # create output layer\n",
    "    model.add(tf.keras.layers.Dense(\n",
    "          units=4,  \n",
    "          use_bias=False,\n",
    "          activation='softmax',\n",
    "          name='Output'))\n",
    "    \n",
    "    # Optimizer model\n",
    "    optimizer = tf.keras.optimizers.SGD(learning_rate=learning_rate, weight_decay=1e-2,\n",
    "                                        momentum=0.3, nesterov=True)\n",
    "    #opt = tfa.optimizers.Lookahead(optimizer)\n",
    "    \n",
    "\n",
    "    # Compile model\n",
    "    model.compile(\n",
    "        loss=tf.keras.losses.SparseCategoricalCrossentropy(),\n",
    "        optimizer=optimizer,\n",
    "        metrics=['accuracy']\n",
    "#        metrics=['accuracy', keras.metrics.Precision(name='precision'), keras.metrics.Recall(name='recall')]\n",
    "    )\n",
    "    \n",
    "    return model\n",
    "\n",
    "\n",
    "# Build model\n",
    "ffnn2 = build_ffnn_ad(num_features = X_train_std.shape[1], learning_rate=0.0025)\n",
    "ffnn2.summary()"
   ]
  },
  {
   "cell_type": "code",
   "execution_count": 20,
   "id": "bd6921fc",
   "metadata": {},
   "outputs": [],
   "source": [
    "# EarlyStopping\n",
    "es = EarlyStopping(monitor=\"val_loss\", patience=10, restore_best_weights=True)\n",
    "\n",
    "# Fit advanced model\n",
    "history = ffnn2.fit(\n",
    "    x=X_train_std,\n",
    "    y=np.array(y_train),\n",
    "    epochs=150,\n",
    "    batch_size=16,\n",
    "    validation_split=0.2,\n",
    "    verbose=0, \n",
    "    callbacks=[es])"
   ]
  },
  {
   "cell_type": "code",
   "execution_count": 21,
   "id": "ef88ca2b",
   "metadata": {},
   "outputs": [
    {
     "name": "stdout",
     "output_type": "stream",
     "text": [
      "Average train accuracy last 10 epochs: 0.3758111596107483\n",
      "Average val_accuracy last 10 epochs: 0.00015957446303218603\n"
     ]
    }
   ],
   "source": [
    "print(f\"Average train accuracy last 10 epochs: {sum(history.history['accuracy'][-10:]) / 10}\")\n",
    "print(f\"Average val_accuracy last 10 epochs: {sum(history.history['val_accuracy'][-10:]) / 10}\")"
   ]
  },
  {
   "cell_type": "code",
   "execution_count": 18,
   "id": "9199703e",
   "metadata": {},
   "outputs": [
    {
     "data": {
      "image/png": "[encoded data removed]",
      "text/plain": [
       "<Figure size 1200x400 with 2 Axes>"
      ]
     },
     "metadata": {},
     "output_type": "display_data"
    }
   ],
   "source": [
    "# Plot curves\n",
    "hist = history.history\n",
    "x_arr = np.arange(len(hist['loss'])) + 1\n",
    "\n",
    "fig = plt.figure(figsize=(12, 4))\n",
    "ax = fig.add_subplot(1, 2, 1)\n",
    "ax.plot(x_arr, hist['loss'], '-o', label='Train loss')\n",
    "ax.plot(x_arr, hist['val_loss'], '-->', label='Validation loss')\n",
    "ax.legend(fontsize=15)\n",
    "ax.set_xlabel('Epoch', size=15)\n",
    "ax.set_ylabel('Loss', size=15)\n",
    "\n",
    "ax = fig.add_subplot(1, 2, 2)\n",
    "ax.plot(x_arr, hist['accuracy'], '-o', label='Train acc.')\n",
    "ax.plot(x_arr, hist['val_accuracy'], '-->', label='Validation acc.')\n",
    "ax.legend(fontsize=15)\n",
    "ax.set_xlabel('Epoch', size=15)\n",
    "ax.set_ylabel('Accuracy', size=15)\n",
    "ax.set_ylim(0,0.6)\n",
    "plt.show()"
   ]
  },
  {
   "cell_type": "code",
   "execution_count": null,
   "id": "2cb20748",
   "metadata": {},
   "outputs": [],
   "source": []
  },
  {
   "cell_type": "code",
   "execution_count": null,
   "id": "76cbe5e3",
   "metadata": {},
   "outputs": [],
   "source": []
  },
  {
   "cell_type": "code",
   "execution_count": null,
   "id": "7a26e744",
   "metadata": {},
   "outputs": [],
   "source": [
    "# Grid search for learning rate\n",
    "df = pd.DataFrame(columns=['Param','Train Accuracy', 'Val Accuracy'])\n",
    "\n",
    "learning_rate_list = [0.1, 0.05, 0.025, 0.01, 0.005, 0.0025, 0.001]\n",
    "\n",
    "for i in range(len(learning_rate_list)):\n",
    "    ffnn2 = build_ffnn_ad(num_features = X_train_std.shape[1], learning_rate=learning_rate_list[i])\n",
    "    history = ffnn2.fit(x=X_train_std, y=y_train, epochs=150, batch_size=16, \n",
    "                        validation_split=0.1, verbose=0, callbacks = [es])\n",
    "    \n",
    "    df.loc[i,'Param'] = learning_rate_list[i]\n",
    "    df.loc[i,'Train Accuracy'] = sum(history.history['accuracy'][-10:]) / 10\n",
    "    df.loc[i,'Val Accuracy'] = sum(history.history['val_accuracy'][-10:]) / 10\n",
    "\n",
    "df"
   ]
  },
  {
   "cell_type": "code",
   "execution_count": null,
   "id": "d4cddb25",
   "metadata": {},
   "outputs": [],
   "source": [
    "# Grid search for batch size\n",
    "df = pd.DataFrame(columns=['Param','Train Accuracy', 'Val Accuracy'])\n",
    "\n",
    "batch_size_list = [8,16,32,64]\n",
    "\n",
    "for i in range(len(batch_size_list)):\n",
    "    ffnn2 = build_ffnn_ad(num_features = X_train_std.shape[1], learning_rate=0.01)\n",
    "    history = ffnn2.fit(x=X_train_std, y=y_train, epochs=150, batch_size=batch_size_list[i], \n",
    "                        validation_split=0.1, verbose=0, callbacks = [es])\n",
    "    \n",
    "    df.loc[i,'Param'] = batch_size_list[i]\n",
    "    df.loc[i,'Train Accuracy'] = sum(history.history['accuracy'][-10:]) / 10\n",
    "    df.loc[i,'Val Accuracy'] = sum(history.history['val_accuracy'][-10:]) / 10\n",
    "\n",
    "df"
   ]
  },
  {
   "cell_type": "code",
   "execution_count": null,
   "id": "363d69b0",
   "metadata": {},
   "outputs": [],
   "source": []
  },
  {
   "cell_type": "code",
   "execution_count": null,
   "id": "7f2a4f10",
   "metadata": {},
   "outputs": [],
   "source": []
  },
  {
   "cell_type": "code",
   "execution_count": null,
   "id": "6a8b9e4f",
   "metadata": {},
   "outputs": [],
   "source": [
    "# Cross validation\n",
    "\n",
    "from sklearn.model_selection import KFold\n",
    "from sklearn.preprocessing import StandardScaler\n",
    "\n",
    "kf = KFold(n_splits=10)\n",
    "kf.get_n_splits(X)\n",
    "\n",
    "results = []\n",
    "\n",
    "for train_index, test_index in kf.split(X):\n",
    "    \n",
    "#     # Split the data into train and test\n",
    "    X_train, X_test = X[train_index], X[test_index]\n",
    "    y_cat_train, y_cat_test = y_cat[train_index], y_cat[test_index]\n",
    "    \n",
    "#     # Scaling your data\n",
    "    scaler = StandardScaler()\n",
    "    X_train_rescaled = scaler.fit_transform(X_train)\n",
    "    X_test_rescaled = scaler.transform(X_test)\n",
    "    \n",
    "#     # Initialize the model\n",
    "\n",
    "    model = initialize_model()\n",
    "\n",
    "#     # Fit the model on the train data\n",
    "\n",
    "    model.fit(X_train_rescaled, y_cat_train, batch_size=16, epochs=150)\n",
    "    \n",
    "#     # Evaluate the model on the test data\n",
    "\n",
    "    results.append(model.evaluate(X_test_rescaled, y_cat_test))"
   ]
  },
  {
   "cell_type": "code",
   "execution_count": null,
   "id": "d85eb08e",
   "metadata": {},
   "outputs": [],
   "source": []
  },
  {
   "cell_type": "code",
   "execution_count": null,
   "id": "bf3f9c18",
   "metadata": {},
   "outputs": [],
   "source": []
  },
  {
   "cell_type": "markdown",
   "id": "3f792b23",
   "metadata": {},
   "source": [
    "## LSTM"
   ]
  },
  {
   "cell_type": "code",
   "execution_count": 22,
   "id": "46264585",
   "metadata": {},
   "outputs": [
    {
     "ename": "ValueError",
     "evalue": "Input 0 of layer \"bidir-LSTM1\" is incompatible with the layer: expected ndim=3, found ndim=2. Full shape received: (None, 81)",
     "output_type": "error",
     "traceback": [
      "\u001b[0;31m---------------------------------------------------------------------------\u001b[0m",
      "\u001b[0;31mValueError\u001b[0m                                Traceback (most recent call last)",
      "Cell \u001b[0;32mIn[22], line 53\u001b[0m\n\u001b[1;32m     50\u001b[0m     \u001b[38;5;28;01mreturn\u001b[39;00m model\n\u001b[1;32m     52\u001b[0m \u001b[38;5;66;03m# Build model\u001b[39;00m\n\u001b[0;32m---> 53\u001b[0m lstm \u001b[38;5;241m=\u001b[39m \u001b[43mbuild_lstm_model\u001b[49m\u001b[43m(\u001b[49m\u001b[43mnum_features\u001b[49m\u001b[43m \u001b[49m\u001b[38;5;241;43m=\u001b[39;49m\u001b[43m \u001b[49m\u001b[43mX_train_std\u001b[49m\u001b[38;5;241;43m.\u001b[39;49m\u001b[43mshape\u001b[49m\u001b[43m[\u001b[49m\u001b[38;5;241;43m1\u001b[39;49m\u001b[43m]\u001b[49m\u001b[43m,\u001b[49m\u001b[43m \u001b[49m\u001b[43mlearning_rate\u001b[49m\u001b[38;5;241;43m=\u001b[39;49m\u001b[38;5;241;43m0.0025\u001b[39;49m\u001b[43m)\u001b[49m\n\u001b[1;32m     54\u001b[0m lstm\u001b[38;5;241m.\u001b[39msummary()\n",
      "Cell \u001b[0;32mIn[22], line 15\u001b[0m, in \u001b[0;36mbuild_lstm_model\u001b[0;34m(num_features, learning_rate)\u001b[0m\n\u001b[1;32m     12\u001b[0m model_lstm\u001b[38;5;241m.\u001b[39madd(tf\u001b[38;5;241m.\u001b[39mkeras\u001b[38;5;241m.\u001b[39mInput(shape\u001b[38;5;241m=\u001b[39m(num_features,), name\u001b[38;5;241m=\u001b[39m\u001b[38;5;124m'\u001b[39m\u001b[38;5;124mInput\u001b[39m\u001b[38;5;124m'\u001b[39m))\n\u001b[1;32m     14\u001b[0m \u001b[38;5;66;03m# add first lstm layer\u001b[39;00m\n\u001b[0;32m---> 15\u001b[0m \u001b[43mmodel_lstm\u001b[49m\u001b[38;5;241;43m.\u001b[39;49m\u001b[43madd\u001b[49m\u001b[43m(\u001b[49m\u001b[43mtf\u001b[49m\u001b[38;5;241;43m.\u001b[39;49m\u001b[43mkeras\u001b[49m\u001b[38;5;241;43m.\u001b[39;49m\u001b[43mlayers\u001b[49m\u001b[38;5;241;43m.\u001b[39;49m\u001b[43mBidirectional\u001b[49m\u001b[43m(\u001b[49m\u001b[43mtf\u001b[49m\u001b[38;5;241;43m.\u001b[39;49m\u001b[43mkeras\u001b[49m\u001b[38;5;241;43m.\u001b[39;49m\u001b[43mlayers\u001b[49m\u001b[38;5;241;43m.\u001b[39;49m\u001b[43mLSTM\u001b[49m\u001b[43m(\u001b[49m\n\u001b[1;32m     16\u001b[0m \u001b[43m    \u001b[49m\u001b[43munits\u001b[49m\u001b[38;5;241;43m=\u001b[39;49m\u001b[38;5;241;43m200\u001b[39;49m\u001b[43m,\u001b[49m\n\u001b[1;32m     17\u001b[0m \u001b[43m    \u001b[49m\u001b[38;5;66;43;03m#recurrent_dropout=0.4,\u001b[39;49;00m\n\u001b[1;32m     18\u001b[0m \u001b[43m    \u001b[49m\u001b[38;5;66;43;03m#use_bias=True,\u001b[39;49;00m\n\u001b[1;32m     19\u001b[0m \u001b[43m    \u001b[49m\u001b[43mreturn_sequences\u001b[49m\u001b[38;5;241;43m=\u001b[39;49m\u001b[38;5;28;43;01mTrue\u001b[39;49;00m\u001b[43m,\u001b[49m\n\u001b[1;32m     20\u001b[0m \u001b[43m    \u001b[49m\u001b[43mname\u001b[49m\u001b[38;5;241;43m=\u001b[39;49m\u001b[38;5;124;43m'\u001b[39;49m\u001b[38;5;124;43mLSTM1\u001b[39;49m\u001b[38;5;124;43m'\u001b[39;49m\u001b[43m)\u001b[49m\u001b[43m,\u001b[49m\u001b[43m \u001b[49m\u001b[43mname\u001b[49m\u001b[38;5;241;43m=\u001b[39;49m\u001b[38;5;124;43m'\u001b[39;49m\u001b[38;5;124;43mbidir-LSTM1\u001b[39;49m\u001b[38;5;124;43m'\u001b[39;49m\u001b[43m)\u001b[49m\u001b[43m)\u001b[49m    \n\u001b[1;32m     22\u001b[0m model_lstm\u001b[38;5;241m.\u001b[39madd(Dropout(\n\u001b[1;32m     23\u001b[0m     rate\u001b[38;5;241m=\u001b[39m\u001b[38;5;241m0.5\u001b[39m,\n\u001b[1;32m     24\u001b[0m     name\u001b[38;5;241m=\u001b[39m\u001b[38;5;124m'\u001b[39m\u001b[38;5;124mDropout1\u001b[39m\u001b[38;5;124m'\u001b[39m\n\u001b[1;32m     25\u001b[0m ))\n\u001b[1;32m     27\u001b[0m \u001b[38;5;66;03m# add Dense layers\u001b[39;00m\n",
      "File \u001b[0;32m~/miniforge3/envs/w207_final/lib/python3.9/site-packages/tensorflow/python/trackable/base.py:205\u001b[0m, in \u001b[0;36mno_automatic_dependency_tracking.<locals>._method_wrapper\u001b[0;34m(self, *args, **kwargs)\u001b[0m\n\u001b[1;32m    203\u001b[0m \u001b[38;5;28mself\u001b[39m\u001b[38;5;241m.\u001b[39m_self_setattr_tracking \u001b[38;5;241m=\u001b[39m \u001b[38;5;28;01mFalse\u001b[39;00m  \u001b[38;5;66;03m# pylint: disable=protected-access\u001b[39;00m\n\u001b[1;32m    204\u001b[0m \u001b[38;5;28;01mtry\u001b[39;00m:\n\u001b[0;32m--> 205\u001b[0m   result \u001b[38;5;241m=\u001b[39m \u001b[43mmethod\u001b[49m\u001b[43m(\u001b[49m\u001b[38;5;28;43mself\u001b[39;49m\u001b[43m,\u001b[49m\u001b[43m \u001b[49m\u001b[38;5;241;43m*\u001b[39;49m\u001b[43margs\u001b[49m\u001b[43m,\u001b[49m\u001b[43m \u001b[49m\u001b[38;5;241;43m*\u001b[39;49m\u001b[38;5;241;43m*\u001b[39;49m\u001b[43mkwargs\u001b[49m\u001b[43m)\u001b[49m\n\u001b[1;32m    206\u001b[0m \u001b[38;5;28;01mfinally\u001b[39;00m:\n\u001b[1;32m    207\u001b[0m   \u001b[38;5;28mself\u001b[39m\u001b[38;5;241m.\u001b[39m_self_setattr_tracking \u001b[38;5;241m=\u001b[39m previous_value  \u001b[38;5;66;03m# pylint: disable=protected-access\u001b[39;00m\n",
      "File \u001b[0;32m~/miniforge3/envs/w207_final/lib/python3.9/site-packages/keras/utils/traceback_utils.py:70\u001b[0m, in \u001b[0;36mfilter_traceback.<locals>.error_handler\u001b[0;34m(*args, **kwargs)\u001b[0m\n\u001b[1;32m     67\u001b[0m     filtered_tb \u001b[38;5;241m=\u001b[39m _process_traceback_frames(e\u001b[38;5;241m.\u001b[39m__traceback__)\n\u001b[1;32m     68\u001b[0m     \u001b[38;5;66;03m# To get the full stack trace, call:\u001b[39;00m\n\u001b[1;32m     69\u001b[0m     \u001b[38;5;66;03m# `tf.debugging.disable_traceback_filtering()`\u001b[39;00m\n\u001b[0;32m---> 70\u001b[0m     \u001b[38;5;28;01mraise\u001b[39;00m e\u001b[38;5;241m.\u001b[39mwith_traceback(filtered_tb) \u001b[38;5;28;01mfrom\u001b[39;00m \u001b[38;5;28;01mNone\u001b[39;00m\n\u001b[1;32m     71\u001b[0m \u001b[38;5;28;01mfinally\u001b[39;00m:\n\u001b[1;32m     72\u001b[0m     \u001b[38;5;28;01mdel\u001b[39;00m filtered_tb\n",
      "File \u001b[0;32m~/miniforge3/envs/w207_final/lib/python3.9/site-packages/keras/engine/input_spec.py:235\u001b[0m, in \u001b[0;36massert_input_compatibility\u001b[0;34m(input_spec, inputs, layer_name)\u001b[0m\n\u001b[1;32m    233\u001b[0m     ndim \u001b[38;5;241m=\u001b[39m shape\u001b[38;5;241m.\u001b[39mrank\n\u001b[1;32m    234\u001b[0m     \u001b[38;5;28;01mif\u001b[39;00m ndim \u001b[38;5;241m!=\u001b[39m spec\u001b[38;5;241m.\u001b[39mndim:\n\u001b[0;32m--> 235\u001b[0m         \u001b[38;5;28;01mraise\u001b[39;00m \u001b[38;5;167;01mValueError\u001b[39;00m(\n\u001b[1;32m    236\u001b[0m             \u001b[38;5;124mf\u001b[39m\u001b[38;5;124m'\u001b[39m\u001b[38;5;124mInput \u001b[39m\u001b[38;5;132;01m{\u001b[39;00minput_index\u001b[38;5;132;01m}\u001b[39;00m\u001b[38;5;124m of layer \u001b[39m\u001b[38;5;124m\"\u001b[39m\u001b[38;5;132;01m{\u001b[39;00mlayer_name\u001b[38;5;132;01m}\u001b[39;00m\u001b[38;5;124m\"\u001b[39m\u001b[38;5;124m \u001b[39m\u001b[38;5;124m'\u001b[39m\n\u001b[1;32m    237\u001b[0m             \u001b[38;5;124m\"\u001b[39m\u001b[38;5;124mis incompatible with the layer: \u001b[39m\u001b[38;5;124m\"\u001b[39m\n\u001b[1;32m    238\u001b[0m             \u001b[38;5;124mf\u001b[39m\u001b[38;5;124m\"\u001b[39m\u001b[38;5;124mexpected ndim=\u001b[39m\u001b[38;5;132;01m{\u001b[39;00mspec\u001b[38;5;241m.\u001b[39mndim\u001b[38;5;132;01m}\u001b[39;00m\u001b[38;5;124m, found ndim=\u001b[39m\u001b[38;5;132;01m{\u001b[39;00mndim\u001b[38;5;132;01m}\u001b[39;00m\u001b[38;5;124m. \u001b[39m\u001b[38;5;124m\"\u001b[39m\n\u001b[1;32m    239\u001b[0m             \u001b[38;5;124mf\u001b[39m\u001b[38;5;124m\"\u001b[39m\u001b[38;5;124mFull shape received: \u001b[39m\u001b[38;5;132;01m{\u001b[39;00m\u001b[38;5;28mtuple\u001b[39m(shape)\u001b[38;5;132;01m}\u001b[39;00m\u001b[38;5;124m\"\u001b[39m\n\u001b[1;32m    240\u001b[0m         )\n\u001b[1;32m    241\u001b[0m \u001b[38;5;28;01mif\u001b[39;00m spec\u001b[38;5;241m.\u001b[39mmax_ndim \u001b[38;5;129;01mis\u001b[39;00m \u001b[38;5;129;01mnot\u001b[39;00m \u001b[38;5;28;01mNone\u001b[39;00m:\n\u001b[1;32m    242\u001b[0m     ndim \u001b[38;5;241m=\u001b[39m x\u001b[38;5;241m.\u001b[39mshape\u001b[38;5;241m.\u001b[39mrank\n",
      "\u001b[0;31mValueError\u001b[0m: Input 0 of layer \"bidir-LSTM1\" is incompatible with the layer: expected ndim=3, found ndim=2. Full shape received: (None, 81)"
     ]
    }
   ],
   "source": [
    "def build_lstm_model(num_features, learning_rate):\n",
    "    \n",
    "    # Set-up\n",
    "    tf.keras.backend.clear_session()\n",
    "    tf.random.set_seed(0)\n",
    "    np.random.seed(0)\n",
    "  \n",
    "    # Initialize model\n",
    "    model_lstm = tf.keras.Sequential()\n",
    "    \n",
    "    # Input layer\n",
    "    model_lstm.add(tf.keras.Input(shape=(num_features,), name='Input'))\n",
    "    \n",
    "    # add first lstm layer\n",
    "    model_lstm.add(tf.keras.layers.Bidirectional(tf.keras.layers.LSTM(\n",
    "        units=200,\n",
    "        #recurrent_dropout=0.4,\n",
    "        #use_bias=True,\n",
    "        return_sequences=True,\n",
    "        name='LSTM1'), name='bidir-LSTM1'))    \n",
    "    \n",
    "    model_lstm.add(Dropout(\n",
    "        rate=0.5,\n",
    "        name='Dropout1'\n",
    "    ))\n",
    "    \n",
    "    # add Dense layers\n",
    "    model_lstm.add(Dense(\n",
    "        units=64,\n",
    "        activation='relu',\n",
    "        name='Dense1'\n",
    "    ))\n",
    "    \n",
    "    # create output layer\n",
    "    model_lstm.add(tf.keras.layers.Dense(\n",
    "          units=4,  \n",
    "          use_bias=False,\n",
    "          activation='softmax',\n",
    "          name='Output'))\n",
    "    \n",
    "    # Compile model\n",
    "    optimizer = tf.keras.optimizers.SGD(learning_rate=learning_rate, \n",
    "                                        momentum=0.3, nesterov=True)\n",
    "    \n",
    "    model.compile(\n",
    "        loss=tf.keras.losses.SparseCategoricalCrossentropy(),\n",
    "        optimizer=optimizer,\n",
    "        metrics=['accuracy'])\n",
    "    \n",
    "    return model\n",
    "\n",
    "# Build model\n",
    "lstm = build_lstm_model(num_features = X_train_std.shape[1], learning_rate=0.0025)\n",
    "lstm.summary()"
   ]
  },
  {
   "cell_type": "code",
   "execution_count": null,
   "id": "cfd81972",
   "metadata": {},
   "outputs": [],
   "source": []
  }
 ],
 "metadata": {
  "kernelspec": {
   "display_name": "Python 3 (ipykernel)",
   "language": "python",
   "name": "python3"
  },
  "language_info": {
   "codemirror_mode": {
    "name": "ipython",
    "version": 3
   },
   "file_extension": ".py",
   "mimetype": "text/x-python",
   "name": "python",
   "nbconvert_exporter": "python",
   "pygments_lexer": "ipython3",
   "version": "3.9.16"
  },
  "toc": {
   "base_numbering": 1,
   "nav_menu": {},
   "number_sections": true,
   "sideBar": true,
   "skip_h1_title": false,
   "title_cell": "Table of Contents",
   "title_sidebar": "Contents",
   "toc_cell": false,
   "toc_position": {},
   "toc_section_display": true,
   "toc_window_display": false
  }
 },
 "nbformat": 4,
 "nbformat_minor": 5
}

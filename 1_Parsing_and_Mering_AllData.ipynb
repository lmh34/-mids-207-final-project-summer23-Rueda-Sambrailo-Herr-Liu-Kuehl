{
 "cells": [
  {
   "cell_type": "markdown",
   "id": "9c05a1ac-4243-468c-9e40-702e91fd276b",
   "metadata": {},
   "source": [
    "## Merge Raw Petfinder Data\n",
    "207 Final Project<br>\n",
    "Lucy Herr<br>\n",
    "7/13/23<br>\n",
    "### Process Overview\n",
    "1. Parse Pet Listing Image Metadata\n",
    "2. Parse Pet Listing Sentiment Analysis Data\n",
    "3. Merge Image & Sentiment Data with Tabular Data\n",
    "4. Add external data features (State Population & Median Income)"
   ]
  },
  {
   "cell_type": "markdown",
   "id": "1116bfde-eddf-404f-8361-6e276d42bd10",
   "metadata": {},
   "source": [
    "### Import Packages"
   ]
  },
  {
   "cell_type": "code",
   "execution_count": 29,
   "id": "b5645e86-08cd-4954-a871-576f9b423fdb",
   "metadata": {},
   "outputs": [],
   "source": [
    "# import packages\n",
    "import pandas as pd\n",
    "import numpy as np\n",
    "import matplotlib.pyplot as plt\n",
    "import csv\n",
    "import json\n",
    "import flatten_json\n",
    "import os\n",
    "import warnings\n",
    "import wget\n",
    "import urllib3\n",
    "from sklearn.model_selection import train_test_split # to split the data\n",
    "\n",
    "# import cleaning_functions\n",
    "import cleaning_functions # assumes cleaning functions file is in same working directory as this notebook"
   ]
  },
  {
   "cell_type": "markdown",
   "id": "55c96099-8728-40bd-9b6f-3f9ccd695921",
   "metadata": {},
   "source": [
    "### Load data & functions"
   ]
  },
  {
   "cell_type": "code",
   "execution_count": 30,
   "id": "3a518899-3622-41c9-8c96-8600d1a8d678",
   "metadata": {},
   "outputs": [],
   "source": [
    "# data directory path \n",
    "data_dir = './data/' # assumes data subdirectory (follows structure of original file)\n",
    "\n",
    "# load raw tabular training data \n",
    "train_file = 'train/train.csv' # assumes data & train subdirectories (follows structure of original file)\n",
    "train_tab_df = pd.read_csv(data_dir+train_file)\n",
    "\n",
    "# load raw image metadata (JSON)\n",
    "image_metadata_path = 'train_metadata/' \n",
    "\n",
    "# load raw sentiment metadata (JSON)\n",
    "sentiment_path = 'train_sentiment/'\n",
    "sentiment_json_files = [pos_json for pos_json in os.listdir(data_dir+sentiment_path) \n",
    "                        if pos_json.endswith('.json')]\n",
    "\n",
    "# Malaysian state labels \n",
    "state_file = 'state_labels.csv'\n",
    "state_labels = pd.read_csv(data_dir+state_file)\n",
    "\n",
    "# Malaysia population by state (external data source)\n",
    "state_pop_url=\"https://raw.githubusercontent.com/MoH-Malaysia/covid19-public/main/static/population.csv\"\n",
    "state_pop_df=pd.read_csv(state_pop_url)\n",
    "\n",
    "# Malaysia median income by state (external data source)\n",
    "income_url = 'https://storage.googleapis.com/dosm-public-economy/salaries_state_sex.csv'\n",
    "state_income_df=pd.read_csv(income_url)\n"
   ]
  },
  {
   "cell_type": "code",
   "execution_count": 31,
   "id": "c34c93ee-4e38-42a1-b4df-1ae6a7a9a6b9",
   "metadata": {},
   "outputs": [
    {
     "data": {
      "text/html": [
       "<div>\n",
       "<style scoped>\n",
       "    .dataframe tbody tr th:only-of-type {\n",
       "        vertical-align: middle;\n",
       "    }\n",
       "\n",
       "    .dataframe tbody tr th {\n",
       "        vertical-align: top;\n",
       "    }\n",
       "\n",
       "    .dataframe thead th {\n",
       "        text-align: right;\n",
       "    }\n",
       "</style>\n",
       "<table border=\"1\" class=\"dataframe\">\n",
       "  <thead>\n",
       "    <tr style=\"text-align: right;\">\n",
       "      <th></th>\n",
       "      <th>variable</th>\n",
       "      <th>variable_en</th>\n",
       "      <th>variable_bm</th>\n",
       "      <th>sex</th>\n",
       "      <th>year</th>\n",
       "      <th>mean</th>\n",
       "      <th>median</th>\n",
       "      <th>recipients</th>\n",
       "    </tr>\n",
       "  </thead>\n",
       "  <tbody>\n",
       "    <tr>\n",
       "      <th>0</th>\n",
       "      <td>overall</td>\n",
       "      <td>Overall</td>\n",
       "      <td>Keseluruhan</td>\n",
       "      <td>overall</td>\n",
       "      <td>2010</td>\n",
       "      <td>1936.0</td>\n",
       "      <td>1500.0</td>\n",
       "      <td>7149200</td>\n",
       "    </tr>\n",
       "    <tr>\n",
       "      <th>1</th>\n",
       "      <td>overall</td>\n",
       "      <td>Overall</td>\n",
       "      <td>Keseluruhan</td>\n",
       "      <td>overall</td>\n",
       "      <td>2011</td>\n",
       "      <td>1959.0</td>\n",
       "      <td>1500.0</td>\n",
       "      <td>7634000</td>\n",
       "    </tr>\n",
       "    <tr>\n",
       "      <th>2</th>\n",
       "      <td>overall</td>\n",
       "      <td>Overall</td>\n",
       "      <td>Keseluruhan</td>\n",
       "      <td>overall</td>\n",
       "      <td>2012</td>\n",
       "      <td>2052.0</td>\n",
       "      <td>1566.0</td>\n",
       "      <td>7782900</td>\n",
       "    </tr>\n",
       "    <tr>\n",
       "      <th>3</th>\n",
       "      <td>overall</td>\n",
       "      <td>Overall</td>\n",
       "      <td>Keseluruhan</td>\n",
       "      <td>overall</td>\n",
       "      <td>2013</td>\n",
       "      <td>2186.0</td>\n",
       "      <td>1700.0</td>\n",
       "      <td>7903100</td>\n",
       "    </tr>\n",
       "    <tr>\n",
       "      <th>4</th>\n",
       "      <td>overall</td>\n",
       "      <td>Overall</td>\n",
       "      <td>Keseluruhan</td>\n",
       "      <td>overall</td>\n",
       "      <td>2014</td>\n",
       "      <td>2377.0</td>\n",
       "      <td>1800.0</td>\n",
       "      <td>8392400</td>\n",
       "    </tr>\n",
       "  </tbody>\n",
       "</table>\n",
       "</div>"
      ],
      "text/plain": [
       "  variable variable_en  variable_bm      sex  year    mean  median  recipients\n",
       "0  overall     Overall  Keseluruhan  overall  2010  1936.0  1500.0     7149200\n",
       "1  overall     Overall  Keseluruhan  overall  2011  1959.0  1500.0     7634000\n",
       "2  overall     Overall  Keseluruhan  overall  2012  2052.0  1566.0     7782900\n",
       "3  overall     Overall  Keseluruhan  overall  2013  2186.0  1700.0     7903100\n",
       "4  overall     Overall  Keseluruhan  overall  2014  2377.0  1800.0     8392400"
      ]
     },
     "execution_count": 31,
     "metadata": {},
     "output_type": "execute_result"
    }
   ],
   "source": [
    "income_url = 'https://storage.googleapis.com/dosm-public-economy/salaries_state_sex.csv'\n",
    "state_income_df=pd.read_csv(income_url)\n",
    "state_income_df.head()"
   ]
  },
  {
   "cell_type": "code",
   "execution_count": 32,
   "id": "af873f36-84cb-461f-b77e-e3ea7b6d82af",
   "metadata": {},
   "outputs": [
    {
     "name": "stdout",
     "output_type": "stream",
     "text": [
      "(14993, 24)\n"
     ]
    },
    {
     "data": {
      "text/plain": [
       "Index(['Type', 'Name', 'Age', 'Breed1', 'Breed2', 'Gender', 'Color1', 'Color2',\n",
       "       'Color3', 'MaturitySize', 'FurLength', 'Vaccinated', 'Dewormed',\n",
       "       'Sterilized', 'Health', 'Quantity', 'Fee', 'State', 'RescuerID',\n",
       "       'VideoAmt', 'Description', 'PetID', 'PhotoAmt', 'AdoptionSpeed'],\n",
       "      dtype='object')"
      ]
     },
     "execution_count": 32,
     "metadata": {},
     "output_type": "execute_result"
    }
   ],
   "source": [
    "print(train_tab_df.shape)\n",
    "train_tab_df.columns"
   ]
  },
  {
   "cell_type": "markdown",
   "id": "03bced25-005e-4fc9-97f1-2fe5510cdc04",
   "metadata": {},
   "source": [
    "### 1. Parse Pet Listing Image Metadata & Add to Tabular Dataframe"
   ]
  },
  {
   "cell_type": "code",
   "execution_count": 33,
   "id": "b563c9f9-f63d-4bab-af21-fa773af547e6",
   "metadata": {},
   "outputs": [
    {
     "name": "stdout",
     "output_type": "stream",
     "text": [
      "Number of PetIDs missing label annotations: 2\n",
      "Number of PetIDs missing image metadata: 341\n",
      "(14993, 35)\n",
      "(14993, 35)\n"
     ]
    }
   ],
   "source": [
    "# set path to image metadata directory\n",
    "image_metadata_path = 'train_metadata/' \n",
    "\n",
    "# lists to store each image metadata feature prior to EDA\n",
    "vertex_xs = []\n",
    "vertex_ys = []\n",
    "bounding_confidences = []\n",
    "bounding_importance_fracs = []\n",
    "dominant_blues = []\n",
    "dominant_greens = []\n",
    "dominant_reds = []\n",
    "dominant_pixel_fracs = []\n",
    "dominant_scores = []\n",
    "label_descriptions = []\n",
    "label_scores = []\n",
    "face_annotations = []\n",
    "label_annotations = []\n",
    "text_annotations = []\n",
    "\n",
    "# lists of pet IDs without label annotations and/or any image metadata\n",
    "petids_no_image_metadata = []\n",
    "petids_no_label_annotation = []\n",
    "\n",
    "# store each feature value for each pet ID in the main (tabular) df \n",
    "for pet_id in train_tab_df.PetID:\n",
    "    try:\n",
    "        # NOTE: selecting 1st image (when multiple images are available)\n",
    "        with open(data_dir+image_metadata_path + pet_id + '-1.json', 'r') as f: \n",
    "            data = json.load(f)\n",
    "        face_annotations.append(data.get('faceAnnotations', []))\n",
    "        text_annotations.append(data.get('textAnnotations', []))\n",
    "        vertex_x = data['cropHintsAnnotation']['cropHints'][0]['boundingPoly']['vertices'][2]['x']\n",
    "        vertex_xs.append(vertex_x)\n",
    "        vertex_y = data['cropHintsAnnotation']['cropHints'][0]['boundingPoly']['vertices'][2]['y']\n",
    "        vertex_ys.append(vertex_y)\n",
    "        bounding_confidence = data['cropHintsAnnotation']['cropHints'][0]['confidence']\n",
    "        bounding_confidences.append(bounding_confidence)\n",
    "        bounding_importance_frac = data['cropHintsAnnotation']['cropHints'][0].get('importanceFraction', -1)\n",
    "        bounding_importance_fracs.append(bounding_importance_frac)\n",
    "        dominant_blue = data['imagePropertiesAnnotation']['dominantColors']['colors'][0]['color']['blue']\n",
    "        dominant_blues.append(dominant_blue)\n",
    "        dominant_green = data['imagePropertiesAnnotation']['dominantColors']['colors'][0]['color']['green']\n",
    "        dominant_greens.append(dominant_green)\n",
    "        dominant_red = data['imagePropertiesAnnotation']['dominantColors']['colors'][0]['color']['red']\n",
    "        dominant_reds.append(dominant_red)\n",
    "        dominant_pixel_frac = data['imagePropertiesAnnotation']['dominantColors']['colors'][0]['pixelFraction']\n",
    "        dominant_pixel_fracs.append(dominant_pixel_frac)\n",
    "        dominant_score = data['imagePropertiesAnnotation']['dominantColors']['colors'][0]['score']\n",
    "        dominant_scores.append(dominant_score)\n",
    "        # add label annotation data \n",
    "        if data.get('labelAnnotations'):\n",
    "            label_annotations.append(data['labelAnnotations'])\n",
    "            label_description = data['labelAnnotations'][0]['description']\n",
    "            label_descriptions.append(label_description)\n",
    "            label_score = data['labelAnnotations'][0]['score']\n",
    "            label_scores.append(label_score)\n",
    "        else:\n",
    "            # append pet id to missing annotation list\n",
    "            petids_no_label_annotation.append(pet_id)\n",
    "            label_annotations.append(None)\n",
    "            label_descriptions.append(None) # blank field = none\n",
    "            label_scores.append(-1)\n",
    "    except FileNotFoundError:\n",
    "        # append pet id to missing annotation list\n",
    "        petids_no_image_metadata.append(pet_id)\n",
    "        vertex_xs.append(-1)\n",
    "        vertex_ys.append(-1)\n",
    "        bounding_confidences.append(-1)\n",
    "        bounding_importance_fracs.append(-1)\n",
    "        dominant_blues.append(-1)\n",
    "        dominant_greens.append(-1)\n",
    "        dominant_reds.append(-1)\n",
    "        dominant_pixel_fracs.append(-1)\n",
    "        dominant_scores.append(-1)\n",
    "        label_annotations.append([None])\n",
    "        label_descriptions.append(None) # blank field = none\n",
    "        label_scores.append(-1)\n",
    "        face_annotations.append([None])\n",
    "        text_annotations.append([None])\n",
    "\n",
    "print(f'Number of PetIDs missing label annotations: {len(petids_no_label_annotation)}')\n",
    "print(f'Number of PetIDs missing image metadata: {len(petids_no_image_metadata)}')\n",
    "\n",
    "# add new feature columns to main (tabular) dataframe\n",
    "# dictionary of the new columns and lists to concat\n",
    "image_data = {\n",
    "    'vertex_xs': vertex_xs,\n",
    "    'vertex_ys': vertex_ys,\n",
    "     'bounding_confidences': bounding_confidences,\n",
    "     'bounding_importance_fracs': bounding_importance_fracs,\n",
    "     'dominant_blues': dominant_blues,\n",
    "     'dominant_greens': dominant_greens,\n",
    "     'dominant_reds': dominant_reds,\n",
    "     'dominant_pixel_fracs': dominant_pixel_fracs,\n",
    "     'dominant_scores': dominant_scores,\n",
    "     'label_descriptions': label_descriptions,\n",
    "     'label_scores': label_scores\n",
    "}\n",
    "\n",
    "#add new feature columns to main (tabular) dataframe\n",
    "train_tab_df = pd.concat([\n",
    "    train_tab_df,\n",
    "    pd.DataFrame(image_data)],\n",
    "    axis=1)\n",
    "print(train_tab_df.shape)\n",
    "print(train_tab_df.shape)"
   ]
  },
  {
   "cell_type": "code",
   "execution_count": 76,
   "id": "ddbb2ebe-11a2-42d0-8103-ecc65698efaf",
   "metadata": {},
   "outputs": [
    {
     "data": {
      "text/plain": [
       "14652"
      ]
     },
     "execution_count": 76,
     "metadata": {},
     "output_type": "execute_result"
    }
   ],
   "source": [
    "# for f in image_data:\n",
    "#     print(f\"{f} has length {len(image_data[f])}\")\n",
    "train_tab_df.shape[0] -341\n"
   ]
  },
  {
   "cell_type": "markdown",
   "id": "4993ce10-bfbd-4294-bd59-02468bc1db0e",
   "metadata": {},
   "source": [
    "### 2. Parse Pet Listing Sentiment Analysis Data & Add to Dataframe"
   ]
  },
  {
   "cell_type": "code",
   "execution_count": 34,
   "id": "3d0444c7-7e0f-4b7b-ace8-d025905acf06",
   "metadata": {},
   "outputs": [
    {
     "name": "stdout",
     "output_type": "stream",
     "text": [
      "(14993, 42)\n"
     ]
    },
    {
     "data": {
      "text/html": [
       "<div>\n",
       "<style scoped>\n",
       "    .dataframe tbody tr th:only-of-type {\n",
       "        vertical-align: middle;\n",
       "    }\n",
       "\n",
       "    .dataframe tbody tr th {\n",
       "        vertical-align: top;\n",
       "    }\n",
       "\n",
       "    .dataframe thead th {\n",
       "        text-align: right;\n",
       "    }\n",
       "</style>\n",
       "<table border=\"1\" class=\"dataframe\">\n",
       "  <thead>\n",
       "    <tr style=\"text-align: right;\">\n",
       "      <th></th>\n",
       "      <th>Type</th>\n",
       "      <th>Name</th>\n",
       "      <th>Age</th>\n",
       "      <th>Breed1</th>\n",
       "      <th>Breed2</th>\n",
       "      <th>Gender</th>\n",
       "      <th>Color1</th>\n",
       "      <th>Color2</th>\n",
       "      <th>Color3</th>\n",
       "      <th>MaturitySize</th>\n",
       "      <th>...</th>\n",
       "      <th>dominant_scores</th>\n",
       "      <th>label_descriptions</th>\n",
       "      <th>label_scores</th>\n",
       "      <th>petID</th>\n",
       "      <th>sent_scores</th>\n",
       "      <th>sent_magnitudes</th>\n",
       "      <th>doc_scores</th>\n",
       "      <th>doc_magnitudes</th>\n",
       "      <th>languages</th>\n",
       "      <th>text</th>\n",
       "    </tr>\n",
       "  </thead>\n",
       "  <tbody>\n",
       "    <tr>\n",
       "      <th>0</th>\n",
       "      <td>2</td>\n",
       "      <td>Nibble</td>\n",
       "      <td>3</td>\n",
       "      <td>299</td>\n",
       "      <td>0</td>\n",
       "      <td>1</td>\n",
       "      <td>1</td>\n",
       "      <td>7</td>\n",
       "      <td>0</td>\n",
       "      <td>1</td>\n",
       "      <td>...</td>\n",
       "      <td>0.302789</td>\n",
       "      <td>cat</td>\n",
       "      <td>0.990786</td>\n",
       "      <td>86e1089a3</td>\n",
       "      <td>[0.8, 0.8, -0.2, 0, 0.1, 0.3]</td>\n",
       "      <td>[0.8, 0.8, 0.2, 0, 0.1, 0.3]</td>\n",
       "      <td>0.3</td>\n",
       "      <td>2.4</td>\n",
       "      <td>en</td>\n",
       "      <td>[Nibble is a 3+ month old ball of cuteness., H...</td>\n",
       "    </tr>\n",
       "    <tr>\n",
       "      <th>1</th>\n",
       "      <td>2</td>\n",
       "      <td>No Name Yet</td>\n",
       "      <td>1</td>\n",
       "      <td>265</td>\n",
       "      <td>0</td>\n",
       "      <td>1</td>\n",
       "      <td>1</td>\n",
       "      <td>2</td>\n",
       "      <td>0</td>\n",
       "      <td>2</td>\n",
       "      <td>...</td>\n",
       "      <td>0.348178</td>\n",
       "      <td>cat</td>\n",
       "      <td>0.981269</td>\n",
       "      <td>6296e909a</td>\n",
       "      <td>[0.1, -0.6]</td>\n",
       "      <td>[0.1, 0.6]</td>\n",
       "      <td>-0.2</td>\n",
       "      <td>0.7</td>\n",
       "      <td>en</td>\n",
       "      <td>[I just found it alone yesterday near my apart...</td>\n",
       "    </tr>\n",
       "    <tr>\n",
       "      <th>2</th>\n",
       "      <td>1</td>\n",
       "      <td>Brisco</td>\n",
       "      <td>1</td>\n",
       "      <td>307</td>\n",
       "      <td>0</td>\n",
       "      <td>1</td>\n",
       "      <td>2</td>\n",
       "      <td>7</td>\n",
       "      <td>0</td>\n",
       "      <td>2</td>\n",
       "      <td>...</td>\n",
       "      <td>0.333318</td>\n",
       "      <td>dog</td>\n",
       "      <td>0.960457</td>\n",
       "      <td>3422e4906</td>\n",
       "      <td>[-0.9, 0, 0.9, 0.2, -0.1, 0.6, 0.7]</td>\n",
       "      <td>[0.9, 0, 0.9, 0.2, 0.1, 0.6, 0.7]</td>\n",
       "      <td>0.2</td>\n",
       "      <td>3.7</td>\n",
       "      <td>en</td>\n",
       "      <td>[Their pregnant mother was dumped by her irres...</td>\n",
       "    </tr>\n",
       "    <tr>\n",
       "      <th>3</th>\n",
       "      <td>1</td>\n",
       "      <td>Miko</td>\n",
       "      <td>4</td>\n",
       "      <td>307</td>\n",
       "      <td>0</td>\n",
       "      <td>2</td>\n",
       "      <td>1</td>\n",
       "      <td>2</td>\n",
       "      <td>0</td>\n",
       "      <td>2</td>\n",
       "      <td>...</td>\n",
       "      <td>0.136823</td>\n",
       "      <td>dog</td>\n",
       "      <td>0.978698</td>\n",
       "      <td>5842f1ff5</td>\n",
       "      <td>[0.9]</td>\n",
       "      <td>[0.9]</td>\n",
       "      <td>0.9</td>\n",
       "      <td>0.9</td>\n",
       "      <td>en</td>\n",
       "      <td>[Good guard dog, very alert, active, obedience...</td>\n",
       "    </tr>\n",
       "    <tr>\n",
       "      <th>4</th>\n",
       "      <td>1</td>\n",
       "      <td>Hunter</td>\n",
       "      <td>1</td>\n",
       "      <td>307</td>\n",
       "      <td>0</td>\n",
       "      <td>1</td>\n",
       "      <td>1</td>\n",
       "      <td>0</td>\n",
       "      <td>0</td>\n",
       "      <td>2</td>\n",
       "      <td>...</td>\n",
       "      <td>0.256168</td>\n",
       "      <td>dog</td>\n",
       "      <td>0.984346</td>\n",
       "      <td>850a43f90</td>\n",
       "      <td>[0.7, 0.7, 0.6, 0.7, 0.8, 0]</td>\n",
       "      <td>[0.7, 0.7, 0.6, 0.7, 0.8, 0]</td>\n",
       "      <td>0.6</td>\n",
       "      <td>3.7</td>\n",
       "      <td>en</td>\n",
       "      <td>[This handsome yet cute boy is up for adoption...</td>\n",
       "    </tr>\n",
       "  </tbody>\n",
       "</table>\n",
       "<p>5 rows × 42 columns</p>\n",
       "</div>"
      ],
      "text/plain": [
       "   Type         Name  Age  Breed1  Breed2  Gender  Color1  Color2  Color3  \\\n",
       "0     2       Nibble    3     299       0       1       1       7       0   \n",
       "1     2  No Name Yet    1     265       0       1       1       2       0   \n",
       "2     1       Brisco    1     307       0       1       2       7       0   \n",
       "3     1         Miko    4     307       0       2       1       2       0   \n",
       "4     1       Hunter    1     307       0       1       1       0       0   \n",
       "\n",
       "   MaturitySize  ...  dominant_scores  label_descriptions  label_scores  \\\n",
       "0             1  ...         0.302789                 cat      0.990786   \n",
       "1             2  ...         0.348178                 cat      0.981269   \n",
       "2             2  ...         0.333318                 dog      0.960457   \n",
       "3             2  ...         0.136823                 dog      0.978698   \n",
       "4             2  ...         0.256168                 dog      0.984346   \n",
       "\n",
       "       petID                          sent_scores  \\\n",
       "0  86e1089a3        [0.8, 0.8, -0.2, 0, 0.1, 0.3]   \n",
       "1  6296e909a                          [0.1, -0.6]   \n",
       "2  3422e4906  [-0.9, 0, 0.9, 0.2, -0.1, 0.6, 0.7]   \n",
       "3  5842f1ff5                                [0.9]   \n",
       "4  850a43f90         [0.7, 0.7, 0.6, 0.7, 0.8, 0]   \n",
       "\n",
       "                     sent_magnitudes  doc_scores  doc_magnitudes languages  \\\n",
       "0       [0.8, 0.8, 0.2, 0, 0.1, 0.3]         0.3             2.4        en   \n",
       "1                         [0.1, 0.6]        -0.2             0.7        en   \n",
       "2  [0.9, 0, 0.9, 0.2, 0.1, 0.6, 0.7]         0.2             3.7        en   \n",
       "3                              [0.9]         0.9             0.9        en   \n",
       "4       [0.7, 0.7, 0.6, 0.7, 0.8, 0]         0.6             3.7        en   \n",
       "\n",
       "                                                text  \n",
       "0  [Nibble is a 3+ month old ball of cuteness., H...  \n",
       "1  [I just found it alone yesterday near my apart...  \n",
       "2  [Their pregnant mother was dumped by her irres...  \n",
       "3  [Good guard dog, very alert, active, obedience...  \n",
       "4  [This handsome yet cute boy is up for adoption...  \n",
       "\n",
       "[5 rows x 42 columns]"
      ]
     },
     "execution_count": 34,
     "metadata": {},
     "output_type": "execute_result"
    }
   ],
   "source": [
    "data = []\n",
    "\n",
    "sentiment_path = './data/train_sentiment' \n",
    "json_files = [pos_json for pos_json in os.listdir(sentiment_path) if pos_json.endswith('.json')]\n",
    "\n",
    "for js_file in json_files:\n",
    "    with open(os.path.join(sentiment_path, js_file)) as f:\n",
    "        data.append(json.load(f))\n",
    "\n",
    "id_list = [f.split('.')[0] for f in json_files]  # assuming file name is petID\n",
    "sent_magnitudes = [[sentence['sentiment']['magnitude'] for sentence in d['sentences']] if 'sentences' in d else None for d in data]\n",
    "sent_scores = [[sentence['sentiment']['score'] for sentence in d['sentences']] if 'sentences' in d else None for d in data]\n",
    "doc_magnitudes = [d['documentSentiment']['magnitude'] if 'documentSentiment' in d else None for d in data]\n",
    "doc_scores = [d['documentSentiment']['score'] if 'documentSentiment' in d else None for d in data]\n",
    "languages = [d['language'] if 'language' in d else None for d in data]\n",
    "sent_texts = [[sentence['text']['content'] for sentence in d['sentences']] if 'sentences' in d else None for d in data]\n",
    "\n",
    "sentiment_df = pd.DataFrame({\n",
    "    'petID': id_list,\n",
    "    'sent_scores': sent_scores,\n",
    "    'sent_magnitudes': sent_magnitudes,\n",
    "    'doc_scores': doc_scores,\n",
    "    'doc_magnitudes': doc_magnitudes,\n",
    "    'languages': languages,\n",
    "    'text':sent_texts\n",
    "})json_files\n",
    "\n",
    "train_tab_df = pd.merge(train_tab_df, sentiment_df, how='left', left_on='PetID', right_on='petID')\n",
    "\n",
    "print(train_tab_df.shape)\n",
    "train_tab_df.head()"
   ]
  },
  {
   "cell_type": "code",
   "execution_count": 78,
   "id": "fa6507c6-f134-41ec-9fa3-f87d54a27518",
   "metadata": {},
   "outputs": [
    {
     "data": {
      "text/plain": [
       "14442"
      ]
     },
     "execution_count": 78,
     "metadata": {},
     "output_type": "execute_result"
    }
   ],
   "source": [
    "len(json_files)"
   ]
  },
  {
   "cell_type": "markdown",
   "id": "a31dad41-512d-4c52-b7c7-df3117df899f",
   "metadata": {},
   "source": [
    "### 3. Add external data features (Malaysia State Population & Median Income)"
   ]
  },
  {
   "cell_type": "markdown",
   "id": "02d7ab51-0ed9-4cfd-8eec-72100e71698c",
   "metadata": {},
   "source": [
    "#### Review state labels for state IDs & state names in Petfinder tabular data"
   ]
  },
  {
   "cell_type": "code",
   "execution_count": 35,
   "id": "079bcbe6-a5b9-4106-82e1-e46af3479f47",
   "metadata": {},
   "outputs": [
    {
     "name": "stdout",
     "output_type": "stream",
     "text": [
      "Number of unique StateID values in train set:\n",
      " 14\n",
      "\n",
      "unique StateID values in train set:\n",
      "[41326 41401 41330 41327 41361 41336 41324 41335 41325 41332 41345 41342\n",
      " 41367 41415]\n",
      "\n"
     ]
    }
   ],
   "source": [
    "print(f\"\"\"Number of unique StateID values in train set:\\n {len(train_tab_df.State.unique())}\\n\"\"\")\n",
    "print(f\"\"\"unique StateID values in train set:\\n{train_tab_df.State.unique()}\\n\"\"\")"
   ]
  },
  {
   "cell_type": "code",
   "execution_count": 36,
   "id": "36bb85c8-690f-4826-9f7c-44e364a20ab5",
   "metadata": {},
   "outputs": [
    {
     "name": "stdout",
     "output_type": "stream",
     "text": [
      "0\n"
     ]
    }
   ],
   "source": [
    "#rename 'State' col to 'StateID' for joining\n",
    "train_tab_df.rename(columns={'State':'StateID'},inplace=True)\n",
    "# check nulls in tabular data\n",
    "print(len(train_tab_df[train_tab_df['StateID'].isnull()]))"
   ]
  },
  {
   "cell_type": "markdown",
   "id": "338ecf56-3911-40d7-ba60-1e8ea9c1ac56",
   "metadata": {},
   "source": [
    "#### Review state names for State IDs in Petfinder tabular data"
   ]
  },
  {
   "cell_type": "code",
   "execution_count": 37,
   "id": "aae2c9d2-4a6f-425d-9e24-cc3282ffa48f",
   "metadata": {},
   "outputs": [
    {
     "name": "stdout",
     "output_type": "stream",
     "text": [
      "Number of unique State Names in Petfinder state labels:\n",
      "15\n",
      "\n",
      "Unique State Names in Petfinder state labels:\n",
      "StateName\n",
      "Johor              1\n",
      "Kedah              1\n",
      "Kelantan           1\n",
      "Kuala Lumpur       1\n",
      "Labuan             1\n",
      "Melaka             1\n",
      "Negeri Sembilan    1\n",
      "Pahang             1\n",
      "Perak              1\n",
      "Perlis             1\n",
      "Pulau Pinang       1\n",
      "Sabah              1\n",
      "Sarawak            1\n",
      "Selangor           1\n",
      "Terengganu         1\n",
      "Name: count, dtype: int64\n"
     ]
    }
   ],
   "source": [
    "print(f\"\"\"Number of unique State Names in Petfinder state labels:\\n{len(state_labels.StateName.value_counts())}\\n\"\"\")\n",
    "print(f\"\"\"Unique State Names in Petfinder state labels:\\n{state_labels.StateName.value_counts()}\"\"\")\n",
    "# state_labels = state_labels.sort_values(by='StateName')\n",
    "# state_labels.reset_index(inplace=True)"
   ]
  },
  {
   "cell_type": "markdown",
   "id": "a1b163cd-4b63-4ce3-b96a-e0474e1a56cd",
   "metadata": {},
   "source": [
    "#### Review state income data (median income by state, 2020)"
   ]
  },
  {
   "cell_type": "code",
   "execution_count": 38,
   "id": "1e77e3ed-3162-4ea6-9ac1-a5a501f83e7c",
   "metadata": {},
   "outputs": [
    {
     "data": {
      "text/html": [
       "<div>\n",
       "<style scoped>\n",
       "    .dataframe tbody tr th:only-of-type {\n",
       "        vertical-align: middle;\n",
       "    }\n",
       "\n",
       "    .dataframe tbody tr th {\n",
       "        vertical-align: top;\n",
       "    }\n",
       "\n",
       "    .dataframe thead th {\n",
       "        text-align: right;\n",
       "    }\n",
       "</style>\n",
       "<table border=\"1\" class=\"dataframe\">\n",
       "  <thead>\n",
       "    <tr style=\"text-align: right;\">\n",
       "      <th></th>\n",
       "      <th>variable</th>\n",
       "      <th>variable_en</th>\n",
       "      <th>variable_bm</th>\n",
       "      <th>sex</th>\n",
       "      <th>year</th>\n",
       "      <th>mean</th>\n",
       "      <th>median</th>\n",
       "      <th>recipients</th>\n",
       "    </tr>\n",
       "  </thead>\n",
       "  <tbody>\n",
       "    <tr>\n",
       "      <th>0</th>\n",
       "      <td>overall</td>\n",
       "      <td>Overall</td>\n",
       "      <td>Keseluruhan</td>\n",
       "      <td>overall</td>\n",
       "      <td>2010</td>\n",
       "      <td>1936.0</td>\n",
       "      <td>1500.0</td>\n",
       "      <td>7149200</td>\n",
       "    </tr>\n",
       "    <tr>\n",
       "      <th>1</th>\n",
       "      <td>overall</td>\n",
       "      <td>Overall</td>\n",
       "      <td>Keseluruhan</td>\n",
       "      <td>overall</td>\n",
       "      <td>2011</td>\n",
       "      <td>1959.0</td>\n",
       "      <td>1500.0</td>\n",
       "      <td>7634000</td>\n",
       "    </tr>\n",
       "    <tr>\n",
       "      <th>2</th>\n",
       "      <td>overall</td>\n",
       "      <td>Overall</td>\n",
       "      <td>Keseluruhan</td>\n",
       "      <td>overall</td>\n",
       "      <td>2012</td>\n",
       "      <td>2052.0</td>\n",
       "      <td>1566.0</td>\n",
       "      <td>7782900</td>\n",
       "    </tr>\n",
       "    <tr>\n",
       "      <th>3</th>\n",
       "      <td>overall</td>\n",
       "      <td>Overall</td>\n",
       "      <td>Keseluruhan</td>\n",
       "      <td>overall</td>\n",
       "      <td>2013</td>\n",
       "      <td>2186.0</td>\n",
       "      <td>1700.0</td>\n",
       "      <td>7903100</td>\n",
       "    </tr>\n",
       "    <tr>\n",
       "      <th>4</th>\n",
       "      <td>overall</td>\n",
       "      <td>Overall</td>\n",
       "      <td>Keseluruhan</td>\n",
       "      <td>overall</td>\n",
       "      <td>2014</td>\n",
       "      <td>2377.0</td>\n",
       "      <td>1800.0</td>\n",
       "      <td>8392400</td>\n",
       "    </tr>\n",
       "  </tbody>\n",
       "</table>\n",
       "</div>"
      ],
      "text/plain": [
       "  variable variable_en  variable_bm      sex  year    mean  median  recipients\n",
       "0  overall     Overall  Keseluruhan  overall  2010  1936.0  1500.0     7149200\n",
       "1  overall     Overall  Keseluruhan  overall  2011  1959.0  1500.0     7634000\n",
       "2  overall     Overall  Keseluruhan  overall  2012  2052.0  1566.0     7782900\n",
       "3  overall     Overall  Keseluruhan  overall  2013  2186.0  1700.0     7903100\n",
       "4  overall     Overall  Keseluruhan  overall  2014  2377.0  1800.0     8392400"
      ]
     },
     "execution_count": 38,
     "metadata": {},
     "output_type": "execute_result"
    }
   ],
   "source": [
    "state_income_df.head()"
   ]
  },
  {
   "cell_type": "code",
   "execution_count": 39,
   "id": "179d6fcd-acd2-4629-8d07-1a89e26b7ff4",
   "metadata": {},
   "outputs": [
    {
     "name": "stdout",
     "output_type": "stream",
     "text": [
      "Number of unique state names in state income data: 17\n",
      "state\n",
      "Johor                36\n",
      "Pulau Pinang         36\n",
      "W.P. Labuan          36\n",
      "W.P. Kuala Lumpur    36\n",
      "Terengganu           36\n",
      "Selangor             36\n",
      "Sarawak              36\n",
      "Sabah                36\n",
      "Perlis               36\n",
      "Kedah                36\n",
      "Perak                36\n",
      "Pahang               36\n",
      "Overall              36\n",
      "Negeri Sembilan      36\n",
      "Melaka               36\n",
      "Kelantan             36\n",
      "W.P. Putrajaya       36\n",
      "Name: count, dtype: int64\n"
     ]
    }
   ],
   "source": [
    "# use 'variable_en' as state name\n",
    "state_income_df.rename(columns={'variable_en':'state'},inplace=True)\n",
    "state_income_df = state_income_df.sort_values(by='state')\n",
    "print(f'Number of unique state names in state income data: {len(state_income_df.state.value_counts())}')\n",
    "print(state_income_df.state.value_counts())"
   ]
  },
  {
   "cell_type": "code",
   "execution_count": 40,
   "id": "d38d369c-5ff2-4c6c-8e5c-2c758673a210",
   "metadata": {},
   "outputs": [
    {
     "name": "stdout",
     "output_type": "stream",
     "text": [
      "Number of unique state names in clean state income data: 16\n",
      "state\n",
      "Johor              1\n",
      "Kedah              1\n",
      "Kelantan           1\n",
      "Kuala Lumpur       1\n",
      "Labuan             1\n",
      "Melaka             1\n",
      "Negeri Sembilan    1\n",
      "Pahang             1\n",
      "Perak              1\n",
      "Perlis             1\n",
      "Pulau Pinang       1\n",
      "Putrajaya          1\n",
      "Sabah              1\n",
      "Sarawak            1\n",
      "Selangor           1\n",
      "Terengganu         1\n",
      "Name: count, dtype: int64\n"
     ]
    }
   ],
   "source": [
    "# subset 2020 data\n",
    "state_income_df = state_income_df.loc[state_income_df['year']==2020]\n",
    "# subset overall data (all genders)\n",
    "state_income_df = state_income_df.loc[state_income_df['sex']=='overall'] \n",
    "# remove 'overall' (total) row\n",
    "state_income_df = state_income_df.loc[state_income_df['state']!='Overall']\n",
    "\n",
    "# remove 'W.P.' prefix to match state names in petfinder labels \n",
    "state_income_df['state'] = state_income_df['state'].str.replace('W.P. ','')\n",
    "                                                          \n",
    "state_income_df = state_income_df.loc[:,['state','median']]\n",
    "\n",
    "# sort by English state names \n",
    "state_income_df = state_income_df.sort_values(by='state')\n",
    "\n",
    "state_income_df.reset_index(drop=True,inplace=True)\n",
    "\n",
    "print(f'Number of unique state names in clean state income data: {len(state_income_df.state.value_counts())}')\n",
    "print(state_income_df.state.value_counts())\n",
    "# 'Putrajaya' not present in other state dfs\n"
   ]
  },
  {
   "cell_type": "markdown",
   "id": "c4f1106f-e540-4279-baef-5b8d187882e2",
   "metadata": {},
   "source": [
    "#### Review state population data (total population by state, 2020)"
   ]
  },
  {
   "cell_type": "code",
   "execution_count": 41,
   "id": "5d6fba8a-7733-49be-9dc6-5021a582da86",
   "metadata": {},
   "outputs": [
    {
     "data": {
      "text/html": [
       "<div>\n",
       "<style scoped>\n",
       "    .dataframe tbody tr th:only-of-type {\n",
       "        vertical-align: middle;\n",
       "    }\n",
       "\n",
       "    .dataframe tbody tr th {\n",
       "        vertical-align: top;\n",
       "    }\n",
       "\n",
       "    .dataframe thead th {\n",
       "        text-align: right;\n",
       "    }\n",
       "</style>\n",
       "<table border=\"1\" class=\"dataframe\">\n",
       "  <thead>\n",
       "    <tr style=\"text-align: right;\">\n",
       "      <th></th>\n",
       "      <th>state</th>\n",
       "      <th>idxs</th>\n",
       "      <th>pop</th>\n",
       "      <th>pop_18</th>\n",
       "      <th>pop_60</th>\n",
       "      <th>pop_12</th>\n",
       "      <th>pop_5</th>\n",
       "    </tr>\n",
       "  </thead>\n",
       "  <tbody>\n",
       "    <tr>\n",
       "      <th>0</th>\n",
       "      <td>Malaysia</td>\n",
       "      <td>0</td>\n",
       "      <td>32657100</td>\n",
       "      <td>23528200</td>\n",
       "      <td>3649000</td>\n",
       "      <td>3111400</td>\n",
       "      <td>3550500</td>\n",
       "    </tr>\n",
       "    <tr>\n",
       "      <th>1</th>\n",
       "      <td>Klang Valley</td>\n",
       "      <td>17</td>\n",
       "      <td>8417800</td>\n",
       "      <td>6181800</td>\n",
       "      <td>827600</td>\n",
       "      <td>719000</td>\n",
       "      <td>895100</td>\n",
       "    </tr>\n",
       "    <tr>\n",
       "      <th>2</th>\n",
       "      <td>Johor</td>\n",
       "      <td>1</td>\n",
       "      <td>3794200</td>\n",
       "      <td>2733400</td>\n",
       "      <td>445600</td>\n",
       "      <td>353900</td>\n",
       "      <td>409800</td>\n",
       "    </tr>\n",
       "    <tr>\n",
       "      <th>3</th>\n",
       "      <td>Kedah</td>\n",
       "      <td>2</td>\n",
       "      <td>2193600</td>\n",
       "      <td>1554800</td>\n",
       "      <td>282300</td>\n",
       "      <td>209700</td>\n",
       "      <td>254100</td>\n",
       "    </tr>\n",
       "    <tr>\n",
       "      <th>4</th>\n",
       "      <td>Kelantan</td>\n",
       "      <td>3</td>\n",
       "      <td>1928900</td>\n",
       "      <td>1258700</td>\n",
       "      <td>202100</td>\n",
       "      <td>211200</td>\n",
       "      <td>271700</td>\n",
       "    </tr>\n",
       "  </tbody>\n",
       "</table>\n",
       "</div>"
      ],
      "text/plain": [
       "          state  idxs       pop    pop_18   pop_60   pop_12    pop_5\n",
       "0      Malaysia     0  32657100  23528200  3649000  3111400  3550500\n",
       "1  Klang Valley    17   8417800   6181800   827600   719000   895100\n",
       "2         Johor     1   3794200   2733400   445600   353900   409800\n",
       "3         Kedah     2   2193600   1554800   282300   209700   254100\n",
       "4      Kelantan     3   1928900   1258700   202100   211200   271700"
      ]
     },
     "execution_count": 41,
     "metadata": {},
     "output_type": "execute_result"
    }
   ],
   "source": [
    "state_pop_df.head()"
   ]
  },
  {
   "cell_type": "code",
   "execution_count": 42,
   "id": "123971db-c37f-4618-acc2-7d1453ca116d",
   "metadata": {},
   "outputs": [
    {
     "name": "stdout",
     "output_type": "stream",
     "text": [
      "Number of unique state names in state pop. data: 18\n",
      "state\n",
      "Malaysia             1\n",
      "Klang Valley         1\n",
      "W.P. Labuan          1\n",
      "W.P. Kuala Lumpur    1\n",
      "Terengganu           1\n",
      "Selangor             1\n",
      "Sarawak              1\n",
      "Sabah                1\n",
      "Pulau Pinang         1\n",
      "Perlis               1\n",
      "Perak                1\n",
      "Pahang               1\n",
      "Negeri Sembilan      1\n",
      "Melaka               1\n",
      "Kelantan             1\n",
      "Kedah                1\n",
      "Johor                1\n",
      "W.P. Putrajaya       1\n",
      "Name: count, dtype: int64\n"
     ]
    }
   ],
   "source": [
    "print(f'Number of unique state names in state pop. data: {len(state_pop_df.state.value_counts())}')\n",
    "print(state_pop_df.state.value_counts())"
   ]
  },
  {
   "cell_type": "code",
   "execution_count": 43,
   "id": "2ca52b1b-2369-463d-819b-4447c82b4b12",
   "metadata": {},
   "outputs": [
    {
     "name": "stdout",
     "output_type": "stream",
     "text": [
      "Number of unique state names in cleaned state pop. data: 17\n",
      "state\n",
      "Johor              1\n",
      "Perak              1\n",
      "Selangor           1\n",
      "Sarawak            1\n",
      "Sabah              1\n",
      "Putrajaya          1\n",
      "Pulau Pinang       1\n",
      "Perlis             1\n",
      "Pahang             1\n",
      "Kedah              1\n",
      "Negeri Sembilan    1\n",
      "Melaka             1\n",
      "Labuan             1\n",
      "Kuala Lumpur       1\n",
      "Klang Valley       1\n",
      "Kelantan           1\n",
      "Terengganu         1\n",
      "Name: count, dtype: int64\n"
     ]
    }
   ],
   "source": [
    "# remove 'Malaysia' (total) row\n",
    "state_pop_df = state_pop_df[state_pop_df['state'] != 'Malaysia'] \n",
    "\n",
    "# remove 'W.P.' prefix\n",
    "state_pop_df['state'] = state_pop_df['state'].str.replace('W.P. ','')\n",
    "\n",
    "state_pop_df = state_pop_df.sort_values(by='state')\n",
    "\n",
    "print(f'Number of unique state names in cleaned state pop. data: {len(state_pop_df.state.value_counts())}')\n",
    "print(state_pop_df.state.value_counts())\n",
    "# 'Klang Valley' not present in other state df columns "
   ]
  },
  {
   "cell_type": "code",
   "execution_count": 44,
   "id": "078396f7-c710-48ca-aab8-2b75066a02c5",
   "metadata": {},
   "outputs": [
    {
     "name": "stdout",
     "output_type": "stream",
     "text": [
      "state names in income df but not in population df:\n",
      "['Pahang ', 'Pulau Pinang ']\n"
     ]
    }
   ],
   "source": [
    "# check difference between population df & income df states\n",
    "print(\"state names in income df but not in population df:\")\n",
    "print (list(set(state_income_df.state.unique()) - set(state_pop_df.state.unique())))"
   ]
  },
  {
   "cell_type": "code",
   "execution_count": 45,
   "id": "8e989eec-21c0-4605-a6a1-a606288b21c3",
   "metadata": {},
   "outputs": [
    {
     "name": "stdout",
     "output_type": "stream",
     "text": [
      "state names in population df but not in income df:\n",
      "['Pulau Pinang', 'Klang Valley', 'Pahang']\n"
     ]
    }
   ],
   "source": [
    "# check difference between income df and population df: \n",
    "print(\"state names in population df but not in income df:\")\n",
    "print (list(set(state_pop_df.state.unique())- set(state_income_df.state.unique())))"
   ]
  },
  {
   "cell_type": "code",
   "execution_count": 46,
   "id": "55bbecfd-2d05-4fd2-85f9-23a925a125ee",
   "metadata": {},
   "outputs": [],
   "source": [
    "# remove trailing space after 'Pulau Pinang ' &  'Pahang ' in income df\n",
    "state_income_df['state'] = state_income_df['state'].str.replace('Pulau Pinang ','Pulau Pinang')\n",
    "state_income_df['state'] = state_income_df['state'].str.replace('Pahang ','Pahang')"
   ]
  },
  {
   "cell_type": "code",
   "execution_count": 47,
   "id": "1c9cc08e-e1a8-4781-a53f-5c4c51a5dadb",
   "metadata": {},
   "outputs": [
    {
     "name": "stdout",
     "output_type": "stream",
     "text": [
      "state names in income df but not in population df:\n",
      "[]\n",
      "state names in population df but not in income df:\n",
      "['Klang Valley']\n"
     ]
    }
   ],
   "source": [
    "# check that this worked\n",
    "# check difference between population df & income df states\n",
    "print(\"state names in income df but not in population df:\")\n",
    "print (list(set(state_income_df.state.unique()) - set(state_pop_df.state.unique())))\n",
    "\n",
    "print(\"state names in population df but not in income df:\")\n",
    "print (list(set(state_pop_df.state.unique())- set(state_income_df.state.unique())))"
   ]
  },
  {
   "cell_type": "code",
   "execution_count": 48,
   "id": "b592331a-b5b7-4871-b87c-eae2e77b633a",
   "metadata": {},
   "outputs": [
    {
     "name": "stdout",
     "output_type": "stream",
     "text": [
      "Number of unique state names in combined state data: 17\n",
      "Number of unique state names in P.F. State Labels: 15\n"
     ]
    }
   ],
   "source": [
    "state_pop_df.reset_index(drop=True,inplace=True)\n",
    "# merge external state data\n",
    "comb_state_df = pd.merge(state_pop_df,state_income_df,how='left',on='state')\n",
    "# select relevant columns \n",
    "comb_state_df = comb_state_df.loc[:,['state','pop','median']]\n",
    "\n",
    "print(f'Number of unique state names in combined state data: {len(comb_state_df.state.value_counts())}')\n",
    "print(f'Number of unique state names in P.F. State Labels: {len(state_labels.StateName.value_counts())}')"
   ]
  },
  {
   "cell_type": "code",
   "execution_count": 49,
   "id": "6211e1c7-61e1-4b55-8c55-9ecd168b341b",
   "metadata": {},
   "outputs": [
    {
     "name": "stdout",
     "output_type": "stream",
     "text": [
      "State names in median/income df but not in Petfinder labels:\n",
      "['Putrajaya', 'Klang Valley']\n",
      "State names in Petfinder labels but not in median/income df:\n",
      "[]\n"
     ]
    }
   ],
   "source": [
    "# check discrepancies in state names between combined income/pop data and PF labels\n",
    "print(\"State names in median/income df but not in Petfinder labels:\")\n",
    "print (list(set(comb_state_df.state.unique())- set(state_labels.StateName.unique())))\n",
    "\n",
    "print(\"State names in Petfinder labels but not in median/income df:\")\n",
    "print (list(set(state_labels.StateName.unique()) - set(comb_state_df.state.unique())))"
   ]
  },
  {
   "cell_type": "code",
   "execution_count": 50,
   "id": "a8c49d7d-b1ee-41ee-b415-ec4f37205c03",
   "metadata": {
    "scrolled": true
   },
   "outputs": [
    {
     "data": {
      "text/html": [
       "<div>\n",
       "<style scoped>\n",
       "    .dataframe tbody tr th:only-of-type {\n",
       "        vertical-align: middle;\n",
       "    }\n",
       "\n",
       "    .dataframe tbody tr th {\n",
       "        vertical-align: top;\n",
       "    }\n",
       "\n",
       "    .dataframe thead th {\n",
       "        text-align: right;\n",
       "    }\n",
       "</style>\n",
       "<table border=\"1\" class=\"dataframe\">\n",
       "  <thead>\n",
       "    <tr style=\"text-align: right;\">\n",
       "      <th></th>\n",
       "      <th>StateID</th>\n",
       "      <th>StateName</th>\n",
       "      <th>state_population</th>\n",
       "      <th>median_state_income</th>\n",
       "    </tr>\n",
       "  </thead>\n",
       "  <tbody>\n",
       "    <tr>\n",
       "      <th>0</th>\n",
       "      <td>41336</td>\n",
       "      <td>Johor</td>\n",
       "      <td>3794200</td>\n",
       "      <td>2124.0</td>\n",
       "    </tr>\n",
       "    <tr>\n",
       "      <th>1</th>\n",
       "      <td>41325</td>\n",
       "      <td>Kedah</td>\n",
       "      <td>2193600</td>\n",
       "      <td>1474.0</td>\n",
       "    </tr>\n",
       "    <tr>\n",
       "      <th>2</th>\n",
       "      <td>41367</td>\n",
       "      <td>Kelantan</td>\n",
       "      <td>1928900</td>\n",
       "      <td>1343.0</td>\n",
       "    </tr>\n",
       "    <tr>\n",
       "      <th>3</th>\n",
       "      <td>41401</td>\n",
       "      <td>Kuala Lumpur</td>\n",
       "      <td>1746600</td>\n",
       "      <td>3037.0</td>\n",
       "    </tr>\n",
       "    <tr>\n",
       "      <th>4</th>\n",
       "      <td>41415</td>\n",
       "      <td>Labuan</td>\n",
       "      <td>100100</td>\n",
       "      <td>2130.0</td>\n",
       "    </tr>\n",
       "    <tr>\n",
       "      <th>5</th>\n",
       "      <td>41324</td>\n",
       "      <td>Melaka</td>\n",
       "      <td>937800</td>\n",
       "      <td>2120.0</td>\n",
       "    </tr>\n",
       "    <tr>\n",
       "      <th>6</th>\n",
       "      <td>41332</td>\n",
       "      <td>Negeri Sembilan</td>\n",
       "      <td>1128900</td>\n",
       "      <td>2062.0</td>\n",
       "    </tr>\n",
       "    <tr>\n",
       "      <th>7</th>\n",
       "      <td>41335</td>\n",
       "      <td>Pahang</td>\n",
       "      <td>1684700</td>\n",
       "      <td>1753.0</td>\n",
       "    </tr>\n",
       "    <tr>\n",
       "      <th>8</th>\n",
       "      <td>41330</td>\n",
       "      <td>Perak</td>\n",
       "      <td>2509000</td>\n",
       "      <td>1629.0</td>\n",
       "    </tr>\n",
       "    <tr>\n",
       "      <th>9</th>\n",
       "      <td>41380</td>\n",
       "      <td>Perlis</td>\n",
       "      <td>255500</td>\n",
       "      <td>1571.0</td>\n",
       "    </tr>\n",
       "    <tr>\n",
       "      <th>10</th>\n",
       "      <td>41327</td>\n",
       "      <td>Pulau Pinang</td>\n",
       "      <td>1774200</td>\n",
       "      <td>2082.0</td>\n",
       "    </tr>\n",
       "    <tr>\n",
       "      <th>11</th>\n",
       "      <td>41345</td>\n",
       "      <td>Sabah</td>\n",
       "      <td>3832500</td>\n",
       "      <td>1716.0</td>\n",
       "    </tr>\n",
       "    <tr>\n",
       "      <th>12</th>\n",
       "      <td>41342</td>\n",
       "      <td>Sarawak</td>\n",
       "      <td>2824700</td>\n",
       "      <td>1593.0</td>\n",
       "    </tr>\n",
       "    <tr>\n",
       "      <th>13</th>\n",
       "      <td>41326</td>\n",
       "      <td>Selangor</td>\n",
       "      <td>6555100</td>\n",
       "      <td>2725.0</td>\n",
       "    </tr>\n",
       "    <tr>\n",
       "      <th>14</th>\n",
       "      <td>41361</td>\n",
       "      <td>Terengganu</td>\n",
       "      <td>1275200</td>\n",
       "      <td>1514.0</td>\n",
       "    </tr>\n",
       "  </tbody>\n",
       "</table>\n",
       "</div>"
      ],
      "text/plain": [
       "    StateID        StateName  state_population  median_state_income\n",
       "0     41336            Johor           3794200               2124.0\n",
       "1     41325            Kedah           2193600               1474.0\n",
       "2     41367         Kelantan           1928900               1343.0\n",
       "3     41401     Kuala Lumpur           1746600               3037.0\n",
       "4     41415           Labuan            100100               2130.0\n",
       "5     41324           Melaka            937800               2120.0\n",
       "6     41332  Negeri Sembilan           1128900               2062.0\n",
       "7     41335           Pahang           1684700               1753.0\n",
       "8     41330            Perak           2509000               1629.0\n",
       "9     41380           Perlis            255500               1571.0\n",
       "10    41327     Pulau Pinang           1774200               2082.0\n",
       "11    41345            Sabah           3832500               1716.0\n",
       "12    41342          Sarawak           2824700               1593.0\n",
       "13    41326         Selangor           6555100               2725.0\n",
       "14    41361       Terengganu           1275200               1514.0"
      ]
     },
     "execution_count": 50,
     "metadata": {},
     "output_type": "execute_result"
    }
   ],
   "source": [
    "# rename columns for clarity \n",
    "comb_state_df.rename(columns={\"state\":\"StateName\",\n",
    "                              \"pop\":\"state_population\",\n",
    "                               \"median\":\"median_state_income\"}, \n",
    "                      inplace=True)\n",
    "\n",
    "# merge with petfinder state labels \n",
    "state_labels = pd.merge(state_labels,comb_state_df,on='StateName')\n",
    "state_labels"
   ]
  },
  {
   "cell_type": "markdown",
   "id": "84686e84-6dd3-47d5-83ee-79629b29175c",
   "metadata": {},
   "source": [
    "#### Join petfinder state labels with combined external state data"
   ]
  },
  {
   "cell_type": "code",
   "execution_count": 51,
   "id": "a85dc19f-3290-4116-9fd3-e43483c79309",
   "metadata": {},
   "outputs": [
    {
     "name": "stdout",
     "output_type": "stream",
     "text": [
      "(14993, 45)\n",
      "Index(['Type', 'Name', 'Age', 'Breed1', 'Breed2', 'Gender', 'Color1', 'Color2',\n",
      "       'Color3', 'MaturitySize', 'FurLength', 'Vaccinated', 'Dewormed',\n",
      "       'Sterilized', 'Health', 'Quantity', 'Fee', 'StateID', 'RescuerID',\n",
      "       'VideoAmt', 'Description', 'PetID', 'PhotoAmt', 'AdoptionSpeed',\n",
      "       'vertex_xs', 'vertex_ys', 'bounding_confidences',\n",
      "       'bounding_importance_fracs', 'dominant_blues', 'dominant_greens',\n",
      "       'dominant_reds', 'dominant_pixel_fracs', 'dominant_scores',\n",
      "       'label_descriptions', 'label_scores', 'petID', 'sent_scores',\n",
      "       'sent_magnitudes', 'doc_scores', 'doc_magnitudes', 'languages', 'text',\n",
      "       'StateName', 'state_population', 'median_state_income'],\n",
      "      dtype='object')\n"
     ]
    }
   ],
   "source": [
    "# join petfinder state labels with external state data \n",
    "train_tab_df = pd.merge(train_tab_df,state_labels,how='left', on='StateID')\n",
    "#train_tab_df= train_tab_df.set_index('StateID').join(state_labels.set_index('StateID'))\n",
    "print(train_tab_df.shape)\n",
    "print(train_tab_df.columns)"
   ]
  },
  {
   "cell_type": "code",
   "execution_count": 52,
   "id": "2c7a9fdf-d6be-4789-90a0-d0ecf3cbcb4f",
   "metadata": {},
   "outputs": [
    {
     "data": {
      "text/plain": [
       "median_state_income\n",
       "2725.0    8714\n",
       "3037.0    3845\n",
       "2082.0     843\n",
       "2124.0     507\n",
       "1629.0     420\n",
       "2062.0     253\n",
       "2120.0     137\n",
       "1474.0     110\n",
       "1753.0      85\n",
       "1514.0      26\n",
       "1716.0      22\n",
       "1343.0      15\n",
       "1593.0      13\n",
       "2130.0       3\n",
       "Name: count, dtype: int64"
      ]
     },
     "execution_count": 52,
     "metadata": {},
     "output_type": "execute_result"
    }
   ],
   "source": [
    "train_tab_df.median_state_income.value_counts()"
   ]
  },
  {
   "cell_type": "markdown",
   "id": "57ff4414",
   "metadata": {},
   "source": [
    "### -------begin Bailey added code section-------"
   ]
  },
  {
   "cell_type": "markdown",
   "id": "4a702871",
   "metadata": {},
   "source": [
    "# Split the combined data into test and train (80/20)"
   ]
  },
  {
   "cell_type": "markdown",
   "id": "251a21f1",
   "metadata": {},
   "source": [
    "#### Split data into test/train"
   ]
  },
  {
   "cell_type": "code",
   "execution_count": 53,
   "id": "5841d786",
   "metadata": {},
   "outputs": [
    {
     "data": {
      "text/plain": [
       "AdoptionSpeed\n",
       "4    0.279931\n",
       "2    0.269259\n",
       "3    0.217368\n",
       "1    0.206096\n",
       "0    0.027346\n",
       "Name: proportion, dtype: float64"
      ]
     },
     "execution_count": 53,
     "metadata": {},
     "output_type": "execute_result"
    }
   ],
   "source": [
    "train_tab_df.AdoptionSpeed.value_counts(normalize=True)"
   ]
  },
  {
   "cell_type": "code",
   "execution_count": 54,
   "id": "44c0977d",
   "metadata": {},
   "outputs": [],
   "source": [
    "# split the data into test and train (split training 80% so that 25% of it can be used for validation)\n",
    "\n",
    "# Original version:\n",
    "train, test = train_test_split(train_tab_df, test_size=0.2, random_state=42)\n",
    "\n",
    "# Stratified version:\n",
    "#train, test = train_test_split(train_tab_df, test_size=0.2,random_state=42, \n",
    "#                               stratify = train_tab_df.AdoptionSpeed) # stratify to balance labels in train/test sets\n"
   ]
  },
  {
   "cell_type": "code",
   "execution_count": 55,
   "id": "01e53122",
   "metadata": {},
   "outputs": [
    {
     "name": "stdout",
     "output_type": "stream",
     "text": [
      "Shape train:  (11994, 45) \n",
      "Shape test:  (2999, 45)\n"
     ]
    }
   ],
   "source": [
    "# review shape of data\n",
    "print('Shape train: ', train.shape, '\\nShape test: ', test.shape)\n",
    "      #,'\\nShape validation: ', validation.shape)"
   ]
  },
  {
   "cell_type": "code",
   "execution_count": 56,
   "id": "e338f9a7",
   "metadata": {},
   "outputs": [
    {
     "data": {
      "text/plain": [
       "AdoptionSpeed\n",
       "4    0.280474\n",
       "2    0.269385\n",
       "3    0.218276\n",
       "1    0.205353\n",
       "0    0.026513\n",
       "Name: proportion, dtype: float64"
      ]
     },
     "execution_count": 56,
     "metadata": {},
     "output_type": "execute_result"
    }
   ],
   "source": [
    "train.AdoptionSpeed.value_counts(normalize=True)"
   ]
  },
  {
   "cell_type": "markdown",
   "id": "efb414b8",
   "metadata": {},
   "source": [
    "#### Write data to respective files\n",
    "Note: The files will split the same way each time as long as you do not change the \"random_state\" in the train_test_split function.\n"
   ]
  },
  {
   "cell_type": "code",
   "execution_count": 57,
   "id": "b0d27282-143e-4368-bfcd-64112e4a2837",
   "metadata": {},
   "outputs": [],
   "source": [
    "# train\n",
    "train.to_csv('split_train.csv')"
   ]
  },
  {
   "cell_type": "code",
   "execution_count": 58,
   "id": "aa2cfc2a",
   "metadata": {},
   "outputs": [],
   "source": [
    "# test \n",
    "test.to_csv('split_test.csv')"
   ]
  }
 ],
 "metadata": {
  "kernelspec": {
   "display_name": "Python 3 (ipykernel)",
   "language": "python",
   "name": "python3"
  },
  "language_info": {
   "codemirror_mode": {
    "name": "ipython",
    "version": 3
   },
   "file_extension": ".py",
   "mimetype": "text/x-python",
   "name": "python",
   "nbconvert_exporter": "python",
   "pygments_lexer": "ipython3",
   "version": "3.9.16"
  },
  "toc": {
   "base_numbering": 1,
   "nav_menu": {},
   "number_sections": true,
   "sideBar": true,
   "skip_h1_title": false,
   "title_cell": "Table of Contents",
   "title_sidebar": "Contents",
   "toc_cell": false,
   "toc_position": {},
   "toc_section_display": true,
   "toc_window_display": false
  }
 },
 "nbformat": 4,
 "nbformat_minor": 5
}

{
 "cells": [
  {
   "cell_type": "markdown",
   "id": "1b2ca285",
   "metadata": {},
   "source": [
    "# Model Training\n",
    "We aim to use the following models:\n",
    "\n",
    "1. Baseline model: zerorate classifier\n",
    "2. Feed Forward Neural Nets with and without embeddings\n",
    "3. Pre-trained Transformers: TabNet by Google\n",
    "4. Voting classifiers\n"
   ]
  },
  {
   "cell_type": "code",
   "execution_count": 1,
   "id": "4bed0e98",
   "metadata": {},
   "outputs": [
    {
     "name": "stderr",
     "output_type": "stream",
     "text": [
      "/Users/lucymherr/miniforge3/envs/w207_final/lib/python3.9/site-packages/tensorflow_addons/utils/tfa_eol_msg.py:23: UserWarning: \n",
      "\n",
      "TensorFlow Addons (TFA) has ended development and introduction of new features.\n",
      "TFA has entered a minimal maintenance and release mode until a planned end of life in May 2024.\n",
      "Please modify downstream libraries to take dependencies from other repositories in our TensorFlow community (e.g. Keras, Keras-CV, and Keras-NLP). \n",
      "\n",
      "For more information see: https://github.com/tensorflow/addons/issues/2807 \n",
      "\n",
      "  warnings.warn(\n",
      "Using `tqdm.autonotebook.tqdm` in notebook mode. Use `tqdm.tqdm` instead to force console mode (e.g. in jupyter console)\n",
      "Importing display from IPython.core.display is deprecated since IPython 7.14, please import from IPython display\n"
     ]
    }
   ],
   "source": [
    "# Standard\n",
    "import pandas as pd\n",
    "import numpy as np \n",
    "\n",
    "# sklearn\n",
    "from sklearn.preprocessing import StandardScaler\n",
    "from sklearn.model_selection import train_test_split, KFold\n",
    "from sklearn.metrics import accuracy_score, precision_score, recall_score, f1_score\n",
    "from sklearn.metrics import classification_report, confusion_matrix, cohen_kappa_score\n",
    "from sklearn import tree\n",
    "from sklearn.tree import DecisionTreeClassifier\n",
    "from sklearn.ensemble import VotingClassifier\n",
    "\n",
    "# tf and keras\n",
    "import tensorflow as tf\n",
    "import tensorflow_addons as tfa\n",
    "from tensorflow import keras\n",
    "from tensorflow.keras.preprocessing.text import Tokenizer\n",
    "from tensorflow.keras.preprocessing.sequence import pad_sequences\n",
    "from tensorflow.keras.models import Model\n",
    "\n",
    "# Pytorch\n",
    "import torch\n",
    "from pytorch_tabnet.tab_model import TabNetClassifier\n",
    "\n",
    "# xgboost \n",
    "import xgboost as xgb\n",
    "\n",
    "# shap\n",
    "import shap\n",
    "\n",
    "# classifier for zero rate regression\n",
    "from sklearn.dummy import DummyClassifier\n",
    "\n",
    "# plots and images\n",
    "import seaborn as sns\n",
    "import matplotlib.pyplot as plt\n",
    "from IPython.core.display import Image, display\n",
    "\n",
    "import warnings\n",
    "warnings.filterwarnings(\"ignore\")"
   ]
  },
  {
   "cell_type": "code",
   "execution_count": 2,
   "id": "18e87420",
   "metadata": {},
   "outputs": [],
   "source": [
    "# Helper function\n",
    "def confusion_matrix_plot(conf_matrix):\n",
    "    \"\"\" Confusion matrix matplotlib plot\n",
    "    # param conf_matrix: nested list of TP, TN, FP, FN\n",
    "    # return: None\n",
    "    \"\"\"\n",
    "    fig, ax = plt.subplots(figsize=(2.5, 2.5))\n",
    "    ax.matshow(conf_matrix, cmap=plt.cm.Blues, alpha=0.3)\n",
    "    for i in range(conf_matrix.shape[0]):\n",
    "        for j in range(conf_matrix.shape[1]):\n",
    "            ax.text(x=j, y=i, s=conf_matrix[i, j], va='center', ha='center')\n",
    "\n",
    "    plt.xlabel('Predicted label')\n",
    "    plt.ylabel('True label')\n",
    "\n",
    "    plt.tight_layout()\n",
    "    plt.show()"
   ]
  },
  {
   "cell_type": "markdown",
   "id": "a5b765cb",
   "metadata": {},
   "source": [
    "# Load and prepare data"
   ]
  },
  {
   "cell_type": "code",
   "execution_count": 3,
   "id": "0ff311de",
   "metadata": {},
   "outputs": [
    {
     "name": "stdout",
     "output_type": "stream",
     "text": [
      "Shape of train file: (11994, 92)\n",
      "Shape of test file: (2999, 92)\n"
     ]
    }
   ],
   "source": [
    "# Load train file\n",
    "train_file = 'split_train_clean.csv' \n",
    "train = pd.read_csv(train_file)\n",
    "\n",
    "# Load test file\n",
    "test_file = 'split_test_clean.csv'\n",
    "test = pd.read_csv(test_file)\n",
    "\n",
    "print(f'Shape of train file: {train.shape}')\n",
    "print(f'Shape of test file: {test.shape}')"
   ]
  },
  {
   "cell_type": "markdown",
   "id": "eb9df4db",
   "metadata": {},
   "source": [
    "# Pre processing for NN"
   ]
  },
  {
   "cell_type": "code",
   "execution_count": 4,
   "id": "fe9544d2",
   "metadata": {},
   "outputs": [
    {
     "name": "stdout",
     "output_type": "stream",
     "text": [
      "Shape of X_train before dropping: (11994, 92)\n",
      "Index(['Type', 'Age', 'Breed1_0', 'Breed1_1', 'Breed1_2', 'Breed1_3',\n",
      "       'Breed1_4', 'Breed1_5', 'Breed1_6', 'Breed1_7', 'Breed2_0', 'Breed2_1',\n",
      "       'Breed2_2', 'Breed2_3', 'Breed2_4', 'Breed2_5', 'Breed2_6',\n",
      "       'MaturitySize', 'FurLength', 'Vaccinated_1', 'Vaccinated_2',\n",
      "       'Vaccinated_3', 'Dewormed_1', 'Dewormed_2', 'Dewormed_3',\n",
      "       'Sterilized_1', 'Sterilized_2', 'Sterilized_3', 'Health', 'Quantity',\n",
      "       'Fee', 'StateID_0', 'StateID_1', 'StateID_2', 'StateID_3', 'VideoAmt',\n",
      "       'Description', 'PhotoAmt', 'AdoptionSpeed', 'vertex_xs', 'vertex_ys',\n",
      "       'bounding_confidences', 'bounding_importance_fracs', 'dominant_blues',\n",
      "       'dominant_greens', 'dominant_reds', 'dominant_pixel_fracs',\n",
      "       'dominant_scores', 'doc_scores', 'doc_magnitudes', 'state_population',\n",
      "       'median_state_income', 'Invalid_name', 'IsTopRescuer', 'RescuerCount',\n",
      "       'Fee_binary', 'Fee_bin_1', 'Fee_bin_2', 'Fee_bin_3', 'Fee_bin_4',\n",
      "       'Quantity_binary', 'Quantity_bin_1', 'Quantity_bin_2', 'Quantity_bin_3',\n",
      "       'Age_guessed', 'Age_bin_1', 'Age_bin_2', 'Age_bin_3', 'Age_bin_4',\n",
      "       'Age_bin_5', 'has_Video', 'isMale', 'isFemale', 'Black', 'Brown',\n",
      "       'Golden', 'Yellow', 'Cream', 'Gray', 'White', 'ColorCount',\n",
      "       'isGeneric_Breed'],\n",
      "      dtype='object')\n",
      "Shape of X_train after dropping: (11994, 82)\n",
      "Shape of X_test: (2999, 82)\n"
     ]
    }
   ],
   "source": [
    "# Print statements\n",
    "print(f'Shape of X_train before dropping: {train.shape}')\n",
    "\n",
    "# Dropping unsued columns \n",
    "drop_cols = ['Unnamed: 0.1', 'Unnamed: 0', 'Name', \n",
    "             'PetID', 'label_descriptions', 'label_scores',\n",
    "             'languages','StateName', 'has_Photo', 'has_descriptoin']\n",
    "\n",
    "train.drop(columns = drop_cols, axis = 1, inplace=True)\n",
    "test.drop(columns = drop_cols, axis = 1, inplace=True)\n",
    "\n",
    "# Print statements\n",
    "print(train.columns)\n",
    "print(f'Shape of X_train after dropping: {train.shape}')\n",
    "print(f'Shape of X_test: {test.shape}')"
   ]
  },
  {
   "cell_type": "code",
   "execution_count": 5,
   "id": "b7a1e3b6",
   "metadata": {},
   "outputs": [
    {
     "name": "stdout",
     "output_type": "stream",
     "text": [
      " Number of missing data points pre: 10\n",
      " Number of missing data points post: 0\n"
     ]
    }
   ],
   "source": [
    "# Input data\n",
    "print(f' Number of missing data points pre: {sum(train.isna().sum())}')\n",
    "\n",
    "# Drop NAs\n",
    "train = train.dropna()\n",
    "test = test.dropna()\n",
    "\n",
    "print(f' Number of missing data points post: {sum(train.isna().sum())}')"
   ]
  },
  {
   "cell_type": "code",
   "execution_count": 6,
   "id": "c3ad72c1",
   "metadata": {},
   "outputs": [
    {
     "data": {
      "text/plain": [
       "AdoptionSpeed\n",
       "3    3361\n",
       "1    3227\n",
       "0    2779\n",
       "2    2617\n",
       "Name: count, dtype: int64"
      ]
     },
     "execution_count": 6,
     "metadata": {},
     "output_type": "execute_result"
    }
   ],
   "source": [
    "# Group 0 & 1 and relabel target variable in train and test\n",
    "relabel_dict = { 0:0, 1:0, 2:1, 3:2, 4:3 }\n",
    "train['AdoptionSpeed'] = train['AdoptionSpeed'].map(relabel_dict)\n",
    "test['AdoptionSpeed'] = test['AdoptionSpeed'].map(relabel_dict)\n",
    "\n",
    "# Value counts of re-labeled AdoptionSpeed\n",
    "adoption_speed_counts = train['AdoptionSpeed'].value_counts()\n",
    "adoption_speed_counts"
   ]
  },
  {
   "cell_type": "code",
   "execution_count": 7,
   "id": "b5c14e51",
   "metadata": {},
   "outputs": [
    {
     "name": "stdout",
     "output_type": "stream",
     "text": [
      "After downsampling, our data contains 10468 pets and 82 columns\n"
     ]
    }
   ],
   "source": [
    "# Find minimum class count \n",
    "group_size = adoption_speed_counts.min()\n",
    "\n",
    "# Downsample so all 4 categories have equal reviews in train\n",
    "temp_0 = train[train.AdoptionSpeed.eq(0)].sample(\n",
    "    n=group_size,\n",
    "    replace=False, \n",
    "    random_state=42)\n",
    "\n",
    "temp_1 = train[train.AdoptionSpeed.eq(1)].sample(\n",
    "    n=group_size,\n",
    "    replace=False,\n",
    "    random_state=42)\n",
    "\n",
    "temp_2 = train[train.AdoptionSpeed.eq(2)].sample(\n",
    "    n=group_size,\n",
    "    replace=False,\n",
    "    random_state=42)\n",
    "\n",
    "temp_3 = train[train.AdoptionSpeed.eq(3)].sample(\n",
    "    n=group_size,\n",
    "    replace=False,\n",
    "    random_state=42)\n",
    "\n",
    "train_bal = pd.concat(\n",
    "    [temp_0, temp_1, temp_2, temp_3],\n",
    "    axis=0)\n",
    "\n",
    "# shuffle df_balanced\n",
    "train_bal.sample(frac=1, random_state=42) # frac=1 retains all the data\n",
    "train_bal.reset_index(drop=True, inplace=True) # reset index\n",
    "\n",
    "print('After downsampling, our data contains', train_bal.shape[0], 'pets and', train_bal.shape[1], 'columns')"
   ]
  },
  {
   "cell_type": "code",
   "execution_count": 8,
   "id": "c59e0bb2-a7f1-4596-92b4-0a4e1cf032be",
   "metadata": {},
   "outputs": [
    {
     "data": {
      "text/html": [
       "<div>\n",
       "<style scoped>\n",
       "    .dataframe tbody tr th:only-of-type {\n",
       "        vertical-align: middle;\n",
       "    }\n",
       "\n",
       "    .dataframe tbody tr th {\n",
       "        vertical-align: top;\n",
       "    }\n",
       "\n",
       "    .dataframe thead th {\n",
       "        text-align: right;\n",
       "    }\n",
       "</style>\n",
       "<table border=\"1\" class=\"dataframe\">\n",
       "  <thead>\n",
       "    <tr style=\"text-align: right;\">\n",
       "      <th></th>\n",
       "      <th>Type</th>\n",
       "      <th>Age</th>\n",
       "      <th>Breed1_0</th>\n",
       "      <th>Breed1_1</th>\n",
       "      <th>Breed1_2</th>\n",
       "      <th>Breed1_3</th>\n",
       "      <th>Breed1_4</th>\n",
       "      <th>Breed1_5</th>\n",
       "      <th>Breed1_6</th>\n",
       "      <th>Breed1_7</th>\n",
       "      <th>...</th>\n",
       "      <th>isFemale</th>\n",
       "      <th>Black</th>\n",
       "      <th>Brown</th>\n",
       "      <th>Golden</th>\n",
       "      <th>Yellow</th>\n",
       "      <th>Cream</th>\n",
       "      <th>Gray</th>\n",
       "      <th>White</th>\n",
       "      <th>ColorCount</th>\n",
       "      <th>isGeneric_Breed</th>\n",
       "    </tr>\n",
       "  </thead>\n",
       "  <tbody>\n",
       "    <tr>\n",
       "      <th>0</th>\n",
       "      <td>1</td>\n",
       "      <td>24</td>\n",
       "      <td>0</td>\n",
       "      <td>0</td>\n",
       "      <td>0</td>\n",
       "      <td>0</td>\n",
       "      <td>0</td>\n",
       "      <td>1</td>\n",
       "      <td>1</td>\n",
       "      <td>1</td>\n",
       "      <td>...</td>\n",
       "      <td>0</td>\n",
       "      <td>1</td>\n",
       "      <td>0</td>\n",
       "      <td>0</td>\n",
       "      <td>0</td>\n",
       "      <td>0</td>\n",
       "      <td>0</td>\n",
       "      <td>0</td>\n",
       "      <td>1</td>\n",
       "      <td>0</td>\n",
       "    </tr>\n",
       "    <tr>\n",
       "      <th>1</th>\n",
       "      <td>1</td>\n",
       "      <td>2</td>\n",
       "      <td>0</td>\n",
       "      <td>0</td>\n",
       "      <td>0</td>\n",
       "      <td>0</td>\n",
       "      <td>0</td>\n",
       "      <td>0</td>\n",
       "      <td>0</td>\n",
       "      <td>1</td>\n",
       "      <td>...</td>\n",
       "      <td>1</td>\n",
       "      <td>1</td>\n",
       "      <td>1</td>\n",
       "      <td>0</td>\n",
       "      <td>0</td>\n",
       "      <td>0</td>\n",
       "      <td>0</td>\n",
       "      <td>0</td>\n",
       "      <td>2</td>\n",
       "      <td>1</td>\n",
       "    </tr>\n",
       "    <tr>\n",
       "      <th>2</th>\n",
       "      <td>1</td>\n",
       "      <td>0</td>\n",
       "      <td>0</td>\n",
       "      <td>0</td>\n",
       "      <td>0</td>\n",
       "      <td>0</td>\n",
       "      <td>0</td>\n",
       "      <td>0</td>\n",
       "      <td>0</td>\n",
       "      <td>1</td>\n",
       "      <td>...</td>\n",
       "      <td>1</td>\n",
       "      <td>1</td>\n",
       "      <td>1</td>\n",
       "      <td>1</td>\n",
       "      <td>0</td>\n",
       "      <td>0</td>\n",
       "      <td>0</td>\n",
       "      <td>0</td>\n",
       "      <td>3</td>\n",
       "      <td>1</td>\n",
       "    </tr>\n",
       "    <tr>\n",
       "      <th>3</th>\n",
       "      <td>0</td>\n",
       "      <td>2</td>\n",
       "      <td>0</td>\n",
       "      <td>0</td>\n",
       "      <td>0</td>\n",
       "      <td>0</td>\n",
       "      <td>0</td>\n",
       "      <td>0</td>\n",
       "      <td>1</td>\n",
       "      <td>0</td>\n",
       "      <td>...</td>\n",
       "      <td>1</td>\n",
       "      <td>0</td>\n",
       "      <td>0</td>\n",
       "      <td>0</td>\n",
       "      <td>0</td>\n",
       "      <td>1</td>\n",
       "      <td>0</td>\n",
       "      <td>1</td>\n",
       "      <td>2</td>\n",
       "      <td>1</td>\n",
       "    </tr>\n",
       "    <tr>\n",
       "      <th>4</th>\n",
       "      <td>1</td>\n",
       "      <td>36</td>\n",
       "      <td>0</td>\n",
       "      <td>0</td>\n",
       "      <td>0</td>\n",
       "      <td>0</td>\n",
       "      <td>0</td>\n",
       "      <td>0</td>\n",
       "      <td>0</td>\n",
       "      <td>1</td>\n",
       "      <td>...</td>\n",
       "      <td>1</td>\n",
       "      <td>0</td>\n",
       "      <td>1</td>\n",
       "      <td>0</td>\n",
       "      <td>0</td>\n",
       "      <td>0</td>\n",
       "      <td>0</td>\n",
       "      <td>0</td>\n",
       "      <td>1</td>\n",
       "      <td>1</td>\n",
       "    </tr>\n",
       "  </tbody>\n",
       "</table>\n",
       "<p>5 rows × 82 columns</p>\n",
       "</div>"
      ],
      "text/plain": [
       "   Type  Age  Breed1_0  Breed1_1  Breed1_2  Breed1_3  Breed1_4  Breed1_5  \\\n",
       "0     1   24         0         0         0         0         0         1   \n",
       "1     1    2         0         0         0         0         0         0   \n",
       "2     1    0         0         0         0         0         0         0   \n",
       "3     0    2         0         0         0         0         0         0   \n",
       "4     1   36         0         0         0         0         0         0   \n",
       "\n",
       "   Breed1_6  Breed1_7  ...  isFemale  Black  Brown  Golden  Yellow  Cream  \\\n",
       "0         1         1  ...         0      1      0       0       0      0   \n",
       "1         0         1  ...         1      1      1       0       0      0   \n",
       "2         0         1  ...         1      1      1       1       0      0   \n",
       "3         1         0  ...         1      0      0       0       0      1   \n",
       "4         0         1  ...         1      0      1       0       0      0   \n",
       "\n",
       "   Gray  White  ColorCount  isGeneric_Breed  \n",
       "0     0      0           1                0  \n",
       "1     0      0           2                1  \n",
       "2     0      0           3                1  \n",
       "3     0      1           2                1  \n",
       "4     0      0           1                1  \n",
       "\n",
       "[5 rows x 82 columns]"
      ]
     },
     "execution_count": 8,
     "metadata": {},
     "output_type": "execute_result"
    }
   ],
   "source": [
    "train_bal.head()"
   ]
  },
  {
   "cell_type": "code",
   "execution_count": 9,
   "id": "55da3684",
   "metadata": {},
   "outputs": [
    {
     "name": "stdout",
     "output_type": "stream",
     "text": [
      "Shape of X_train: (10468, 81)\n",
      "Shape of y_train: (10468,)\n",
      "Shape of X_test: (2996, 81)\n",
      "Shape of y_test: (2996,)\n"
     ]
    }
   ],
   "source": [
    "# Train data\n",
    "y_train_raw = train_bal['AdoptionSpeed']\n",
    "X_train_raw = train_bal.drop('AdoptionSpeed', axis=1)\n",
    "\n",
    "# Test data\n",
    "y_test = test['AdoptionSpeed']\n",
    "X_test = test.drop('AdoptionSpeed', axis=1)\n",
    "\n",
    "# Print statement\n",
    "print(f'Shape of X_train: {X_train_raw.shape}')\n",
    "print(f'Shape of y_train: {y_train_raw.shape}')\n",
    "print(f'Shape of X_test: {X_test.shape}')\n",
    "print(f'Shape of y_test: {y_test.shape}')"
   ]
  },
  {
   "cell_type": "code",
   "execution_count": 10,
   "id": "3e129368",
   "metadata": {},
   "outputs": [
    {
     "name": "stdout",
     "output_type": "stream",
     "text": [
      "Shape of X_train: (8374, 81)\n",
      "Shape of y_train: (8374,)\n",
      "Shape of X_val: (2094, 81)\n",
      "Shape of y_val: (2094,)\n"
     ]
    }
   ],
   "source": [
    "X_train, X_val, y_train, y_val = train_test_split(X_train_raw, y_train_raw, test_size=0.2, \n",
    "                                                  stratify = y_train_raw, random_state=42)\n",
    "\n",
    "# Print shape statement\n",
    "print(f'Shape of X_train: {X_train.shape}')\n",
    "print(f'Shape of y_train: {y_train.shape}')\n",
    "print(f'Shape of X_val: {X_val.shape}')\n",
    "print(f'Shape of y_val: {y_val.shape}')"
   ]
  },
  {
   "cell_type": "code",
   "execution_count": 11,
   "id": "7f8b98f8",
   "metadata": {},
   "outputs": [
    {
     "data": {
      "text/plain": [
       "{0: 524, 1: 523, 2: 524, 3: 523}"
      ]
     },
     "execution_count": 11,
     "metadata": {},
     "output_type": "execute_result"
    }
   ],
   "source": [
    "# Check distribution\n",
    "unique, counts = np.unique(y_val, return_counts=True)\n",
    "dict(zip(unique, counts))"
   ]
  },
  {
   "cell_type": "code",
   "execution_count": 12,
   "id": "9d9b4306",
   "metadata": {},
   "outputs": [],
   "source": [
    "# Change data types\n",
    "y_train = np.array(y_train)\n",
    "y_val = np.array(y_val)"
   ]
  },
  {
   "cell_type": "code",
   "execution_count": 13,
   "id": "80249726",
   "metadata": {},
   "outputs": [
    {
     "name": "stdout",
     "output_type": "stream",
     "text": [
      "(8374, 81)\n",
      "(8374,)\n",
      "(2094, 81)\n",
      "(2094,)\n",
      "(2996, 81)\n",
      "(2996,)\n"
     ]
    }
   ],
   "source": [
    "print(X_train.shape)\n",
    "print(y_train.shape)\n",
    "print(X_val.shape)\n",
    "print(y_val.shape)\n",
    "print(X_test.shape)\n",
    "print(y_test.shape)"
   ]
  },
  {
   "cell_type": "markdown",
   "id": "f4c058c3",
   "metadata": {},
   "source": [
    "# Baseline Model: Zero Rate Regression"
   ]
  },
  {
   "cell_type": "markdown",
   "id": "9ff9af44-b040-4a58-b5cb-dae331dd4da7",
   "metadata": {},
   "source": [
    "Our baseline model uses zero rate regression based on the most frequent outcome class (AdoptionSpeed = 3). "
   ]
  },
  {
   "cell_type": "code",
   "execution_count": 14,
   "id": "3f5b0370-d11e-42fd-832b-f37b7fceca60",
   "metadata": {},
   "outputs": [
    {
     "name": "stdout",
     "output_type": "stream",
     "text": [
      "In the original train set, the most frequent AdoptionSpeed class is 3, with 50.0% of the observations.\n",
      "\n",
      "The mean accuracy score on the original train data is 0.2804572763684913\n",
      "\n",
      "The mean accuracy score on validation data is 0.24976122254059216\n",
      "\n",
      "The mean accuracy score on test set is 0.277369826435247\n",
      "\n"
     ]
    }
   ],
   "source": [
    "# Baseline model 1: zero-rate classifier \n",
    "\n",
    "# Train data for ZRR (pre-downsampling to reflect original Adoption counts)\n",
    "y_train_zrr = train['AdoptionSpeed']\n",
    "x_train_zrr = train.drop('AdoptionSpeed', axis=1)\n",
    "\n",
    "# Most frequent outcome class\n",
    "class_counts = y_train_zrr.value_counts().reset_index() #()) #/train.shape[0]\n",
    "most_freq_class = class_counts.iloc[0,0]\n",
    "most_freq_prct = round((np.max(class_counts[\"AdoptionSpeed\"])/sum(class_counts[\"AdoptionSpeed\"]))*100, 2)\n",
    "print(f\"In the original train set, the most frequent AdoptionSpeed class is {most_freq_class}, with {most_freq_prct}% of the observations.\\n\")\n",
    "\n",
    "# Predict value of most frequent class\n",
    "dummy_clf = DummyClassifier(strategy=\"most_frequent\")\n",
    "dummy_clf.fit(x_train_zrr, y_train_zrr)\n",
    "dummy_clf.predict(x_train_zrr)\n",
    "\n",
    "# Return the mean accuracy on original train data and labels\n",
    "zrr_score1 = dummy_clf.score(x_train_zrr, y_train_zrr)\n",
    "print(f\"The mean accuracy score on the original train data is {zrr_score1}\\n\")\n",
    "\n",
    "# Return the mean accuracy on validation data and labels\n",
    "zrr_score2 = dummy_clf.score(X_val, y_val)\n",
    "print(f\"The mean accuracy score on validation data is {zrr_score2}\\n\")\n",
    "\n",
    "# Return the mean accuracy on test data and labels\n",
    "zrr_score3 = dummy_clf.score(X_test, y_test)\n",
    "print(f\"The mean accuracy score on test set is {zrr_score3}\\n\")"
   ]
  },
  {
   "cell_type": "code",
   "execution_count": 15,
   "id": "6f525f4f",
   "metadata": {},
   "outputs": [
    {
     "name": "stdout",
     "output_type": "stream",
     "text": [
      " F1 Score in Validation set: 0.10017197814265064\n",
      " F1 Score in Test set: 0.12045692488512687\n"
     ]
    }
   ],
   "source": [
    "# ZRR for F1 score on validation set\n",
    "print(f\" F1 Score in Validation set: {f1_score(y_val, np.full(y_val.shape,0), average='weighted')}\")\n",
    "         \n",
    "# ZRR for F1 score on test set\n",
    "print(f\" F1 Score in Test set: {f1_score(y_test, np.full(y_test.shape,3), average='weighted')}\")"
   ]
  },
  {
   "cell_type": "markdown",
   "id": "483e12d5",
   "metadata": {},
   "source": [
    "# Neural Networks"
   ]
  },
  {
   "cell_type": "code",
   "execution_count": 16,
   "id": "474b673f",
   "metadata": {},
   "outputs": [],
   "source": [
    "# Apply StandadScaler\n",
    "scaler = StandardScaler()\n",
    "X_train_std = scaler.fit_transform(X_train.drop('Description',axis = 1))\n",
    "X_val_std = scaler.fit_transform(X_val.drop('Description',axis = 1))\n",
    "X_test_std = scaler.fit_transform(X_test.drop('Description',axis = 1))"
   ]
  },
  {
   "cell_type": "code",
   "execution_count": 17,
   "id": "bd83c04d",
   "metadata": {},
   "outputs": [
    {
     "name": "stdout",
     "output_type": "stream",
     "text": [
      "Shape of X_train: (8374, 80)\n",
      "Shape of y_train: (8374,)\n",
      "Shape of X_val: (2094, 80)\n",
      "Shape of y_val: (2094,)\n",
      "Shape of X_test: (2996, 80)\n",
      "Shape of y_test: (2996,)\n"
     ]
    }
   ],
   "source": [
    "# Print shape statement\n",
    "print(f'Shape of X_train: {X_train_std.shape}')\n",
    "print(f'Shape of y_train: {y_train.shape}')\n",
    "print(f'Shape of X_val: {X_val_std.shape}')\n",
    "print(f'Shape of y_val: {y_val.shape}')\n",
    "print(f'Shape of X_test: {X_test_std.shape}')\n",
    "print(f'Shape of y_test: {y_test.shape}')"
   ]
  },
  {
   "cell_type": "code",
   "execution_count": 18,
   "id": "dd400ab9",
   "metadata": {},
   "outputs": [
    {
     "data": {
      "text/plain": [
       "array([ 9.15872815e-01, -3.66662550e-01, -8.91299625e-02, -1.84614435e-01,\n",
       "        4.03753054e+00, -4.16122274e-01, -3.68463881e-01,  1.94835966e+00,\n",
       "        1.20982056e+00, -1.11635328e+00, -1.09378911e-01, -1.78651069e-01,\n",
       "       -2.10094386e-01, -2.39979792e-01, -3.06006220e-01, -5.26965855e-01,\n",
       "        4.72436268e-01,  2.68805803e-01, -7.84825115e-01,  1.04121153e+00,\n",
       "       -3.79458919e-01, -8.06861349e-01,  1.47866615e+00, -1.14152543e+00,\n",
       "       -3.69925619e-01,  6.91708358e-01, -3.69299528e-01, -5.05628835e-01,\n",
       "       -1.84191538e-01, -3.96512803e-01, -3.02369219e-01, -1.46521844e-01,\n",
       "       -6.72724716e-01, -3.46796134e-01,  6.71601329e-01, -1.69587375e-01,\n",
       "       -2.69639990e-01, -1.80793917e-01,  8.48322327e-01,  1.36330736e-01,\n",
       "        1.39306015e-01,  1.18606314e+00,  1.13017152e+00,  1.04649488e+00,\n",
       "        1.23473365e+00, -1.42327629e-01, -2.55870560e-01,  1.66133719e+00,\n",
       "        8.26092071e-01,  1.20794958e-01, -5.47084805e-01, -4.67512676e-01,\n",
       "       -4.35354332e-01, -4.10775992e-01,  4.18686333e-01, -2.53062563e-01,\n",
       "       -1.87363465e-01, -2.41368104e-01, -5.44504843e-01,  5.44504843e-01,\n",
       "       -4.67512676e-01, -2.27767216e-01, -4.67512676e-01,  6.74972880e-01,\n",
       "       -3.87449019e-01, -3.67836496e-01, -1.99328398e-01, -1.60382932e-01,\n",
       "       -2.02863990e-01, -1.03822716e+00,  7.71787204e-01,  1.01153053e+00,\n",
       "       -9.46497182e-01, -3.72840171e-01, -3.55379449e-01, -4.39371645e-01,\n",
       "       -4.07793164e-01,  1.01516150e+00,  2.79579372e-03, -1.49480884e+00])"
      ]
     },
     "execution_count": 18,
     "metadata": {},
     "output_type": "execute_result"
    }
   ],
   "source": [
    "# Check one sample\n",
    "X_train_std[0]"
   ]
  },
  {
   "cell_type": "markdown",
   "id": "dfef896a",
   "metadata": {},
   "source": [
    "## Basic FFNN (no text embedding, only numeric featuers)"
   ]
  },
  {
   "cell_type": "code",
   "execution_count": 19,
   "id": "47679407",
   "metadata": {},
   "outputs": [
    {
     "name": "stdout",
     "output_type": "stream",
     "text": [
      "Metal device set to: Apple M1 Pro\n"
     ]
    },
    {
     "name": "stderr",
     "output_type": "stream",
     "text": [
      "WARNING:absl:At this time, the v2.11+ optimizer `tf.keras.optimizers.SGD` runs slowly on M1/M2 Macs, please use the legacy Keras optimizer instead, located at `tf.keras.optimizers.legacy.SGD`.\n",
      "WARNING:absl:There is a known slowdown when using v2.11+ Keras optimizers on M1/M2 Macs. Falling back to the legacy Keras optimizer, i.e., `tf.keras.optimizers.legacy.SGD`.\n"
     ]
    },
    {
     "name": "stdout",
     "output_type": "stream",
     "text": [
      "Model: \"sequential\"\n",
      "_________________________________________________________________\n",
      " Layer (type)                Output Shape              Param #   \n",
      "=================================================================\n",
      " fc_1 (Dense)                (None, 32)                2592      \n",
      "                                                                 \n",
      " fc_2 (Dense)                (None, 16)                528       \n",
      "                                                                 \n",
      " Output (Dense)              (None, 4)                 64        \n",
      "                                                                 \n",
      "=================================================================\n",
      "Total params: 3,184\n",
      "Trainable params: 3,184\n",
      "Non-trainable params: 0\n",
      "_________________________________________________________________\n"
     ]
    }
   ],
   "source": [
    "def build_ffnn_basic(num_features, learning_rate=0.001):\n",
    "\n",
    "    # Set-up\n",
    "    tf.keras.backend.clear_session()\n",
    "    tf.random.set_seed(0)\n",
    "    np.random.seed(0)\n",
    "  \n",
    "    # Initialize model\n",
    "    model = tf.keras.Sequential()\n",
    "    \n",
    "    # Input layer\n",
    "    model.add(tf.keras.Input(shape=(num_features,), name='Input'))\n",
    "        \n",
    "    # First Dense layer\n",
    "    model.add(tf.keras.layers.Dense(units=32,activation='relu', name='fc_1'))\n",
    "\n",
    "    # Second Dense\n",
    "    model.add(tf.keras.layers.Dense(units=16,activation='relu', name='fc_2'))\n",
    "    \n",
    "    # create output layer\n",
    "    model.add(tf.keras.layers.Dense(\n",
    "          units=4,  \n",
    "          use_bias=False,\n",
    "          activation='softmax', \n",
    "          name='Output'))\n",
    "    \n",
    "    # Compile model\n",
    "    optimizer = tf.keras.optimizers.SGD(learning_rate=learning_rate)\n",
    "    \n",
    "    model.compile(\n",
    "        loss=tf.keras.losses.SparseCategoricalCrossentropy(),\n",
    "        optimizer=optimizer,\n",
    "        metrics=['accuracy'])\n",
    "    \n",
    "    return model\n",
    "\n",
    "# Build model\n",
    "ffnn1 = build_ffnn_basic(num_features = X_train_std.shape[1], learning_rate=0.01)\n",
    "ffnn1.summary()"
   ]
  },
  {
   "cell_type": "code",
   "execution_count": 20,
   "id": "0e766b22",
   "metadata": {},
   "outputs": [
    {
     "name": "stderr",
     "output_type": "stream",
     "text": [
      "2023-08-06 14:50:52.664958: W tensorflow/tsl/platform/profile_utils/cpu_utils.cc:128] Failed to get CPU frequency: 0 Hz\n"
     ]
    }
   ],
   "source": [
    "# EarlyStopping\n",
    "es = tf.keras.callbacks.EarlyStopping(monitor=\"val_loss\", patience=5, restore_best_weights=True)\n",
    "\n",
    "# Fit basic model\n",
    "history = ffnn1.fit(\n",
    "    x=X_train_std,\n",
    "    y=y_train,\n",
    "    epochs=150,\n",
    "    batch_size=32,\n",
    "    validation_data=(X_val_std, y_val),\n",
    "    verbose=0,\n",
    "    callbacks=[es])"
   ]
  },
  {
   "cell_type": "code",
   "execution_count": 21,
   "id": "a7434094",
   "metadata": {},
   "outputs": [
    {
     "name": "stdout",
     "output_type": "stream",
     "text": [
      "Average train accuracy last 10 epochs: 0.4325412005186081\n",
      "Average val_accuracy last 10 epochs: 0.3827125132083893\n"
     ]
    }
   ],
   "source": [
    "print(f\"Average train accuracy last 10 epochs: {sum(history.history['accuracy'][-10:]) / 10}\")\n",
    "print(f\"Average val_accuracy last 10 epochs: {sum(history.history['val_accuracy'][-10:]) / 10}\")"
   ]
  },
  {
   "cell_type": "code",
   "execution_count": 22,
   "id": "ff112768",
   "metadata": {},
   "outputs": [
    {
     "data": {
      "image/png": "[encoded data removed]",
      "text/plain": [
       "<Figure size 1200x400 with 2 Axes>"
      ]
     },
     "metadata": {},
     "output_type": "display_data"
    }
   ],
   "source": [
    "# Plot \n",
    "hist = history.history\n",
    "x_arr = np.arange(len(hist['loss'])) + 1\n",
    "\n",
    "fig = plt.figure(figsize=(12, 4))\n",
    "ax = fig.add_subplot(1, 2, 1)\n",
    "ax.plot(x_arr, hist['loss'], '-o', label='Train loss')\n",
    "ax.plot(x_arr, hist['val_loss'], '-->', label='Validation loss')\n",
    "ax.legend(fontsize=15)\n",
    "ax.set_xlabel('Epoch', size=15)\n",
    "ax.set_ylabel('Loss', size=15)\n",
    "\n",
    "ax = fig.add_subplot(1, 2, 2)\n",
    "ax.plot(x_arr, hist['accuracy'], '-o', label='Train acc.')\n",
    "ax.plot(x_arr, hist['val_accuracy'], '-->', label='Validation acc.')\n",
    "ax.legend(fontsize=15)\n",
    "ax.set_xlabel('Epoch', size=15)\n",
    "ax.set_ylabel('Accuracy', size=15)\n",
    "ax.set_ylim(0,0.6)\n",
    "plt.show()"
   ]
  },
  {
   "cell_type": "code",
   "execution_count": 23,
   "id": "d7e5a145",
   "metadata": {},
   "outputs": [
    {
     "name": "stdout",
     "output_type": "stream",
     "text": [
      "66/66 [==============================] - 0s 2ms/step\n"
     ]
    },
    {
     "data": {
      "image/png": "[encoded data removed]",
      "text/plain": [
       "<Figure size 250x250 with 1 Axes>"
      ]
     },
     "metadata": {},
     "output_type": "display_data"
    }
   ],
   "source": [
    "# Confusion matrix on validation set\n",
    "y_val_pred_ffnn1 = np.argmax(ffnn1.predict(X_val_std),axis=1)\n",
    "confusion_matrix_basic = confusion_matrix(y_val, y_val_pred_ffnn1)\n",
    "confusion_matrix_plot(confusion_matrix_basic)"
   ]
  },
  {
   "cell_type": "code",
   "execution_count": 24,
   "id": "382c60f2",
   "metadata": {},
   "outputs": [
    {
     "name": "stdout",
     "output_type": "stream",
     "text": [
      "              precision    recall  f1-score   support\n",
      "\n",
      "           0       0.37      0.47      0.41       524\n",
      "           1       0.31      0.20      0.25       523\n",
      "           2       0.38      0.28      0.32       524\n",
      "           3       0.43      0.57      0.49       523\n",
      "\n",
      "    accuracy                           0.38      2094\n",
      "   macro avg       0.37      0.38      0.37      2094\n",
      "weighted avg       0.37      0.38      0.37      2094\n",
      "\n"
     ]
    }
   ],
   "source": [
    "# Classification for ffnn1 report on val set\n",
    "print(classification_report(y_val, y_val_pred_ffnn1))"
   ]
  },
  {
   "cell_type": "code",
   "execution_count": 25,
   "id": "bc813c38",
   "metadata": {},
   "outputs": [
    {
     "name": "stderr",
     "output_type": "stream",
     "text": [
      "WARNING:absl:At this time, the v2.11+ optimizer `tf.keras.optimizers.SGD` runs slowly on M1/M2 Macs, please use the legacy Keras optimizer instead, located at `tf.keras.optimizers.legacy.SGD`.\n",
      "WARNING:absl:There is a known slowdown when using v2.11+ Keras optimizers on M1/M2 Macs. Falling back to the legacy Keras optimizer, i.e., `tf.keras.optimizers.legacy.SGD`.\n"
     ]
    },
    {
     "name": "stdout",
     "output_type": "stream",
     "text": [
      "94/94 [==============================] - 1s 5ms/step - loss: 1.8307 - accuracy: 0.2333\n",
      "Test Loss: 1.8307305574417114\n",
      "Test Accuracy: 0.23331108689308167\n"
     ]
    }
   ],
   "source": [
    "# ffnn1 on test set\n",
    "ffnn1 = build_ffnn_basic(num_features = X_train_std.shape[1], learning_rate=0.01)\n",
    "test_loss, test_accuracy = ffnn1.evaluate(X_test_std, y_test, verbose=1)\n",
    "print('Test Loss: {}'.format(test_loss))\n",
    "print('Test Accuracy: {}'.format(test_accuracy))"
   ]
  },
  {
   "cell_type": "code",
   "execution_count": 26,
   "id": "0d6759c0",
   "metadata": {},
   "outputs": [
    {
     "name": "stdout",
     "output_type": "stream",
     "text": [
      "94/94 [==============================] - 0s 2ms/step\n",
      "              precision    recall  f1-score   support\n",
      "\n",
      "           0       0.23      0.81      0.36       719\n",
      "           1       0.25      0.08      0.13       805\n",
      "           2       0.18      0.00      0.01       641\n",
      "           3       0.24      0.06      0.09       831\n",
      "\n",
      "    accuracy                           0.23      2996\n",
      "   macro avg       0.23      0.24      0.15      2996\n",
      "weighted avg       0.23      0.23      0.15      2996\n",
      "\n"
     ]
    }
   ],
   "source": [
    "# Classification report for ffnn1 on test set\n",
    "y_test_pred_ffnn1 = np.argmax(ffnn1.predict(X_test_std),axis=1)\n",
    "print(classification_report(y_test, y_test_pred_ffnn1))"
   ]
  },
  {
   "cell_type": "code",
   "execution_count": 27,
   "id": "500a7f24",
   "metadata": {},
   "outputs": [
    {
     "data": {
      "text/plain": [
       "-0.015487717457097316"
      ]
     },
     "execution_count": 27,
     "metadata": {},
     "output_type": "execute_result"
    }
   ],
   "source": [
    "# Print cohen kappa score on test set\n",
    "cohen_kappa_score(y_test, y_test_pred_ffnn1)"
   ]
  },
  {
   "cell_type": "markdown",
   "id": "cf67ba3e",
   "metadata": {},
   "source": [
    "## Fine-tuned Basic FFNN (no text embedding, only numeric featuers)"
   ]
  },
  {
   "cell_type": "code",
   "execution_count": 28,
   "id": "604e9dcc",
   "metadata": {},
   "outputs": [
    {
     "name": "stderr",
     "output_type": "stream",
     "text": [
      "WARNING:absl:At this time, the v2.11+ optimizer `tf.keras.optimizers.SGD` runs slowly on M1/M2 Macs, please use the legacy Keras optimizer instead, located at `tf.keras.optimizers.legacy.SGD`.\n",
      "WARNING:absl:There is a known slowdown when using v2.11+ Keras optimizers on M1/M2 Macs. Falling back to the legacy Keras optimizer, i.e., `tf.keras.optimizers.legacy.SGD`.\n"
     ]
    },
    {
     "name": "stdout",
     "output_type": "stream",
     "text": [
      "Model: \"sequential\"\n",
      "_________________________________________________________________\n",
      " Layer (type)                Output Shape              Param #   \n",
      "=================================================================\n",
      " fc_1 (Dense)                (None, 64)                5184      \n",
      "                                                                 \n",
      " dropout (Dropout)           (None, 64)                0         \n",
      "                                                                 \n",
      " fc_2 (Dense)                (None, 32)                2080      \n",
      "                                                                 \n",
      " dropout_1 (Dropout)         (None, 32)                0         \n",
      "                                                                 \n",
      " Output (Dense)              (None, 4)                 128       \n",
      "                                                                 \n",
      "=================================================================\n",
      "Total params: 7,392\n",
      "Trainable params: 7,392\n",
      "Non-trainable params: 0\n",
      "_________________________________________________________________\n"
     ]
    }
   ],
   "source": [
    "def build_ffnn_ad(num_features, learning_rate):\n",
    "\n",
    "    # Set-up\n",
    "    tf.keras.backend.clear_session()\n",
    "    tf.random.set_seed(0)\n",
    "    np.random.seed(0)\n",
    "  \n",
    "    # Initialize model\n",
    "    model = tf.keras.Sequential()    \n",
    "    \n",
    "    # Input layer\n",
    "    model.add(tf.keras.Input(shape=(num_features,), name='Input'))\n",
    "    \n",
    "    # First Dense and dropout layer \n",
    "    model.add(tf.keras.layers.Dense(units=64, activation='relu',  \n",
    "                                    kernel_regularizer=tf.keras.regularizers.L1L2(l1=1e-4, l2=0),\n",
    "                                    name='fc_1'))\n",
    "    \n",
    "    model.add(tf.keras.layers.Dropout(0.25))    \n",
    "    \n",
    "    # Second Dense and dropout layer \n",
    "    model.add(tf.keras.layers.Dense(units=32, activation='relu', \n",
    "                                    kernel_regularizer=tf.keras.regularizers.L1L2(l1=1e-4, l2=0),\n",
    "                                    name='fc_2'))\n",
    "\n",
    "    model.add(tf.keras.layers.Dropout(0.25))\n",
    "    \n",
    "    # Create output layer\n",
    "    model.add(tf.keras.layers.Dense(\n",
    "          units=4,  \n",
    "          use_bias=False,\n",
    "          activation='softmax',\n",
    "          name='Output'))\n",
    "    \n",
    "    # Optimizer model\n",
    "    optimizer = tf.keras.optimizers.SGD(learning_rate=learning_rate, weight_decay=1e-2,\n",
    "                                        momentum=0.3, nesterov=True)\n",
    "    #opt = tfa.optimizers.Lookahead(optimizer)\n",
    "    \n",
    "    # Compile model\n",
    "    model.compile(\n",
    "        loss=tf.keras.losses.SparseCategoricalCrossentropy(),\n",
    "        optimizer=optimizer,\n",
    "        metrics=['accuracy'])\n",
    "    \n",
    "    return model\n",
    "\n",
    "\n",
    "# Build model\n",
    "ffnn2 = build_ffnn_ad(num_features = X_train_std.shape[1], learning_rate=0.0025)\n",
    "ffnn2.summary()"
   ]
  },
  {
   "cell_type": "code",
   "execution_count": 29,
   "id": "99613c48",
   "metadata": {},
   "outputs": [],
   "source": [
    "# Fit advanced model\n",
    "history_ad = ffnn2.fit(\n",
    "    x=X_train_std,\n",
    "    y=y_train,\n",
    "    epochs=150,\n",
    "    batch_size=16,\n",
    "    validation_data=(X_val_std, y_val),\n",
    "    verbose=0,\n",
    "    callbacks=[es])"
   ]
  },
  {
   "cell_type": "code",
   "execution_count": 30,
   "id": "4669beea",
   "metadata": {},
   "outputs": [
    {
     "name": "stdout",
     "output_type": "stream",
     "text": [
      "Average train accuracy last 10 epochs: 0.4328994482755661\n",
      "Average val_accuracy last 10 epochs: 0.38729703426361084\n"
     ]
    }
   ],
   "source": [
    "print(f\"Average train accuracy last 10 epochs: {sum(history_ad.history['accuracy'][-10:]) / 10}\")\n",
    "print(f\"Average val_accuracy last 10 epochs: {sum(history_ad.history['val_accuracy'][-10:]) / 10}\")"
   ]
  },
  {
   "cell_type": "code",
   "execution_count": 31,
   "id": "8b44a355",
   "metadata": {},
   "outputs": [
    {
     "data": {
      "image/png": "[encoded data removed]",
      "text/plain": [
       "<Figure size 1200x400 with 2 Axes>"
      ]
     },
     "metadata": {},
     "output_type": "display_data"
    }
   ],
   "source": [
    "# Plot curves\n",
    "hist_ad = history_ad.history\n",
    "x_arr = np.arange(len(hist_ad['loss'])) + 1\n",
    "\n",
    "fig = plt.figure(figsize=(12, 4))\n",
    "ax = fig.add_subplot(1, 2, 1)\n",
    "ax.plot(x_arr, hist_ad['loss'], '-o', label='Train loss')\n",
    "ax.plot(x_arr, hist_ad['val_loss'], '-->', label='Validation loss')\n",
    "ax.legend(fontsize=15)\n",
    "ax.set_xlabel('Epoch', size=15)\n",
    "ax.set_ylabel('Loss', size=15)\n",
    "\n",
    "ax = fig.add_subplot(1, 2, 2)\n",
    "ax.plot(x_arr, hist_ad['accuracy'], '-o', label='Train acc.')\n",
    "ax.plot(x_arr, hist_ad['val_accuracy'], '-->', label='Validation acc.')\n",
    "ax.legend(fontsize=15)\n",
    "ax.set_xlabel('Epoch', size=15)\n",
    "ax.set_ylabel('Accuracy', size=15)\n",
    "ax.set_ylim(0,0.6)\n",
    "plt.show()"
   ]
  },
  {
   "cell_type": "code",
   "execution_count": 32,
   "id": "302cb50c",
   "metadata": {},
   "outputs": [
    {
     "name": "stdout",
     "output_type": "stream",
     "text": [
      "66/66 [==============================] - 0s 2ms/step\n"
     ]
    },
    {
     "data": {
      "image/png": "[encoded data removed]",
      "text/plain": [
       "<Figure size 250x250 with 1 Axes>"
      ]
     },
     "metadata": {},
     "output_type": "display_data"
    }
   ],
   "source": [
    "# Confusion matrix for ffnn2 on val set\n",
    "y_val_pred_ffnn2 = np.argmax(ffnn2.predict(X_val_std),axis=1)\n",
    "confusion_matrix_ad = confusion_matrix(y_val, y_val_pred_ffnn2)\n",
    "confusion_matrix_plot(confusion_matrix_ad)"
   ]
  },
  {
   "cell_type": "code",
   "execution_count": 33,
   "id": "37065159",
   "metadata": {},
   "outputs": [
    {
     "name": "stdout",
     "output_type": "stream",
     "text": [
      "              precision    recall  f1-score   support\n",
      "\n",
      "           0       0.36      0.47      0.41       524\n",
      "           1       0.32      0.19      0.24       523\n",
      "           2       0.41      0.33      0.36       524\n",
      "           3       0.43      0.58      0.49       523\n",
      "\n",
      "    accuracy                           0.39      2094\n",
      "   macro avg       0.38      0.39      0.38      2094\n",
      "weighted avg       0.38      0.39      0.38      2094\n",
      "\n"
     ]
    }
   ],
   "source": [
    "# Classification report for ffnn2 on val set\n",
    "print(classification_report(y_val, y_val_pred_ffnn2))"
   ]
  },
  {
   "cell_type": "code",
   "execution_count": 34,
   "id": "780e614f",
   "metadata": {},
   "outputs": [
    {
     "name": "stderr",
     "output_type": "stream",
     "text": [
      "WARNING:absl:At this time, the v2.11+ optimizer `tf.keras.optimizers.SGD` runs slowly on M1/M2 Macs, please use the legacy Keras optimizer instead, located at `tf.keras.optimizers.legacy.SGD`.\n",
      "WARNING:absl:There is a known slowdown when using v2.11+ Keras optimizers on M1/M2 Macs. Falling back to the legacy Keras optimizer, i.e., `tf.keras.optimizers.legacy.SGD`.\n"
     ]
    },
    {
     "name": "stdout",
     "output_type": "stream",
     "text": [
      "94/94 [==============================] - 1s 5ms/step - loss: 1.6599 - accuracy: 0.2560\n",
      "Test Loss: 1.6598929166793823\n",
      "Test Accuracy: 0.2560080289840698\n"
     ]
    }
   ],
   "source": [
    "# use the model on test set (for ffnn2)\n",
    "ffnn2 = build_ffnn_ad(num_features = X_train_std.shape[1], learning_rate=0.0025)\n",
    "test_loss2, test_accuracy2 = ffnn2.evaluate(X_test_std, y_test, verbose=1)\n",
    "print('Test Loss: {}'.format(test_loss2))\n",
    "print('Test Accuracy: {}'.format(test_accuracy2))"
   ]
  },
  {
   "cell_type": "code",
   "execution_count": 35,
   "id": "c7f649c8",
   "metadata": {},
   "outputs": [
    {
     "name": "stdout",
     "output_type": "stream",
     "text": [
      "94/94 [==============================] - 0s 2ms/step\n",
      "              precision    recall  f1-score   support\n",
      "\n",
      "           0       0.23      0.17      0.19       719\n",
      "           1       0.26      0.67      0.37       805\n",
      "           2       0.10      0.01      0.02       641\n",
      "           3       0.35      0.12      0.18       831\n",
      "\n",
      "    accuracy                           0.26      2996\n",
      "   macro avg       0.23      0.24      0.19      2996\n",
      "weighted avg       0.24      0.26      0.20      2996\n",
      "\n"
     ]
    }
   ],
   "source": [
    "# Classification report for ffnn2 on test set\n",
    "y_test_pred_ffnn2 = np.argmax(ffnn2.predict(X_test_std),axis=1)\n",
    "print(classification_report(y_test, y_test_pred_ffnn2))"
   ]
  },
  {
   "cell_type": "code",
   "execution_count": 36,
   "id": "6cf014ed",
   "metadata": {},
   "outputs": [
    {
     "data": {
      "text/plain": [
       "-0.0089669716293177"
      ]
     },
     "execution_count": 36,
     "metadata": {},
     "output_type": "execute_result"
    }
   ],
   "source": [
    "# Print cohen kappa score on test set for ffnn2\n",
    "cohen_kappa_score(y_test, y_test_pred_ffnn2)"
   ]
  },
  {
   "cell_type": "markdown",
   "id": "cfbd43e2",
   "metadata": {},
   "source": [
    "## FFNN using Description alone with embedding layer "
   ]
  },
  {
   "cell_type": "code",
   "execution_count": 37,
   "id": "0ea0f059",
   "metadata": {},
   "outputs": [],
   "source": [
    "X_train_embed = X_train['Description']\n",
    "X_val_embed = X_val['Description']\n",
    "X_test_embed = X_test['Description']"
   ]
  },
  {
   "cell_type": "code",
   "execution_count": 38,
   "id": "53eab133",
   "metadata": {},
   "outputs": [
    {
     "name": "stderr",
     "output_type": "stream",
     "text": [
      "WARNING:absl:At this time, the v2.11+ optimizer `tf.keras.optimizers.Adam` runs slowly on M1/M2 Macs, please use the legacy Keras optimizer instead, located at `tf.keras.optimizers.legacy.Adam`.\n",
      "WARNING:absl:There is a known slowdown when using v2.11+ Keras optimizers on M1/M2 Macs. Falling back to the legacy Keras optimizer, i.e., `tf.keras.optimizers.legacy.Adam`.\n"
     ]
    }
   ],
   "source": [
    "vocab_size = 1000\n",
    "max_sequence_length = 100\n",
    "embedding_dim = 8\n",
    "\n",
    "#initialize TextVectorization layer\n",
    "vectorize_layer = tf.keras.layers.TextVectorization(\n",
    "    max_tokens=vocab_size,\n",
    "    output_mode='int',\n",
    "    output_sequence_length=max_sequence_length)\n",
    "\n",
    "#fit it on the training data\n",
    "vectorize_layer.adapt(X_train_embed.to_numpy())\n",
    "\n",
    "\n",
    "#vectorize the data\n",
    "def vectorize_text(text):\n",
    "    text = tf.expand_dims(text, -1)\n",
    "    return vectorize_layer(text)\n",
    "\n",
    "\n",
    "X_train_embed = vectorize_text(X_train_embed)\n",
    "X_val_embed = vectorize_text(X_val_embed)\n",
    "\n",
    "#build the model\n",
    "ffnn3 = tf.keras.Sequential([\n",
    "    tf.keras.layers.Embedding(\n",
    "        input_dim=vocab_size,\n",
    "        output_dim=embedding_dim,\n",
    "        input_length=max_sequence_length),\n",
    "    tf.keras.layers.GlobalAveragePooling1D(),\n",
    "    tf.keras.layers.Dense(8, activation='relu'),\n",
    "    tf.keras.layers.Dense(4, activation='softmax')  # 4 classes in 'AdoptionSpeed'\n",
    "])\n",
    "\n",
    "ffnn3.compile(loss=tf.keras.losses.SparseCategoricalCrossentropy(),\n",
    "              optimizer=tf.keras.optimizers.Adam(learning_rate=0.0025),\n",
    "              metrics=['accuracy'])\n",
    "\n",
    "# Train the model\n",
    "history3 = ffnn3.fit(\n",
    "    X_train_embed,\n",
    "    y_train,\n",
    "    epochs=50,\n",
    "    batch_size=16,\n",
    "    validation_data=(X_val_embed, y_val),\n",
    "    verbose=0, \n",
    "    callbacks=[es])"
   ]
  },
  {
   "cell_type": "code",
   "execution_count": 39,
   "id": "ccca7c27",
   "metadata": {},
   "outputs": [
    {
     "name": "stdout",
     "output_type": "stream",
     "text": [
      "Model: \"sequential_1\"\n",
      "_________________________________________________________________\n",
      " Layer (type)                Output Shape              Param #   \n",
      "=================================================================\n",
      " embedding (Embedding)       (None, 100, 8)            8000      \n",
      "                                                                 \n",
      " global_average_pooling1d (G  (None, 8)                0         \n",
      " lobalAveragePooling1D)                                          \n",
      "                                                                 \n",
      " dense (Dense)               (None, 8)                 72        \n",
      "                                                                 \n",
      " dense_1 (Dense)             (None, 4)                 36        \n",
      "                                                                 \n",
      "=================================================================\n",
      "Total params: 8,108\n",
      "Trainable params: 8,108\n",
      "Non-trainable params: 0\n",
      "_________________________________________________________________\n"
     ]
    }
   ],
   "source": [
    "ffnn3.summary()"
   ]
  },
  {
   "cell_type": "code",
   "execution_count": 40,
   "id": "6fa7ebe9",
   "metadata": {},
   "outputs": [
    {
     "name": "stdout",
     "output_type": "stream",
     "text": [
      "Average train accuracy last 5 epochs: 0.4202770471572876\n",
      "Average val_accuracy last 5 epochs: 0.33304679989814756\n"
     ]
    }
   ],
   "source": [
    "print(f\"Average train accuracy last 5 epochs: {sum(history3.history['accuracy'][-5:]) / 5}\")\n",
    "print(f\"Average val_accuracy last 5 epochs: {sum(history3.history['val_accuracy'][-5:]) / 5}\")"
   ]
  },
  {
   "cell_type": "code",
   "execution_count": 41,
   "id": "7deac76f",
   "metadata": {},
   "outputs": [
    {
     "data": {
      "image/png": "[encoded data removed]",
      "text/plain": [
       "<Figure size 1200x400 with 2 Axes>"
      ]
     },
     "metadata": {},
     "output_type": "display_data"
    }
   ],
   "source": [
    "# Plot ffnn3\n",
    "hist3 = history3.history\n",
    "x_arr = np.arange(len(hist3['loss'])) + 1\n",
    "\n",
    "fig = plt.figure(figsize=(12, 4))\n",
    "ax = fig.add_subplot(1, 2, 1)\n",
    "ax.plot(x_arr, hist3['loss'], '-o', label='Train loss')\n",
    "ax.plot(x_arr, hist3['val_loss'], '-->', label='Validation loss')\n",
    "ax.legend(fontsize=15)\n",
    "ax.set_xlabel('Epoch', size=15)\n",
    "ax.set_ylabel('Loss', size=15)\n",
    "\n",
    "ax = fig.add_subplot(1, 2, 2)\n",
    "ax.plot(x_arr, hist3['accuracy'], '-o', label='Train acc.')\n",
    "ax.plot(x_arr, hist3['val_accuracy'], '-->', label='Validation acc.')\n",
    "ax.legend(fontsize=15)\n",
    "ax.set_xlabel('Epoch', size=15)\n",
    "ax.set_ylabel('Accuracy', size=15)\n",
    "ax.set_ylim(0,0.6)\n",
    "plt.show()"
   ]
  },
  {
   "cell_type": "code",
   "execution_count": 42,
   "id": "03e35abe",
   "metadata": {},
   "outputs": [
    {
     "name": "stdout",
     "output_type": "stream",
     "text": [
      "66/66 [==============================] - 0s 2ms/step\n",
      "              precision    recall  f1-score   support\n",
      "\n",
      "           0       0.35      0.40      0.37       524\n",
      "           1       0.38      0.02      0.05       523\n",
      "           2       0.40      0.28      0.33       524\n",
      "           3       0.33      0.68      0.44       523\n",
      "\n",
      "    accuracy                           0.35      2094\n",
      "   macro avg       0.36      0.35      0.30      2094\n",
      "weighted avg       0.36      0.35      0.30      2094\n",
      "\n"
     ]
    }
   ],
   "source": [
    "# Classification report for ffnn3 on val set\n",
    "y_val_pred_ffnn3 = np.argmax(ffnn3.predict(X_val_embed),axis=1)\n",
    "print(classification_report(y_val, y_val_pred_ffnn3))"
   ]
  },
  {
   "cell_type": "code",
   "execution_count": 43,
   "id": "19393c58",
   "metadata": {},
   "outputs": [
    {
     "name": "stderr",
     "output_type": "stream",
     "text": [
      "WARNING:absl:At this time, the v2.11+ optimizer `tf.keras.optimizers.Adam` runs slowly on M1/M2 Macs, please use the legacy Keras optimizer instead, located at `tf.keras.optimizers.legacy.Adam`.\n",
      "WARNING:absl:There is a known slowdown when using v2.11+ Keras optimizers on M1/M2 Macs. Falling back to the legacy Keras optimizer, i.e., `tf.keras.optimizers.legacy.Adam`.\n"
     ]
    },
    {
     "name": "stdout",
     "output_type": "stream",
     "text": [
      "94/94 [==============================] - 1s 5ms/step - loss: 1.3297 - accuracy: 0.3381\n",
      "Test Loss: 1.329703450202942\n",
      "Test Accuracy: 0.3381175100803375\n"
     ]
    }
   ],
   "source": [
    "# Evaluate ffnn3 model on test set\n",
    "X_test_embed = test['Description']\n",
    "X_test_embed = vectorize_text(X_test_embed)\n",
    "\n",
    "ffnn3.compile(loss=tf.keras.losses.SparseCategoricalCrossentropy(),\n",
    "              optimizer=tf.keras.optimizers.Adam(learning_rate=0.0025),\n",
    "              metrics=['accuracy'])\n",
    "\n",
    "test_loss3, test_accuracy3 = ffnn3.evaluate(X_test_embed, y_test, verbose=1)\n",
    "print('Test Loss: {}'.format(test_loss3))\n",
    "print('Test Accuracy: {}'.format(test_accuracy3))"
   ]
  },
  {
   "cell_type": "code",
   "execution_count": 44,
   "id": "e1d2ef93",
   "metadata": {},
   "outputs": [
    {
     "name": "stdout",
     "output_type": "stream",
     "text": [
      "94/94 [==============================] - 0s 2ms/step\n",
      "              precision    recall  f1-score   support\n",
      "\n",
      "           0       0.31      0.38      0.34       719\n",
      "           1       0.38      0.02      0.04       805\n",
      "           2       0.32      0.25      0.28       641\n",
      "           3       0.36      0.68      0.47       831\n",
      "\n",
      "    accuracy                           0.34      2996\n",
      "   macro avg       0.34      0.33      0.28      2996\n",
      "weighted avg       0.34      0.34      0.28      2996\n",
      "\n"
     ]
    }
   ],
   "source": [
    "# Classification report for ffnn3 on test set\n",
    "y_test_pred_ffnn3 = np.argmax(ffnn3.predict(X_test_embed),axis=1)\n",
    "print(classification_report(y_test, y_test_pred_ffnn3))"
   ]
  },
  {
   "cell_type": "markdown",
   "id": "3b3e769a",
   "metadata": {},
   "source": [
    "## Full FFNN (embedding + numeric)"
   ]
  },
  {
   "cell_type": "code",
   "execution_count": 45,
   "id": "4f3e2db7",
   "metadata": {},
   "outputs": [
    {
     "name": "stdout",
     "output_type": "stream",
     "text": [
      "vocab_size:  1000\n",
      "max_sequence_length:  100\n",
      "embedding_dim:  8\n"
     ]
    }
   ],
   "source": [
    "# Embedding pre processing\n",
    "vocab_size = 1000\n",
    "max_sequence_length = 100\n",
    "embedding_dim = 8\n",
    "\n",
    "print('vocab_size: ',vocab_size)\n",
    "print('max_sequence_length: ',max_sequence_length)\n",
    "print('embedding_dim: ',embedding_dim)\n",
    "\n",
    "tokenizer = Tokenizer(num_words=vocab_size)\n",
    "tokenizer.fit_on_texts(X_train['Description']) \n",
    "\n",
    "X_train_description = pad_sequences(tokenizer.texts_to_sequences(X_train['Description']), maxlen=max_sequence_length)\n",
    "X_val_description = pad_sequences(tokenizer.texts_to_sequences(X_val['Description']), maxlen=max_sequence_length)\n",
    "X_test_description = pad_sequences(tokenizer.texts_to_sequences(X_test['Description']), maxlen=max_sequence_length)"
   ]
  },
  {
   "cell_type": "code",
   "execution_count": 46,
   "id": "fba42e3d",
   "metadata": {},
   "outputs": [
    {
     "name": "stdout",
     "output_type": "stream",
     "text": [
      "(8374, 100)\n",
      "(8374, 80)\n",
      "(8374,)\n",
      "(2094, 100)\n",
      "(2094, 80)\n",
      "(2094,)\n",
      "(2996, 100)\n",
      "(2996, 80)\n",
      "(2996,)\n"
     ]
    }
   ],
   "source": [
    "# Check shapes\n",
    "print(X_train_description.shape)\n",
    "print(X_train_std.shape)\n",
    "print(y_train.shape)\n",
    "\n",
    "print(X_val_description.shape)\n",
    "print(X_val_std.shape)\n",
    "print(y_val.shape)\n",
    "\n",
    "print(X_test_description.shape)\n",
    "print(X_test_std.shape)\n",
    "print(y_test.shape)"
   ]
  },
  {
   "cell_type": "code",
   "execution_count": 47,
   "id": "98312271",
   "metadata": {},
   "outputs": [
    {
     "name": "stderr",
     "output_type": "stream",
     "text": [
      "WARNING:absl:At this time, the v2.11+ optimizer `tf.keras.optimizers.Adam` runs slowly on M1/M2 Macs, please use the legacy Keras optimizer instead, located at `tf.keras.optimizers.legacy.Adam`.\n",
      "WARNING:absl:There is a known slowdown when using v2.11+ Keras optimizers on M1/M2 Macs. Falling back to the legacy Keras optimizer, i.e., `tf.keras.optimizers.legacy.Adam`.\n"
     ]
    },
    {
     "name": "stdout",
     "output_type": "stream",
     "text": [
      "Model: \"model\"\n",
      "__________________________________________________________________________________________________\n",
      " Layer (type)                   Output Shape         Param #     Connected to                     \n",
      "==================================================================================================\n",
      " Input_Text (InputLayer)        [(None, 100)]        0           []                               \n",
      "                                                                                                  \n",
      " embedding (Embedding)          (None, 100, 8)       8000        ['Input_Text[0][0]']             \n",
      "                                                                                                  \n",
      " flatten (Flatten)              (None, 800)          0           ['embedding[0][0]']              \n",
      "                                                                                                  \n",
      " Input_Numeric (InputLayer)     [(None, 80)]         0           []                               \n",
      "                                                                                                  \n",
      " concatenate (Concatenate)      (None, 880)          0           ['flatten[0][0]',                \n",
      "                                                                  'Input_Numeric[0][0]']          \n",
      "                                                                                                  \n",
      " fc_1 (Dense)                   (None, 16)           14096       ['concatenate[0][0]']            \n",
      "                                                                                                  \n",
      " dropout (Dropout)              (None, 16)           0           ['fc_1[0][0]']                   \n",
      "                                                                                                  \n",
      " fc_2 (Dense)                   (None, 8)            136         ['dropout[0][0]']                \n",
      "                                                                                                  \n",
      " dropout_1 (Dropout)            (None, 8)            0           ['fc_2[0][0]']                   \n",
      "                                                                                                  \n",
      " Output (Dense)                 (None, 4)            32          ['dropout_1[0][0]']              \n",
      "                                                                                                  \n",
      "==================================================================================================\n",
      "Total params: 22,264\n",
      "Trainable params: 22,264\n",
      "Non-trainable params: 0\n",
      "__________________________________________________________________________________________________\n"
     ]
    }
   ],
   "source": [
    "def build_ffnn_with_embedding(num_features, vocab_size, embedding_dim, maxlen, learning_rate=0.001):\n",
    "    tf.keras.backend.clear_session()\n",
    "    tf.random.set_seed(0)\n",
    "    np.random.seed(0)\n",
    "  \n",
    "    input_text = tf.keras.Input(shape=(max_sequence_length,), name='Input_Text')\n",
    "    input_num = tf.keras.Input(shape=(num_features,), name='Input_Numeric')\n",
    "    \n",
    "    #embedding layer for text\n",
    "    x_text = tf.keras.layers.Embedding(input_dim=vocab_size, output_dim=embedding_dim, input_length=maxlen)(input_text)\n",
    "    x_text = tf.keras.layers.Flatten()(x_text)\n",
    "    \n",
    "    #concatenate all inputs\n",
    "    x = tf.keras.layers.Concatenate()([x_text, input_num])\n",
    "\n",
    "    x = tf.keras.layers.Dense(units=16, activation='relu',  \n",
    "                                    kernel_regularizer=tf.keras.regularizers.L1L2(l1=1e-4, l2=0),\n",
    "                                    name='fc_1')(x)\n",
    "    x = tf.keras.layers.Dropout(0.25)(x) #regularization\n",
    "\n",
    "    x = tf.keras.layers.Dense(units=8, activation='relu', \n",
    "                                    kernel_regularizer=tf.keras.regularizers.L1L2(l1=1e-4, l2=0),\n",
    "                                    name='fc_2')(x)\n",
    "    x = tf.keras.layers.Dropout(0.25)(x) #regularization\n",
    "\n",
    "    output = tf.keras.layers.Dense(\n",
    "          units=4,  \n",
    "          use_bias=False,\n",
    "          activation='softmax',\n",
    "          name='Output')(x)\n",
    "    \n",
    "    model = tf.keras.Model(inputs=[input_text, input_num], outputs=output)\n",
    "\n",
    "    optimizer = tf.keras.optimizers.Adam(learning_rate=learning_rate)\n",
    "\n",
    "    \n",
    "    model.compile(\n",
    "        loss=tf.keras.losses.SparseCategoricalCrossentropy(),\n",
    "        optimizer=optimizer,\n",
    "        metrics=['accuracy'])\n",
    "    \n",
    "    return model\n",
    "\n",
    "ffnn4 = build_ffnn_with_embedding(num_features=X_train_std.shape[1], learning_rate=0.0025,\n",
    "                                  vocab_size=vocab_size, embedding_dim=embedding_dim,\n",
    "                                  maxlen=max_sequence_length)\n",
    "ffnn4.summary()"
   ]
  },
  {
   "cell_type": "code",
   "execution_count": 48,
   "id": "61bc20fb",
   "metadata": {},
   "outputs": [],
   "source": [
    "# Fit advanced model\n",
    "history4 = ffnn4.fit(\n",
    "    x=[X_train_description, X_train_std],\n",
    "    y=y_train,\n",
    "    epochs=50,\n",
    "    batch_size=16,\n",
    "    validation_data=([X_val_description, X_val_std], y_val), \n",
    "    verbose=0,\n",
    "    callbacks=[es])"
   ]
  },
  {
   "cell_type": "code",
   "execution_count": 49,
   "id": "5b951222",
   "metadata": {},
   "outputs": [
    {
     "name": "stdout",
     "output_type": "stream",
     "text": [
      "Average train accuracy last 5 epochs: 0.4801528573036194\n",
      "Average val_accuracy last 5 epochs: 0.37669532299041747\n"
     ]
    }
   ],
   "source": [
    "print(f\"Average train accuracy last 5 epochs: {sum(history4.history['accuracy'][-5:]) / 5}\")\n",
    "print(f\"Average val_accuracy last 5 epochs: {sum(history4.history['val_accuracy'][-5:]) / 5}\")"
   ]
  },
  {
   "cell_type": "code",
   "execution_count": 50,
   "id": "e52ece0a",
   "metadata": {},
   "outputs": [
    {
     "data": {
      "image/png": "[encoded data removed]",
      "text/plain": [
       "<Figure size 1200x400 with 2 Axes>"
      ]
     },
     "metadata": {},
     "output_type": "display_data"
    }
   ],
   "source": [
    "# Plot \n",
    "hist4 = history4.history\n",
    "x_arr = np.arange(len(hist4['loss'])) + 1\n",
    "\n",
    "fig = plt.figure(figsize=(12, 4))\n",
    "ax = fig.add_subplot(1, 2, 1)\n",
    "ax.plot(x_arr, hist4['loss'], '-o', label='Train loss')\n",
    "ax.plot(x_arr, hist4['val_loss'], '-->', label='Validation loss')\n",
    "ax.legend(fontsize=15)\n",
    "ax.set_xlabel('Epoch', size=15)\n",
    "ax.set_ylabel('Loss', size=15)\n",
    "\n",
    "ax = fig.add_subplot(1, 2, 2)\n",
    "ax.plot(x_arr, hist4['accuracy'], '-o', label='Train acc.')\n",
    "ax.plot(x_arr, hist4['val_accuracy'], '-->', label='Validation acc.')\n",
    "ax.legend(fontsize=15)\n",
    "ax.set_xlabel('Epoch', size=15)\n",
    "ax.set_ylabel('Accuracy', size=15)\n",
    "ax.set_ylim(0,0.6)\n",
    "plt.show()"
   ]
  },
  {
   "cell_type": "code",
   "execution_count": 51,
   "id": "931a2ad8",
   "metadata": {},
   "outputs": [
    {
     "name": "stdout",
     "output_type": "stream",
     "text": [
      "66/66 [==============================] - 0s 2ms/step\n",
      "              precision    recall  f1-score   support\n",
      "\n",
      "           0       0.33      0.65      0.44       524\n",
      "           1       0.35      0.04      0.07       523\n",
      "           2       0.43      0.27      0.34       524\n",
      "           3       0.43      0.56      0.49       523\n",
      "\n",
      "    accuracy                           0.38      2094\n",
      "   macro avg       0.39      0.38      0.33      2094\n",
      "weighted avg       0.39      0.38      0.33      2094\n",
      "\n"
     ]
    }
   ],
   "source": [
    "# Classification report for ffnn4 on val set\n",
    "y_val_pred_ffnn4 = np.argmax(ffnn4.predict([X_val_description, X_val_std]),axis=1)\n",
    "print(classification_report(y_val, y_val_pred_ffnn4))"
   ]
  },
  {
   "cell_type": "code",
   "execution_count": 52,
   "id": "7e1658af",
   "metadata": {},
   "outputs": [
    {
     "name": "stderr",
     "output_type": "stream",
     "text": [
      "WARNING:absl:At this time, the v2.11+ optimizer `tf.keras.optimizers.Adam` runs slowly on M1/M2 Macs, please use the legacy Keras optimizer instead, located at `tf.keras.optimizers.legacy.Adam`.\n",
      "WARNING:absl:There is a known slowdown when using v2.11+ Keras optimizers on M1/M2 Macs. Falling back to the legacy Keras optimizer, i.e., `tf.keras.optimizers.legacy.Adam`.\n"
     ]
    },
    {
     "name": "stdout",
     "output_type": "stream",
     "text": [
      "94/94 [==============================] - 1s 5ms/step - loss: 1.4449 - accuracy: 0.2720\n",
      "Test Loss: 1.4448531866073608\n",
      "Test Accuracy: 0.2720293700695038\n"
     ]
    }
   ],
   "source": [
    "# evaluate the model on test\n",
    "ffnn4 = build_ffnn_with_embedding(num_features=X_train_std.shape[1], learning_rate=0.0025,\n",
    "                                  vocab_size=vocab_size, embedding_dim=embedding_dim,\n",
    "                                  maxlen=max_sequence_length)\n",
    "\n",
    "test_loss4, test_accuracy4 = ffnn4.evaluate([X_test_description, X_test_std], y_test, verbose=1)\n",
    "print('Test Loss: {}'.format(test_loss4))\n",
    "print('Test Accuracy: {}'.format(test_accuracy4))"
   ]
  },
  {
   "cell_type": "code",
   "execution_count": 53,
   "id": "8408913c",
   "metadata": {},
   "outputs": [
    {
     "name": "stdout",
     "output_type": "stream",
     "text": [
      "94/94 [==============================] - 0s 2ms/step\n",
      "              precision    recall  f1-score   support\n",
      "\n",
      "           0       0.33      0.06      0.10       719\n",
      "           1       0.25      0.39      0.31       805\n",
      "           2       0.10      0.00      0.01       641\n",
      "           3       0.28      0.55      0.37       831\n",
      "\n",
      "    accuracy                           0.27      2996\n",
      "   macro avg       0.24      0.25      0.20      2996\n",
      "weighted avg       0.25      0.27      0.21      2996\n",
      "\n"
     ]
    }
   ],
   "source": [
    "# Classification report for ffnn4 on test set\n",
    "y_test_pred_ffnn4 = np.argmax(ffnn4.predict([X_test_description, X_test_std]),axis=1)\n",
    "print(classification_report(y_test, y_test_pred_ffnn4))"
   ]
  },
  {
   "cell_type": "code",
   "execution_count": 54,
   "id": "a05ccad7",
   "metadata": {},
   "outputs": [
    {
     "data": {
      "text/plain": [
       "(8374,)"
      ]
     },
     "execution_count": 54,
     "metadata": {},
     "output_type": "execute_result"
    }
   ],
   "source": [
    "y_train.shape"
   ]
  },
  {
   "cell_type": "markdown",
   "id": "6e3ee4f5",
   "metadata": {},
   "source": [
    "## Transformers: TabNet"
   ]
  },
  {
   "cell_type": "code",
   "execution_count": 55,
   "id": "cfd81972",
   "metadata": {},
   "outputs": [],
   "source": [
    "tb_cls = TabNetClassifier(optimizer_fn=torch.optim.Adam,\n",
    "                   optimizer_params=dict(lr=1e-3),\n",
    "                   scheduler_params={\"step_size\":10, \"gamma\":0.9},\n",
    "                   scheduler_fn=torch.optim.lr_scheduler.StepLR,\n",
    "                   mask_type='entmax' # \"sparsemax\"\n",
    "                   )"
   ]
  },
  {
   "cell_type": "code",
   "execution_count": 56,
   "id": "1f6f7b12",
   "metadata": {},
   "outputs": [
    {
     "name": "stdout",
     "output_type": "stream",
     "text": [
      "epoch 0  | loss: 1.65551 | train_accuracy: 0.25914 | valid_accuracy: 0.24928 |  0:00:08s\n",
      "epoch 1  | loss: 1.44064 | train_accuracy: 0.26475 | valid_accuracy: 0.25597 |  0:00:18s\n",
      "epoch 2  | loss: 1.40904 | train_accuracy: 0.27418 | valid_accuracy: 0.266   |  0:00:26s\n",
      "epoch 3  | loss: 1.39625 | train_accuracy: 0.29102 | valid_accuracy: 0.27364 |  0:00:35s\n",
      "epoch 4  | loss: 1.38679 | train_accuracy: 0.28935 | valid_accuracy: 0.27316 |  0:00:44s\n",
      "epoch 5  | loss: 1.38345 | train_accuracy: 0.29914 | valid_accuracy: 0.28223 |  0:00:53s\n",
      "epoch 6  | loss: 1.37962 | train_accuracy: 0.31323 | valid_accuracy: 0.29465 |  0:01:02s\n",
      "epoch 7  | loss: 1.37594 | train_accuracy: 0.31419 | valid_accuracy: 0.29656 |  0:01:11s\n",
      "epoch 8  | loss: 1.37132 | train_accuracy: 0.31526 | valid_accuracy: 0.30755 |  0:01:20s\n",
      "epoch 9  | loss: 1.36851 | train_accuracy: 0.32398 | valid_accuracy: 0.31137 |  0:01:28s\n",
      "epoch 10 | loss: 1.36876 | train_accuracy: 0.32911 | valid_accuracy: 0.31805 |  0:01:37s\n",
      "epoch 11 | loss: 1.35822 | train_accuracy: 0.3327  | valid_accuracy: 0.32139 |  0:01:46s\n",
      "epoch 12 | loss: 1.35468 | train_accuracy: 0.34034 | valid_accuracy: 0.31614 |  0:01:55s\n",
      "epoch 13 | loss: 1.35143 | train_accuracy: 0.33962 | valid_accuracy: 0.32569 |  0:02:04s\n",
      "epoch 14 | loss: 1.35125 | train_accuracy: 0.34977 | valid_accuracy: 0.32713 |  0:02:13s\n",
      "epoch 15 | loss: 1.34873 | train_accuracy: 0.35562 | valid_accuracy: 0.32951 |  0:02:22s\n",
      "epoch 16 | loss: 1.33909 | train_accuracy: 0.3573  | valid_accuracy: 0.33715 |  0:02:31s\n",
      "epoch 17 | loss: 1.33978 | train_accuracy: 0.36171 | valid_accuracy: 0.34432 |  0:02:39s\n",
      "epoch 18 | loss: 1.34063 | train_accuracy: 0.36315 | valid_accuracy: 0.34336 |  0:02:48s\n",
      "epoch 19 | loss: 1.33105 | train_accuracy: 0.36327 | valid_accuracy: 0.3405  |  0:02:57s\n",
      "epoch 20 | loss: 1.33221 | train_accuracy: 0.36948 | valid_accuracy: 0.34384 |  0:03:06s\n",
      "epoch 21 | loss: 1.32522 | train_accuracy: 0.36339 | valid_accuracy: 0.34432 |  0:03:15s\n",
      "epoch 22 | loss: 1.32362 | train_accuracy: 0.37103 | valid_accuracy: 0.35578 |  0:03:24s\n",
      "epoch 23 | loss: 1.32437 | train_accuracy: 0.37151 | valid_accuracy: 0.35912 |  0:03:33s\n",
      "epoch 24 | loss: 1.32183 | train_accuracy: 0.38106 | valid_accuracy: 0.36294 |  0:03:42s\n",
      "epoch 25 | loss: 1.31769 | train_accuracy: 0.38536 | valid_accuracy: 0.35673 |  0:03:51s\n",
      "epoch 26 | loss: 1.31819 | train_accuracy: 0.37927 | valid_accuracy: 0.35482 |  0:03:59s\n",
      "epoch 27 | loss: 1.32043 | train_accuracy: 0.38381 | valid_accuracy: 0.35721 |  0:04:08s\n",
      "epoch 28 | loss: 1.31818 | train_accuracy: 0.38787 | valid_accuracy: 0.36103 |  0:04:17s\n",
      "epoch 29 | loss: 1.31257 | train_accuracy: 0.38333 | valid_accuracy: 0.36819 |  0:04:25s\n",
      "epoch 30 | loss: 1.31434 | train_accuracy: 0.38643 | valid_accuracy: 0.3596  |  0:04:34s\n",
      "epoch 31 | loss: 1.30584 | train_accuracy: 0.38906 | valid_accuracy: 0.3596  |  0:04:42s\n",
      "epoch 32 | loss: 1.30787 | train_accuracy: 0.3893  | valid_accuracy: 0.35912 |  0:04:51s\n",
      "epoch 33 | loss: 1.30794 | train_accuracy: 0.39778 | valid_accuracy: 0.36103 |  0:05:00s\n",
      "epoch 34 | loss: 1.29761 | train_accuracy: 0.39491 | valid_accuracy: 0.36246 |  0:05:08s\n",
      "\n",
      "Early stopping occurred at epoch 34 with best_epoch = 29 and best_valid_accuracy = 0.36819\n"
     ]
    }
   ],
   "source": [
    "history_tab = tb_cls.fit(X_train_std,y_train,\n",
    "               eval_set=[(X_train_std,y_train), (X_val_std, y_val)],\n",
    "               eval_name=['train', 'valid'],\n",
    "               eval_metric=['accuracy'],\n",
    "               max_epochs=100 , patience=5,\n",
    "               batch_size=16, drop_last=False) "
   ]
  },
  {
   "cell_type": "code",
   "execution_count": 57,
   "id": "06209b4d",
   "metadata": {},
   "outputs": [
    {
     "name": "stdout",
     "output_type": "stream",
     "text": [
      "              precision    recall  f1-score   support\n",
      "\n",
      "           0       0.33      0.59      0.43       524\n",
      "           1       0.34      0.13      0.18       523\n",
      "           2       0.42      0.23      0.30       524\n",
      "           3       0.40      0.52      0.46       523\n",
      "\n",
      "    accuracy                           0.37      2094\n",
      "   macro avg       0.37      0.37      0.34      2094\n",
      "weighted avg       0.37      0.37      0.34      2094\n",
      "\n"
     ]
    }
   ],
   "source": [
    "# Classification report for TabNet on test set\n",
    "y_val_pred_tab = tb_cls.predict(X_val_std)\n",
    "print(classification_report(y_val, y_val_pred_tab))"
   ]
  },
  {
   "cell_type": "code",
   "execution_count": 58,
   "id": "90e366f7",
   "metadata": {},
   "outputs": [
    {
     "name": "stdout",
     "output_type": "stream",
     "text": [
      "              precision    recall  f1-score   support\n",
      "\n",
      "           0       0.32      0.59      0.42       719\n",
      "           1       0.35      0.11      0.17       805\n",
      "           2       0.34      0.21      0.26       641\n",
      "           3       0.48      0.59      0.53       831\n",
      "\n",
      "    accuracy                           0.38      2996\n",
      "   macro avg       0.37      0.38      0.34      2996\n",
      "weighted avg       0.38      0.38      0.35      2996\n",
      "\n"
     ]
    }
   ],
   "source": [
    "# Classification report for TabNet on test set\n",
    "y_test_pred_tab = tb_cls.predict(X_test_std)\n",
    "print(classification_report(y_test, y_test_pred_tab))"
   ]
  },
  {
   "cell_type": "code",
   "execution_count": 59,
   "id": "cf309bc2",
   "metadata": {},
   "outputs": [
    {
     "data": {
      "text/plain": [
       "(8374,)"
      ]
     },
     "execution_count": 59,
     "metadata": {},
     "output_type": "execute_result"
    }
   ],
   "source": [
    "y_train.shape"
   ]
  },
  {
   "cell_type": "markdown",
   "id": "c7a597cf",
   "metadata": {},
   "source": [
    "### TabNet Cross validation "
   ]
  },
  {
   "cell_type": "code",
   "execution_count": 60,
   "id": "46acdd75",
   "metadata": {},
   "outputs": [
    {
     "name": "stdout",
     "output_type": "stream",
     "text": [
      "epoch 0  | loss: 1.67341 | train_accuracy: 0.25315 | valid_accuracy: 0.24499 |  0:00:07s\n",
      "epoch 1  | loss: 1.43858 | train_accuracy: 0.2606  | valid_accuracy: 0.27125 |  0:00:14s\n",
      "epoch 2  | loss: 1.40682 | train_accuracy: 0.26729 | valid_accuracy: 0.26504 |  0:00:21s\n",
      "epoch 3  | loss: 1.39797 | train_accuracy: 0.28458 | valid_accuracy: 0.2851  |  0:00:28s\n",
      "epoch 4  | loss: 1.38667 | train_accuracy: 0.29939 | valid_accuracy: 0.2937  |  0:00:36s\n",
      "epoch 5  | loss: 1.38184 | train_accuracy: 0.30216 | valid_accuracy: 0.28988 |  0:00:43s\n",
      "epoch 6  | loss: 1.3784  | train_accuracy: 0.31544 | valid_accuracy: 0.31089 |  0:00:50s\n",
      "epoch 7  | loss: 1.37236 | train_accuracy: 0.3248  | valid_accuracy: 0.32092 |  0:00:57s\n",
      "epoch 8  | loss: 1.36823 | train_accuracy: 0.32384 | valid_accuracy: 0.32139 |  0:01:04s\n",
      "epoch 9  | loss: 1.36583 | train_accuracy: 0.32423 | valid_accuracy: 0.32474 |  0:01:12s\n",
      "epoch 10 | loss: 1.35855 | train_accuracy: 0.33244 | valid_accuracy: 0.32617 |  0:01:19s\n",
      "epoch 11 | loss: 1.36032 | train_accuracy: 0.33798 | valid_accuracy: 0.32569 |  0:01:26s\n",
      "epoch 12 | loss: 1.35384 | train_accuracy: 0.34209 | valid_accuracy: 0.33238 |  0:01:33s\n",
      "epoch 13 | loss: 1.35423 | train_accuracy: 0.34734 | valid_accuracy: 0.34575 |  0:01:41s\n",
      "epoch 14 | loss: 1.34832 | train_accuracy: 0.34859 | valid_accuracy: 0.35005 |  0:01:48s\n",
      "epoch 15 | loss: 1.34879 | train_accuracy: 0.34935 | valid_accuracy: 0.36294 |  0:01:55s\n",
      "epoch 16 | loss: 1.34408 | train_accuracy: 0.35117 | valid_accuracy: 0.35912 |  0:02:02s\n",
      "epoch 17 | loss: 1.34486 | train_accuracy: 0.35546 | valid_accuracy: 0.36342 |  0:02:10s\n",
      "epoch 18 | loss: 1.34115 | train_accuracy: 0.35365 | valid_accuracy: 0.37011 |  0:02:17s\n",
      "epoch 19 | loss: 1.33602 | train_accuracy: 0.35489 | valid_accuracy: 0.36819 |  0:02:24s\n",
      "epoch 20 | loss: 1.33782 | train_accuracy: 0.35862 | valid_accuracy: 0.37011 |  0:02:32s\n",
      "epoch 21 | loss: 1.33507 | train_accuracy: 0.3568  | valid_accuracy: 0.37249 |  0:02:39s\n",
      "epoch 22 | loss: 1.33189 | train_accuracy: 0.3653  | valid_accuracy: 0.37918 |  0:02:46s\n",
      "epoch 23 | loss: 1.33039 | train_accuracy: 0.36473 | valid_accuracy: 0.37154 |  0:02:54s\n",
      "epoch 24 | loss: 1.32955 | train_accuracy: 0.36903 | valid_accuracy: 0.37584 |  0:03:01s\n",
      "epoch 25 | loss: 1.32609 | train_accuracy: 0.36989 | valid_accuracy: 0.37154 |  0:03:08s\n",
      "epoch 26 | loss: 1.32991 | train_accuracy: 0.37428 | valid_accuracy: 0.37918 |  0:03:16s\n",
      "epoch 27 | loss: 1.32551 | train_accuracy: 0.37237 | valid_accuracy: 0.38013 |  0:03:23s\n",
      "epoch 28 | loss: 1.32156 | train_accuracy: 0.37505 | valid_accuracy: 0.38252 |  0:03:30s\n",
      "epoch 29 | loss: 1.31991 | train_accuracy: 0.3761  | valid_accuracy: 0.38395 |  0:03:37s\n",
      "epoch 30 | loss: 1.31802 | train_accuracy: 0.376   | valid_accuracy: 0.37584 |  0:03:45s\n",
      "epoch 31 | loss: 1.31602 | train_accuracy: 0.38097 | valid_accuracy: 0.38921 |  0:03:52s\n",
      "epoch 32 | loss: 1.31233 | train_accuracy: 0.37973 | valid_accuracy: 0.38777 |  0:03:59s\n",
      "epoch 33 | loss: 1.31421 | train_accuracy: 0.38622 | valid_accuracy: 0.39828 |  0:04:06s\n",
      "epoch 34 | loss: 1.31281 | train_accuracy: 0.37954 | valid_accuracy: 0.38443 |  0:04:14s\n",
      "epoch 35 | loss: 1.31126 | train_accuracy: 0.38269 | valid_accuracy: 0.38968 |  0:04:21s\n",
      "epoch 36 | loss: 1.3078  | train_accuracy: 0.39005 | valid_accuracy: 0.39207 |  0:04:28s\n",
      "epoch 37 | loss: 1.30616 | train_accuracy: 0.3846  | valid_accuracy: 0.38204 |  0:04:35s\n",
      "epoch 38 | loss: 1.30505 | train_accuracy: 0.39091 | valid_accuracy: 0.38682 |  0:04:43s\n",
      "\n",
      "Early stopping occurred at epoch 38 with best_epoch = 33 and best_valid_accuracy = 0.39828\n",
      "epoch 0  | loss: 1.67341 | train_accuracy: 0.25315 | valid_accuracy: 0.24594 |  0:00:07s\n",
      "epoch 1  | loss: 1.43858 | train_accuracy: 0.2606  | valid_accuracy: 0.24928 |  0:00:14s\n",
      "epoch 2  | loss: 1.40682 | train_accuracy: 0.26729 | valid_accuracy: 0.25931 |  0:00:21s\n",
      "epoch 3  | loss: 1.39797 | train_accuracy: 0.28458 | valid_accuracy: 0.27841 |  0:00:28s\n",
      "epoch 4  | loss: 1.38667 | train_accuracy: 0.29939 | valid_accuracy: 0.29704 |  0:00:36s\n",
      "epoch 5  | loss: 1.38184 | train_accuracy: 0.30216 | valid_accuracy: 0.30564 |  0:00:43s\n",
      "epoch 6  | loss: 1.3784  | train_accuracy: 0.31544 | valid_accuracy: 0.31566 |  0:00:50s\n",
      "epoch 7  | loss: 1.37236 | train_accuracy: 0.3248  | valid_accuracy: 0.32856 |  0:00:57s\n",
      "epoch 8  | loss: 1.36823 | train_accuracy: 0.32384 | valid_accuracy: 0.32713 |  0:01:05s\n",
      "epoch 9  | loss: 1.36583 | train_accuracy: 0.32423 | valid_accuracy: 0.33715 |  0:01:12s\n",
      "epoch 10 | loss: 1.35855 | train_accuracy: 0.33244 | valid_accuracy: 0.34193 |  0:01:19s\n",
      "epoch 11 | loss: 1.36032 | train_accuracy: 0.33798 | valid_accuracy: 0.35626 |  0:01:26s\n",
      "epoch 12 | loss: 1.35384 | train_accuracy: 0.34209 | valid_accuracy: 0.35482 |  0:01:33s\n",
      "epoch 13 | loss: 1.35423 | train_accuracy: 0.34734 | valid_accuracy: 0.35864 |  0:01:41s\n",
      "epoch 14 | loss: 1.34832 | train_accuracy: 0.34859 | valid_accuracy: 0.36008 |  0:01:48s\n",
      "epoch 15 | loss: 1.34879 | train_accuracy: 0.34935 | valid_accuracy: 0.35817 |  0:01:55s\n",
      "epoch 16 | loss: 1.34408 | train_accuracy: 0.35117 | valid_accuracy: 0.35721 |  0:02:02s\n",
      "epoch 17 | loss: 1.34486 | train_accuracy: 0.35546 | valid_accuracy: 0.35291 |  0:02:10s\n",
      "epoch 18 | loss: 1.34115 | train_accuracy: 0.35365 | valid_accuracy: 0.35196 |  0:02:17s\n",
      "epoch 19 | loss: 1.33602 | train_accuracy: 0.35489 | valid_accuracy: 0.36437 |  0:02:24s\n",
      "epoch 20 | loss: 1.33782 | train_accuracy: 0.35862 | valid_accuracy: 0.35912 |  0:02:32s\n",
      "epoch 21 | loss: 1.33507 | train_accuracy: 0.3568  | valid_accuracy: 0.36199 |  0:02:39s\n",
      "epoch 22 | loss: 1.33189 | train_accuracy: 0.3653  | valid_accuracy: 0.37345 |  0:02:47s\n",
      "epoch 23 | loss: 1.33039 | train_accuracy: 0.36473 | valid_accuracy: 0.37822 |  0:02:54s\n",
      "epoch 24 | loss: 1.32955 | train_accuracy: 0.36903 | valid_accuracy: 0.38204 |  0:03:02s\n",
      "epoch 25 | loss: 1.32609 | train_accuracy: 0.36989 | valid_accuracy: 0.383   |  0:03:09s\n",
      "epoch 26 | loss: 1.32991 | train_accuracy: 0.37428 | valid_accuracy: 0.38921 |  0:03:16s\n",
      "epoch 27 | loss: 1.32551 | train_accuracy: 0.37237 | valid_accuracy: 0.38777 |  0:03:24s\n",
      "epoch 28 | loss: 1.32156 | train_accuracy: 0.37505 | valid_accuracy: 0.39112 |  0:03:31s\n",
      "epoch 29 | loss: 1.31991 | train_accuracy: 0.3761  | valid_accuracy: 0.3916  |  0:03:38s\n",
      "epoch 30 | loss: 1.31802 | train_accuracy: 0.376   | valid_accuracy: 0.38682 |  0:03:46s\n",
      "epoch 31 | loss: 1.31602 | train_accuracy: 0.38097 | valid_accuracy: 0.39446 |  0:03:53s\n",
      "epoch 32 | loss: 1.31233 | train_accuracy: 0.37973 | valid_accuracy: 0.39207 |  0:04:01s\n",
      "epoch 33 | loss: 1.31421 | train_accuracy: 0.38622 | valid_accuracy: 0.39494 |  0:04:08s\n",
      "epoch 34 | loss: 1.31281 | train_accuracy: 0.37954 | valid_accuracy: 0.39064 |  0:04:15s\n",
      "epoch 35 | loss: 1.31126 | train_accuracy: 0.38269 | valid_accuracy: 0.39303 |  0:04:22s\n",
      "epoch 36 | loss: 1.3078  | train_accuracy: 0.39005 | valid_accuracy: 0.40353 |  0:04:29s\n",
      "epoch 37 | loss: 1.30616 | train_accuracy: 0.3846  | valid_accuracy: 0.39255 |  0:04:37s\n",
      "epoch 38 | loss: 1.30505 | train_accuracy: 0.39091 | valid_accuracy: 0.39971 |  0:04:44s\n",
      "epoch 39 | loss: 1.30417 | train_accuracy: 0.38871 | valid_accuracy: 0.39876 |  0:04:51s\n",
      "epoch 40 | loss: 1.30714 | train_accuracy: 0.39024 | valid_accuracy: 0.39971 |  0:04:59s\n",
      "epoch 41 | loss: 1.30145 | train_accuracy: 0.38919 | valid_accuracy: 0.40497 |  0:05:06s\n",
      "epoch 42 | loss: 1.30086 | train_accuracy: 0.39167 | valid_accuracy: 0.4064  |  0:05:13s\n",
      "epoch 43 | loss: 1.30333 | train_accuracy: 0.39606 | valid_accuracy: 0.41022 |  0:05:21s\n",
      "epoch 44 | loss: 1.29832 | train_accuracy: 0.39826 | valid_accuracy: 0.41117 |  0:05:28s\n",
      "epoch 45 | loss: 1.296   | train_accuracy: 0.39778 | valid_accuracy: 0.40688 |  0:05:35s\n",
      "epoch 46 | loss: 1.29737 | train_accuracy: 0.4017  | valid_accuracy: 0.41165 |  0:05:43s\n",
      "epoch 47 | loss: 1.29302 | train_accuracy: 0.39836 | valid_accuracy: 0.41452 |  0:05:50s\n",
      "epoch 48 | loss: 1.29793 | train_accuracy: 0.40275 | valid_accuracy: 0.41309 |  0:05:57s\n",
      "epoch 49 | loss: 1.29173 | train_accuracy: 0.40046 | valid_accuracy: 0.41691 |  0:06:05s\n",
      "epoch 50 | loss: 1.29293 | train_accuracy: 0.39998 | valid_accuracy: 0.42216 |  0:06:12s\n",
      "epoch 51 | loss: 1.29036 | train_accuracy: 0.39969 | valid_accuracy: 0.41977 |  0:06:19s\n",
      "epoch 52 | loss: 1.29209 | train_accuracy: 0.40352 | valid_accuracy: 0.41547 |  0:06:26s\n",
      "epoch 53 | loss: 1.2897  | train_accuracy: 0.4016  | valid_accuracy: 0.41595 |  0:06:34s\n",
      "epoch 54 | loss: 1.29041 | train_accuracy: 0.40208 | valid_accuracy: 0.42073 |  0:06:41s\n",
      "epoch 55 | loss: 1.28967 | train_accuracy: 0.40294 | valid_accuracy: 0.41643 |  0:06:49s\n",
      "\n",
      "Early stopping occurred at epoch 55 with best_epoch = 50 and best_valid_accuracy = 0.42216\n",
      "epoch 0  | loss: 1.67341 | train_accuracy: 0.25315 | valid_accuracy: 0.26552 |  0:00:07s\n",
      "epoch 1  | loss: 1.43858 | train_accuracy: 0.2606  | valid_accuracy: 0.26313 |  0:00:14s\n",
      "epoch 2  | loss: 1.40682 | train_accuracy: 0.26729 | valid_accuracy: 0.26886 |  0:00:21s\n",
      "epoch 3  | loss: 1.39797 | train_accuracy: 0.28458 | valid_accuracy: 0.28797 |  0:00:29s\n",
      "epoch 4  | loss: 1.38667 | train_accuracy: 0.29939 | valid_accuracy: 0.31184 |  0:00:36s\n",
      "epoch 5  | loss: 1.38184 | train_accuracy: 0.30216 | valid_accuracy: 0.30898 |  0:00:43s\n",
      "epoch 6  | loss: 1.3784  | train_accuracy: 0.31544 | valid_accuracy: 0.30802 |  0:00:51s\n",
      "epoch 7  | loss: 1.37236 | train_accuracy: 0.3248  | valid_accuracy: 0.32713 |  0:00:58s\n",
      "epoch 8  | loss: 1.36823 | train_accuracy: 0.32384 | valid_accuracy: 0.32713 |  0:01:05s\n",
      "epoch 9  | loss: 1.36583 | train_accuracy: 0.32423 | valid_accuracy: 0.33429 |  0:01:12s\n",
      "epoch 10 | loss: 1.35855 | train_accuracy: 0.33244 | valid_accuracy: 0.3405  |  0:01:19s\n",
      "epoch 11 | loss: 1.36032 | train_accuracy: 0.33798 | valid_accuracy: 0.3405  |  0:01:27s\n",
      "epoch 12 | loss: 1.35384 | train_accuracy: 0.34209 | valid_accuracy: 0.34336 |  0:01:34s\n",
      "epoch 13 | loss: 1.35423 | train_accuracy: 0.34734 | valid_accuracy: 0.35435 |  0:01:41s\n",
      "epoch 14 | loss: 1.34832 | train_accuracy: 0.34859 | valid_accuracy: 0.35291 |  0:01:48s\n",
      "epoch 15 | loss: 1.34879 | train_accuracy: 0.34935 | valid_accuracy: 0.35053 |  0:01:56s\n",
      "epoch 16 | loss: 1.34408 | train_accuracy: 0.35117 | valid_accuracy: 0.35769 |  0:02:03s\n",
      "epoch 17 | loss: 1.34486 | train_accuracy: 0.35546 | valid_accuracy: 0.36581 |  0:02:10s\n",
      "epoch 18 | loss: 1.34115 | train_accuracy: 0.35365 | valid_accuracy: 0.35435 |  0:02:17s\n",
      "epoch 19 | loss: 1.33602 | train_accuracy: 0.35489 | valid_accuracy: 0.35435 |  0:02:24s\n",
      "epoch 20 | loss: 1.33782 | train_accuracy: 0.35862 | valid_accuracy: 0.36294 |  0:02:32s\n",
      "epoch 21 | loss: 1.33507 | train_accuracy: 0.3568  | valid_accuracy: 0.35244 |  0:02:39s\n",
      "epoch 22 | loss: 1.33189 | train_accuracy: 0.3653  | valid_accuracy: 0.35864 |  0:02:46s\n",
      "\n",
      "Early stopping occurred at epoch 22 with best_epoch = 17 and best_valid_accuracy = 0.36581\n",
      "epoch 0  | loss: 1.67341 | train_accuracy: 0.25315 | valid_accuracy: 0.26039 |  0:00:07s\n",
      "epoch 1  | loss: 1.43858 | train_accuracy: 0.2606  | valid_accuracy: 0.26278 |  0:00:14s\n",
      "epoch 2  | loss: 1.40682 | train_accuracy: 0.26729 | valid_accuracy: 0.27186 |  0:00:21s\n",
      "epoch 3  | loss: 1.39797 | train_accuracy: 0.28458 | valid_accuracy: 0.29288 |  0:00:28s\n",
      "epoch 4  | loss: 1.38667 | train_accuracy: 0.29939 | valid_accuracy: 0.29336 |  0:00:36s\n",
      "epoch 5  | loss: 1.38184 | train_accuracy: 0.30216 | valid_accuracy: 0.30626 |  0:00:43s\n",
      "epoch 6  | loss: 1.3784  | train_accuracy: 0.31544 | valid_accuracy: 0.32441 |  0:00:50s\n",
      "epoch 7  | loss: 1.37236 | train_accuracy: 0.3248  | valid_accuracy: 0.32394 |  0:00:57s\n",
      "epoch 8  | loss: 1.36823 | train_accuracy: 0.32384 | valid_accuracy: 0.31964 |  0:01:04s\n",
      "epoch 9  | loss: 1.36583 | train_accuracy: 0.32423 | valid_accuracy: 0.31486 |  0:01:11s\n",
      "epoch 10 | loss: 1.35855 | train_accuracy: 0.33244 | valid_accuracy: 0.33206 |  0:01:19s\n",
      "epoch 11 | loss: 1.36032 | train_accuracy: 0.33798 | valid_accuracy: 0.35022 |  0:01:26s\n",
      "epoch 12 | loss: 1.35384 | train_accuracy: 0.34209 | valid_accuracy: 0.34974 |  0:01:33s\n",
      "epoch 13 | loss: 1.35423 | train_accuracy: 0.34734 | valid_accuracy: 0.34448 |  0:01:41s\n",
      "epoch 14 | loss: 1.34832 | train_accuracy: 0.34859 | valid_accuracy: 0.34066 |  0:01:48s\n",
      "epoch 15 | loss: 1.34879 | train_accuracy: 0.34935 | valid_accuracy: 0.34209 |  0:01:56s\n",
      "epoch 16 | loss: 1.34408 | train_accuracy: 0.35117 | valid_accuracy: 0.34687 |  0:02:03s\n",
      "\n",
      "Early stopping occurred at epoch 16 with best_epoch = 11 and best_valid_accuracy = 0.35022\n",
      "epoch 0  | loss: 1.67341 | train_accuracy: 0.25315 | valid_accuracy: 0.24892 |  0:00:07s\n",
      "epoch 1  | loss: 1.43858 | train_accuracy: 0.2606  | valid_accuracy: 0.25657 |  0:00:14s\n",
      "epoch 2  | loss: 1.40682 | train_accuracy: 0.26729 | valid_accuracy: 0.27138 |  0:00:22s\n",
      "epoch 3  | loss: 1.39797 | train_accuracy: 0.28458 | valid_accuracy: 0.27855 |  0:00:30s\n",
      "epoch 4  | loss: 1.38667 | train_accuracy: 0.29939 | valid_accuracy: 0.301   |  0:00:38s\n",
      "epoch 5  | loss: 1.38184 | train_accuracy: 0.30216 | valid_accuracy: 0.30005 |  0:00:46s\n",
      "epoch 6  | loss: 1.3784  | train_accuracy: 0.31544 | valid_accuracy: 0.3182  |  0:00:54s\n",
      "epoch 7  | loss: 1.37236 | train_accuracy: 0.3248  | valid_accuracy: 0.32346 |  0:01:01s\n",
      "epoch 8  | loss: 1.36823 | train_accuracy: 0.32384 | valid_accuracy: 0.32394 |  0:01:08s\n",
      "epoch 9  | loss: 1.36583 | train_accuracy: 0.32423 | valid_accuracy: 0.31008 |  0:01:15s\n",
      "epoch 10 | loss: 1.35855 | train_accuracy: 0.33244 | valid_accuracy: 0.32155 |  0:01:23s\n",
      "epoch 11 | loss: 1.36032 | train_accuracy: 0.33798 | valid_accuracy: 0.31725 |  0:01:30s\n",
      "epoch 12 | loss: 1.35384 | train_accuracy: 0.34209 | valid_accuracy: 0.33015 |  0:01:37s\n",
      "epoch 13 | loss: 1.35423 | train_accuracy: 0.34734 | valid_accuracy: 0.33349 |  0:01:44s\n",
      "epoch 14 | loss: 1.34832 | train_accuracy: 0.34859 | valid_accuracy: 0.33923 |  0:01:52s\n",
      "epoch 15 | loss: 1.34879 | train_accuracy: 0.34935 | valid_accuracy: 0.33301 |  0:01:59s\n",
      "epoch 16 | loss: 1.34408 | train_accuracy: 0.35117 | valid_accuracy: 0.33493 |  0:02:06s\n",
      "epoch 17 | loss: 1.34486 | train_accuracy: 0.35546 | valid_accuracy: 0.34353 |  0:02:13s\n",
      "epoch 18 | loss: 1.34115 | train_accuracy: 0.35365 | valid_accuracy: 0.33731 |  0:02:20s\n",
      "epoch 19 | loss: 1.33602 | train_accuracy: 0.35489 | valid_accuracy: 0.33158 |  0:02:28s\n",
      "epoch 20 | loss: 1.33782 | train_accuracy: 0.35862 | valid_accuracy: 0.33397 |  0:02:35s\n",
      "epoch 21 | loss: 1.33507 | train_accuracy: 0.3568  | valid_accuracy: 0.33827 |  0:02:42s\n",
      "epoch 22 | loss: 1.33189 | train_accuracy: 0.3653  | valid_accuracy: 0.34544 |  0:02:49s\n",
      "epoch 23 | loss: 1.33039 | train_accuracy: 0.36473 | valid_accuracy: 0.34257 |  0:02:56s\n",
      "epoch 24 | loss: 1.32955 | train_accuracy: 0.36903 | valid_accuracy: 0.35547 |  0:03:03s\n",
      "epoch 25 | loss: 1.32609 | train_accuracy: 0.36989 | valid_accuracy: 0.3526  |  0:03:10s\n",
      "epoch 26 | loss: 1.32991 | train_accuracy: 0.37428 | valid_accuracy: 0.35834 |  0:03:18s\n",
      "epoch 27 | loss: 1.32551 | train_accuracy: 0.37237 | valid_accuracy: 0.34878 |  0:03:25s\n",
      "epoch 28 | loss: 1.32156 | train_accuracy: 0.37505 | valid_accuracy: 0.35356 |  0:03:32s\n",
      "epoch 29 | loss: 1.31991 | train_accuracy: 0.3761  | valid_accuracy: 0.35595 |  0:03:39s\n",
      "epoch 30 | loss: 1.31802 | train_accuracy: 0.376   | valid_accuracy: 0.36885 |  0:03:46s\n",
      "epoch 31 | loss: 1.31602 | train_accuracy: 0.38097 | valid_accuracy: 0.37076 |  0:03:53s\n",
      "epoch 32 | loss: 1.31233 | train_accuracy: 0.37973 | valid_accuracy: 0.36073 |  0:04:01s\n",
      "epoch 33 | loss: 1.31421 | train_accuracy: 0.38622 | valid_accuracy: 0.3741  |  0:04:08s\n",
      "epoch 34 | loss: 1.31281 | train_accuracy: 0.37954 | valid_accuracy: 0.37363 |  0:04:15s\n",
      "epoch 35 | loss: 1.31126 | train_accuracy: 0.38269 | valid_accuracy: 0.36694 |  0:04:22s\n",
      "epoch 36 | loss: 1.3078  | train_accuracy: 0.39005 | valid_accuracy: 0.37267 |  0:04:30s\n",
      "epoch 37 | loss: 1.30616 | train_accuracy: 0.3846  | valid_accuracy: 0.38032 |  0:04:37s\n",
      "epoch 38 | loss: 1.30505 | train_accuracy: 0.39091 | valid_accuracy: 0.38748 |  0:04:44s\n",
      "epoch 39 | loss: 1.30417 | train_accuracy: 0.38871 | valid_accuracy: 0.3784  |  0:04:52s\n",
      "epoch 40 | loss: 1.30714 | train_accuracy: 0.39024 | valid_accuracy: 0.37602 |  0:04:59s\n",
      "epoch 41 | loss: 1.30145 | train_accuracy: 0.38919 | valid_accuracy: 0.37363 |  0:05:06s\n",
      "epoch 42 | loss: 1.30086 | train_accuracy: 0.39167 | valid_accuracy: 0.37554 |  0:05:14s\n",
      "epoch 43 | loss: 1.30333 | train_accuracy: 0.39606 | valid_accuracy: 0.38127 |  0:05:21s\n",
      "\n",
      "Early stopping occurred at epoch 43 with best_epoch = 38 and best_valid_accuracy = 0.38748\n"
     ]
    }
   ],
   "source": [
    "# Standarising \n",
    "X_train_raw_std = scaler.fit_transform(X_train_raw.drop('Description',axis = 1))\n",
    "\n",
    "# define and train the Tabnet model with cross validation\n",
    "kf = KFold(n_splits=5, random_state=42, shuffle=True)\n",
    "CV_score_array    =[]\n",
    "for train_index, test_index in kf.split(X_train_raw_std):\n",
    "    X_train, X_valid = X_train_raw_std[train_index], X_train_raw_std[test_index]\n",
    "    y_train, y_valid = y_train_raw[train_index], y_train_raw[test_index]\n",
    "    \n",
    "    tb_cls_cv = TabNetClassifier(optimizer_fn=torch.optim.Adam,\n",
    "                       optimizer_params=dict(lr=1e-3),\n",
    "                       scheduler_params={\"step_size\":10, \"gamma\":0.9},\n",
    "                       scheduler_fn=torch.optim.lr_scheduler.StepLR,\n",
    "                       mask_type='entmax' # \"sparsemax\"\n",
    "                       )\n",
    "    \n",
    "    tb_cls_cv.fit(X_train_raw_std,y_train_raw,\n",
    "               eval_set=[(X_train_raw_std,y_train_raw), (X_valid, y_valid)],\n",
    "               eval_name=['train', 'valid'],\n",
    "               eval_metric=['accuracy'],\n",
    "               max_epochs=100 , patience=5,\n",
    "               batch_size=28, drop_last=False)  \n",
    "    \n",
    "    CV_score_array.append(tb_cls_cv.best_cost)"
   ]
  },
  {
   "cell_type": "code",
   "execution_count": 61,
   "id": "6e3c04de",
   "metadata": {},
   "outputs": [
    {
     "name": "stdout",
     "output_type": "stream",
     "text": [
      "              precision    recall  f1-score   support\n",
      "\n",
      "           0       0.34      0.56      0.42       719\n",
      "           1       0.39      0.14      0.20       805\n",
      "           2       0.31      0.25      0.27       641\n",
      "           3       0.48      0.57      0.52       831\n",
      "\n",
      "    accuracy                           0.38      2996\n",
      "   macro avg       0.38      0.38      0.36      2996\n",
      "weighted avg       0.38      0.38      0.36      2996\n",
      "\n"
     ]
    }
   ],
   "source": [
    "# Classification report for TabNet cross validation on test set\n",
    "y_test_pred_tab_cv = tb_cls_cv.predict(X_test_std)\n",
    "print(classification_report(y_test, y_test_pred_tab_cv))"
   ]
  },
  {
   "cell_type": "markdown",
   "id": "4ed71fa5",
   "metadata": {},
   "source": [
    "### TabNet explainability "
   ]
  },
  {
   "cell_type": "code",
   "execution_count": 62,
   "id": "5b75cbe8",
   "metadata": {},
   "outputs": [],
   "source": [
    "#explainer = shap.KernelExplainer(tb_cls.predict, shap.sample(X_train_std, 100))\n",
    "#shap_values = explainer.shap_values(X_test_std,nsamples=100)"
   ]
  },
  {
   "cell_type": "code",
   "execution_count": 63,
   "id": "273e2066",
   "metadata": {},
   "outputs": [],
   "source": [
    "#features = X_train.columns.tolist()\n",
    "#features"
   ]
  },
  {
   "cell_type": "code",
   "execution_count": 64,
   "id": "2d828745",
   "metadata": {},
   "outputs": [],
   "source": [
    "#shap.summary_plot(shap_values,X_test_std, feature_names=features) "
   ]
  },
  {
   "cell_type": "markdown",
   "id": "91622630",
   "metadata": {},
   "source": [
    "# Voting classifiers"
   ]
  },
  {
   "cell_type": "markdown",
   "id": "7eccd120",
   "metadata": {},
   "source": [
    "## Among Neural Networks and Transformers"
   ]
  },
  {
   "cell_type": "markdown",
   "id": "e580c3cb",
   "metadata": {},
   "source": [
    "### Most often result"
   ]
  },
  {
   "cell_type": "code",
   "execution_count": 65,
   "id": "95c6913c",
   "metadata": {},
   "outputs": [
    {
     "data": {
      "text/plain": [
       "array([[3, 0, 3, ..., 3, 0, 2],\n",
       "       [3, 0, 0, ..., 0, 3, 0]])"
      ]
     },
     "execution_count": 65,
     "metadata": {},
     "output_type": "execute_result"
    }
   ],
   "source": [
    "# Stack predictions \n",
    "stacked_results = np.vstack((y_test_pred_ffnn3, y_test_pred_tab))\n",
    "stacked_results"
   ]
  },
  {
   "cell_type": "code",
   "execution_count": 66,
   "id": "0b0362d2",
   "metadata": {},
   "outputs": [
    {
     "name": "stdout",
     "output_type": "stream",
     "text": [
      "[3 0 0 ... 0 0 0]\n"
     ]
    }
   ],
   "source": [
    "y_test_voting_result_of = np.apply_along_axis(lambda x: np.bincount(x).argmax(), axis=0, arr=stacked_results)\n",
    "print(y_test_voting_result_of)"
   ]
  },
  {
   "cell_type": "code",
   "execution_count": 67,
   "id": "cae175d9",
   "metadata": {},
   "outputs": [
    {
     "name": "stdout",
     "output_type": "stream",
     "text": [
      "              precision    recall  f1-score   support\n",
      "\n",
      "           0       0.31      0.71      0.43       719\n",
      "           1       0.30      0.07      0.12       805\n",
      "           2       0.32      0.22      0.26       641\n",
      "           3       0.54      0.44      0.48       831\n",
      "\n",
      "    accuracy                           0.36      2996\n",
      "   macro avg       0.37      0.36      0.32      2996\n",
      "weighted avg       0.37      0.36      0.32      2996\n",
      "\n"
     ]
    }
   ],
   "source": [
    "print(classification_report(y_test, y_test_voting_result_of))"
   ]
  },
  {
   "cell_type": "markdown",
   "id": "d9378286",
   "metadata": {},
   "source": [
    "### Average probability"
   ]
  },
  {
   "cell_type": "code",
   "execution_count": 68,
   "id": "01d0d20b",
   "metadata": {},
   "outputs": [
    {
     "name": "stdout",
     "output_type": "stream",
     "text": [
      "94/94 [==============================] - 0s 2ms/step\n"
     ]
    },
    {
     "data": {
      "text/plain": [
       "array([[0.09489848, 0.15400949, 0.24336463, 0.5077274 ],\n",
       "       [0.36954963, 0.2588215 , 0.20838213, 0.16324681],\n",
       "       [0.24505031, 0.23742595, 0.23178384, 0.28573984],\n",
       "       ...,\n",
       "       [0.2975169 , 0.2472986 , 0.2174595 , 0.23772496],\n",
       "       [0.23769686, 0.18907443, 0.16072816, 0.4125005 ],\n",
       "       [0.29821616, 0.2853465 , 0.26712465, 0.14931269]], dtype=float32)"
      ]
     },
     "execution_count": 68,
     "metadata": {},
     "output_type": "execute_result"
    }
   ],
   "source": [
    "y_test_pred_ffnn3_proba = ffnn3.predict(X_test_embed)\n",
    "y_test_pred_tab_proba = tb_cls.predict_proba(X_test_std)\n",
    "stacked_proba = (y_test_pred_ffnn3_proba + y_test_pred_tab_proba)/2\n",
    "stacked_proba"
   ]
  },
  {
   "cell_type": "code",
   "execution_count": 69,
   "id": "f1b976cd",
   "metadata": {},
   "outputs": [
    {
     "data": {
      "text/plain": [
       "array([3, 0, 3, ..., 0, 3, 0])"
      ]
     },
     "execution_count": 69,
     "metadata": {},
     "output_type": "execute_result"
    }
   ],
   "source": [
    "# Average result\n",
    "y_test_voting_proba_avg_result = np.argmax(stacked_proba,axis=1)\n",
    "y_test_voting_proba_avg_result"
   ]
  },
  {
   "cell_type": "code",
   "execution_count": 70,
   "id": "09c62cac",
   "metadata": {},
   "outputs": [
    {
     "name": "stdout",
     "output_type": "stream",
     "text": [
      "              precision    recall  f1-score   support\n",
      "\n",
      "           0       0.34      0.54      0.42       719\n",
      "           1       0.35      0.04      0.08       805\n",
      "           2       0.33      0.26      0.29       641\n",
      "           3       0.46      0.70      0.55       831\n",
      "\n",
      "    accuracy                           0.39      2996\n",
      "   macro avg       0.37      0.38      0.33      2996\n",
      "weighted avg       0.37      0.39      0.34      2996\n",
      "\n"
     ]
    }
   ],
   "source": [
    "print(classification_report(y_test, y_test_voting_proba_avg_result))"
   ]
  },
  {
   "cell_type": "markdown",
   "id": "5819b1e6",
   "metadata": {},
   "source": [
    "## Among all models"
   ]
  },
  {
   "cell_type": "markdown",
   "id": "338a772c",
   "metadata": {},
   "source": [
    "### Equal split embedding, Tabnet and XGboost"
   ]
  },
  {
   "cell_type": "code",
   "execution_count": 71,
   "id": "2d895271",
   "metadata": {},
   "outputs": [
    {
     "ename": "XGBoostError",
     "evalue": "[15:23:00] /Users/runner/miniforge3/conda-bld/xgboost-split_1690927578751/work/src/data/data.cc:455: Check failed: this->labels.Size() % this->num_row_ == 0 (1 vs. 0) : Incorrect size for labels.\nStack trace:\n  [bt] (0) 1   libxgboost.dylib                    0x000000017ced8cc0 dmlc::LogMessageFatal::~LogMessageFatal() + 124\n  [bt] (1) 2   libxgboost.dylib                    0x000000017cf67f40 xgboost::MetaInfo::SetInfoFromHost(xgboost::GenericParameter const&, xgboost::StringView, xgboost::Json) + 676\n  [bt] (2) 3   libxgboost.dylib                    0x000000017cf67af8 xgboost::MetaInfo::SetInfo(xgboost::GenericParameter const&, xgboost::StringView, xgboost::StringView) + 180\n  [bt] (3) 4   libxgboost.dylib                    0x000000017ceee054 XGDMatrixSetInfoFromInterface + 240\n  [bt] (4) 5   libffi.8.dylib                      0x0000000100ee404c ffi_call_SYSV + 76\n  [bt] (5) 6   libffi.8.dylib                      0x0000000100ee174c ffi_call_int + 1208\n  [bt] (6) 7   _ctypes.cpython-39-darwin.so        0x0000000100ec4544 _ctypes_callproc + 1324\n  [bt] (7) 8   _ctypes.cpython-39-darwin.so        0x0000000100ebe850 PyCFuncPtr_call + 1176\n  [bt] (8) 9   python3.9                           0x00000001005613c4 _PyObject_MakeTpCall + 616\n\n",
     "output_type": "error",
     "traceback": [
      "\u001b[0;31m---------------------------------------------------------------------------\u001b[0m",
      "\u001b[0;31mXGBoostError\u001b[0m                              Traceback (most recent call last)",
      "Cell \u001b[0;32mIn[71], line 22\u001b[0m\n\u001b[1;32m      4\u001b[0m xgb_model \u001b[38;5;241m=\u001b[39m xgb\u001b[38;5;241m.\u001b[39mXGBRegressor(\n\u001b[1;32m      5\u001b[0m                               objective\u001b[38;5;241m=\u001b[39m\u001b[38;5;124m'\u001b[39m\u001b[38;5;124mmulti:softprob\u001b[39m\u001b[38;5;124m'\u001b[39m, \n\u001b[1;32m      6\u001b[0m                               num_class \u001b[38;5;241m=\u001b[39m \u001b[38;5;241m4\u001b[39m, \n\u001b[0;32m   (...)\u001b[0m\n\u001b[1;32m     18\u001b[0m                               reg_lambda \u001b[38;5;241m=\u001b[39m \u001b[38;5;241m30\u001b[39m,\n\u001b[1;32m     19\u001b[0m                             )\n\u001b[1;32m     21\u001b[0m \u001b[38;5;66;03m#fit\u001b[39;00m\n\u001b[0;32m---> 22\u001b[0m xgb_fitted \u001b[38;5;241m=\u001b[39m \u001b[43mxgb_model\u001b[49m\u001b[38;5;241;43m.\u001b[39;49m\u001b[43mfit\u001b[49m\u001b[43m(\u001b[49m\u001b[43mX_train_std\u001b[49m\u001b[43m,\u001b[49m\u001b[43m \u001b[49m\u001b[43my_train\u001b[49m\u001b[43m,\u001b[49m\n\u001b[1;32m     23\u001b[0m \u001b[43m                           \u001b[49m\u001b[43meval_set\u001b[49m\u001b[38;5;241;43m=\u001b[39;49m\u001b[43m[\u001b[49m\u001b[43m(\u001b[49m\u001b[43mX_train_std\u001b[49m\u001b[43m,\u001b[49m\u001b[43m \u001b[49m\u001b[43my_train\u001b[49m\u001b[43m)\u001b[49m\u001b[43m,\u001b[49m\u001b[43m \u001b[49m\u001b[43m(\u001b[49m\u001b[43mX_val_std\u001b[49m\u001b[43m,\u001b[49m\u001b[43m \u001b[49m\u001b[43my_val\u001b[49m\u001b[43m)\u001b[49m\u001b[43m]\u001b[49m\u001b[43m,\u001b[49m\n\u001b[1;32m     24\u001b[0m \u001b[43m                           \u001b[49m\u001b[43mverbose\u001b[49m\u001b[38;5;241;43m=\u001b[39;49m\u001b[38;5;241;43m20\u001b[39;49m\n\u001b[1;32m     25\u001b[0m \u001b[43m                           \u001b[49m\u001b[43m)\u001b[49m\n",
      "File \u001b[0;32m~/miniforge3/envs/w207_final/lib/python3.9/site-packages/xgboost/core.py:620\u001b[0m, in \u001b[0;36mrequire_keyword_args.<locals>.throw_if.<locals>.inner_f\u001b[0;34m(*args, **kwargs)\u001b[0m\n\u001b[1;32m    618\u001b[0m \u001b[38;5;28;01mfor\u001b[39;00m k, arg \u001b[38;5;129;01min\u001b[39;00m \u001b[38;5;28mzip\u001b[39m(sig\u001b[38;5;241m.\u001b[39mparameters, args):\n\u001b[1;32m    619\u001b[0m     kwargs[k] \u001b[38;5;241m=\u001b[39m arg\n\u001b[0;32m--> 620\u001b[0m \u001b[38;5;28;01mreturn\u001b[39;00m \u001b[43mfunc\u001b[49m\u001b[43m(\u001b[49m\u001b[38;5;241;43m*\u001b[39;49m\u001b[38;5;241;43m*\u001b[39;49m\u001b[43mkwargs\u001b[49m\u001b[43m)\u001b[49m\n",
      "File \u001b[0;32m~/miniforge3/envs/w207_final/lib/python3.9/site-packages/xgboost/sklearn.py:988\u001b[0m, in \u001b[0;36mXGBModel.fit\u001b[0;34m(self, X, y, sample_weight, base_margin, eval_set, eval_metric, early_stopping_rounds, verbose, xgb_model, sample_weight_eval_set, base_margin_eval_set, feature_weights, callbacks)\u001b[0m\n\u001b[1;32m    986\u001b[0m \u001b[38;5;28;01mwith\u001b[39;00m config_context(verbosity\u001b[38;5;241m=\u001b[39m\u001b[38;5;28mself\u001b[39m\u001b[38;5;241m.\u001b[39mverbosity):\n\u001b[1;32m    987\u001b[0m     evals_result: TrainingCallback\u001b[38;5;241m.\u001b[39mEvalsLog \u001b[38;5;241m=\u001b[39m {}\n\u001b[0;32m--> 988\u001b[0m     train_dmatrix, evals \u001b[38;5;241m=\u001b[39m \u001b[43m_wrap_evaluation_matrices\u001b[49m\u001b[43m(\u001b[49m\n\u001b[1;32m    989\u001b[0m \u001b[43m        \u001b[49m\u001b[43mmissing\u001b[49m\u001b[38;5;241;43m=\u001b[39;49m\u001b[38;5;28;43mself\u001b[39;49m\u001b[38;5;241;43m.\u001b[39;49m\u001b[43mmissing\u001b[49m\u001b[43m,\u001b[49m\n\u001b[1;32m    990\u001b[0m \u001b[43m        \u001b[49m\u001b[43mX\u001b[49m\u001b[38;5;241;43m=\u001b[39;49m\u001b[43mX\u001b[49m\u001b[43m,\u001b[49m\n\u001b[1;32m    991\u001b[0m \u001b[43m        \u001b[49m\u001b[43my\u001b[49m\u001b[38;5;241;43m=\u001b[39;49m\u001b[43my\u001b[49m\u001b[43m,\u001b[49m\n\u001b[1;32m    992\u001b[0m \u001b[43m        \u001b[49m\u001b[43mgroup\u001b[49m\u001b[38;5;241;43m=\u001b[39;49m\u001b[38;5;28;43;01mNone\u001b[39;49;00m\u001b[43m,\u001b[49m\n\u001b[1;32m    993\u001b[0m \u001b[43m        \u001b[49m\u001b[43mqid\u001b[49m\u001b[38;5;241;43m=\u001b[39;49m\u001b[38;5;28;43;01mNone\u001b[39;49;00m\u001b[43m,\u001b[49m\n\u001b[1;32m    994\u001b[0m \u001b[43m        \u001b[49m\u001b[43msample_weight\u001b[49m\u001b[38;5;241;43m=\u001b[39;49m\u001b[43msample_weight\u001b[49m\u001b[43m,\u001b[49m\n\u001b[1;32m    995\u001b[0m \u001b[43m        \u001b[49m\u001b[43mbase_margin\u001b[49m\u001b[38;5;241;43m=\u001b[39;49m\u001b[43mbase_margin\u001b[49m\u001b[43m,\u001b[49m\n\u001b[1;32m    996\u001b[0m \u001b[43m        \u001b[49m\u001b[43mfeature_weights\u001b[49m\u001b[38;5;241;43m=\u001b[39;49m\u001b[43mfeature_weights\u001b[49m\u001b[43m,\u001b[49m\n\u001b[1;32m    997\u001b[0m \u001b[43m        \u001b[49m\u001b[43meval_set\u001b[49m\u001b[38;5;241;43m=\u001b[39;49m\u001b[43meval_set\u001b[49m\u001b[43m,\u001b[49m\n\u001b[1;32m    998\u001b[0m \u001b[43m        \u001b[49m\u001b[43msample_weight_eval_set\u001b[49m\u001b[38;5;241;43m=\u001b[39;49m\u001b[43msample_weight_eval_set\u001b[49m\u001b[43m,\u001b[49m\n\u001b[1;32m    999\u001b[0m \u001b[43m        \u001b[49m\u001b[43mbase_margin_eval_set\u001b[49m\u001b[38;5;241;43m=\u001b[39;49m\u001b[43mbase_margin_eval_set\u001b[49m\u001b[43m,\u001b[49m\n\u001b[1;32m   1000\u001b[0m \u001b[43m        \u001b[49m\u001b[43meval_group\u001b[49m\u001b[38;5;241;43m=\u001b[39;49m\u001b[38;5;28;43;01mNone\u001b[39;49;00m\u001b[43m,\u001b[49m\n\u001b[1;32m   1001\u001b[0m \u001b[43m        \u001b[49m\u001b[43meval_qid\u001b[49m\u001b[38;5;241;43m=\u001b[39;49m\u001b[38;5;28;43;01mNone\u001b[39;49;00m\u001b[43m,\u001b[49m\n\u001b[1;32m   1002\u001b[0m \u001b[43m        \u001b[49m\u001b[43mcreate_dmatrix\u001b[49m\u001b[38;5;241;43m=\u001b[39;49m\u001b[38;5;28;43mself\u001b[39;49m\u001b[38;5;241;43m.\u001b[39;49m\u001b[43m_create_dmatrix\u001b[49m\u001b[43m,\u001b[49m\n\u001b[1;32m   1003\u001b[0m \u001b[43m        \u001b[49m\u001b[43menable_categorical\u001b[49m\u001b[38;5;241;43m=\u001b[39;49m\u001b[38;5;28;43mself\u001b[39;49m\u001b[38;5;241;43m.\u001b[39;49m\u001b[43menable_categorical\u001b[49m\u001b[43m,\u001b[49m\n\u001b[1;32m   1004\u001b[0m \u001b[43m        \u001b[49m\u001b[43mfeature_types\u001b[49m\u001b[38;5;241;43m=\u001b[39;49m\u001b[38;5;28;43mself\u001b[39;49m\u001b[38;5;241;43m.\u001b[39;49m\u001b[43mfeature_types\u001b[49m\u001b[43m,\u001b[49m\n\u001b[1;32m   1005\u001b[0m \u001b[43m    \u001b[49m\u001b[43m)\u001b[49m\n\u001b[1;32m   1006\u001b[0m     params \u001b[38;5;241m=\u001b[39m \u001b[38;5;28mself\u001b[39m\u001b[38;5;241m.\u001b[39mget_xgb_params()\n\u001b[1;32m   1008\u001b[0m     \u001b[38;5;28;01mif\u001b[39;00m \u001b[38;5;28mcallable\u001b[39m(\u001b[38;5;28mself\u001b[39m\u001b[38;5;241m.\u001b[39mobjective):\n",
      "File \u001b[0;32m~/miniforge3/envs/w207_final/lib/python3.9/site-packages/xgboost/sklearn.py:448\u001b[0m, in \u001b[0;36m_wrap_evaluation_matrices\u001b[0;34m(missing, X, y, group, qid, sample_weight, base_margin, feature_weights, eval_set, sample_weight_eval_set, base_margin_eval_set, eval_group, eval_qid, create_dmatrix, enable_categorical, feature_types)\u001b[0m\n\u001b[1;32m    428\u001b[0m \u001b[38;5;28;01mdef\u001b[39;00m \u001b[38;5;21m_wrap_evaluation_matrices\u001b[39m(\n\u001b[1;32m    429\u001b[0m     missing: \u001b[38;5;28mfloat\u001b[39m,\n\u001b[1;32m    430\u001b[0m     X: Any,\n\u001b[0;32m   (...)\u001b[0m\n\u001b[1;32m    444\u001b[0m     feature_types: Optional[FeatureTypes],\n\u001b[1;32m    445\u001b[0m ) \u001b[38;5;241m-\u001b[39m\u001b[38;5;241m>\u001b[39m Tuple[Any, List[Tuple[Any, \u001b[38;5;28mstr\u001b[39m]]]:\n\u001b[1;32m    446\u001b[0m \u001b[38;5;250m    \u001b[39m\u001b[38;5;124;03m\"\"\"Convert array_like evaluation matrices into DMatrix.  Perform validation on the\u001b[39;00m\n\u001b[1;32m    447\u001b[0m \u001b[38;5;124;03m    way.\"\"\"\u001b[39;00m\n\u001b[0;32m--> 448\u001b[0m     train_dmatrix \u001b[38;5;241m=\u001b[39m \u001b[43mcreate_dmatrix\u001b[49m\u001b[43m(\u001b[49m\n\u001b[1;32m    449\u001b[0m \u001b[43m        \u001b[49m\u001b[43mdata\u001b[49m\u001b[38;5;241;43m=\u001b[39;49m\u001b[43mX\u001b[49m\u001b[43m,\u001b[49m\n\u001b[1;32m    450\u001b[0m \u001b[43m        \u001b[49m\u001b[43mlabel\u001b[49m\u001b[38;5;241;43m=\u001b[39;49m\u001b[43my\u001b[49m\u001b[43m,\u001b[49m\n\u001b[1;32m    451\u001b[0m \u001b[43m        \u001b[49m\u001b[43mgroup\u001b[49m\u001b[38;5;241;43m=\u001b[39;49m\u001b[43mgroup\u001b[49m\u001b[43m,\u001b[49m\n\u001b[1;32m    452\u001b[0m \u001b[43m        \u001b[49m\u001b[43mqid\u001b[49m\u001b[38;5;241;43m=\u001b[39;49m\u001b[43mqid\u001b[49m\u001b[43m,\u001b[49m\n\u001b[1;32m    453\u001b[0m \u001b[43m        \u001b[49m\u001b[43mweight\u001b[49m\u001b[38;5;241;43m=\u001b[39;49m\u001b[43msample_weight\u001b[49m\u001b[43m,\u001b[49m\n\u001b[1;32m    454\u001b[0m \u001b[43m        \u001b[49m\u001b[43mbase_margin\u001b[49m\u001b[38;5;241;43m=\u001b[39;49m\u001b[43mbase_margin\u001b[49m\u001b[43m,\u001b[49m\n\u001b[1;32m    455\u001b[0m \u001b[43m        \u001b[49m\u001b[43mfeature_weights\u001b[49m\u001b[38;5;241;43m=\u001b[39;49m\u001b[43mfeature_weights\u001b[49m\u001b[43m,\u001b[49m\n\u001b[1;32m    456\u001b[0m \u001b[43m        \u001b[49m\u001b[43mmissing\u001b[49m\u001b[38;5;241;43m=\u001b[39;49m\u001b[43mmissing\u001b[49m\u001b[43m,\u001b[49m\n\u001b[1;32m    457\u001b[0m \u001b[43m        \u001b[49m\u001b[43menable_categorical\u001b[49m\u001b[38;5;241;43m=\u001b[39;49m\u001b[43menable_categorical\u001b[49m\u001b[43m,\u001b[49m\n\u001b[1;32m    458\u001b[0m \u001b[43m        \u001b[49m\u001b[43mfeature_types\u001b[49m\u001b[38;5;241;43m=\u001b[39;49m\u001b[43mfeature_types\u001b[49m\u001b[43m,\u001b[49m\n\u001b[1;32m    459\u001b[0m \u001b[43m        \u001b[49m\u001b[43mref\u001b[49m\u001b[38;5;241;43m=\u001b[39;49m\u001b[38;5;28;43;01mNone\u001b[39;49;00m\u001b[43m,\u001b[49m\n\u001b[1;32m    460\u001b[0m \u001b[43m    \u001b[49m\u001b[43m)\u001b[49m\n\u001b[1;32m    462\u001b[0m     n_validation \u001b[38;5;241m=\u001b[39m \u001b[38;5;241m0\u001b[39m \u001b[38;5;28;01mif\u001b[39;00m eval_set \u001b[38;5;129;01mis\u001b[39;00m \u001b[38;5;28;01mNone\u001b[39;00m \u001b[38;5;28;01melse\u001b[39;00m \u001b[38;5;28mlen\u001b[39m(eval_set)\n\u001b[1;32m    464\u001b[0m     \u001b[38;5;28;01mdef\u001b[39;00m \u001b[38;5;21mvalidate_or_none\u001b[39m(meta: Optional[Sequence], name: \u001b[38;5;28mstr\u001b[39m) \u001b[38;5;241m-\u001b[39m\u001b[38;5;241m>\u001b[39m Sequence:\n",
      "File \u001b[0;32m~/miniforge3/envs/w207_final/lib/python3.9/site-packages/xgboost/sklearn.py:908\u001b[0m, in \u001b[0;36mXGBModel._create_dmatrix\u001b[0;34m(self, ref, **kwargs)\u001b[0m\n\u001b[1;32m    906\u001b[0m     \u001b[38;5;28;01mexcept\u001b[39;00m \u001b[38;5;167;01mTypeError\u001b[39;00m:  \u001b[38;5;66;03m# `QuantileDMatrix` supports lesser types than DMatrix\u001b[39;00m\n\u001b[1;32m    907\u001b[0m         \u001b[38;5;28;01mpass\u001b[39;00m\n\u001b[0;32m--> 908\u001b[0m \u001b[38;5;28;01mreturn\u001b[39;00m \u001b[43mDMatrix\u001b[49m\u001b[43m(\u001b[49m\u001b[38;5;241;43m*\u001b[39;49m\u001b[38;5;241;43m*\u001b[39;49m\u001b[43mkwargs\u001b[49m\u001b[43m,\u001b[49m\u001b[43m \u001b[49m\u001b[43mnthread\u001b[49m\u001b[38;5;241;43m=\u001b[39;49m\u001b[38;5;28;43mself\u001b[39;49m\u001b[38;5;241;43m.\u001b[39;49m\u001b[43mn_jobs\u001b[49m\u001b[43m)\u001b[49m\n",
      "File \u001b[0;32m~/miniforge3/envs/w207_final/lib/python3.9/site-packages/xgboost/core.py:620\u001b[0m, in \u001b[0;36mrequire_keyword_args.<locals>.throw_if.<locals>.inner_f\u001b[0;34m(*args, **kwargs)\u001b[0m\n\u001b[1;32m    618\u001b[0m \u001b[38;5;28;01mfor\u001b[39;00m k, arg \u001b[38;5;129;01min\u001b[39;00m \u001b[38;5;28mzip\u001b[39m(sig\u001b[38;5;241m.\u001b[39mparameters, args):\n\u001b[1;32m    619\u001b[0m     kwargs[k] \u001b[38;5;241m=\u001b[39m arg\n\u001b[0;32m--> 620\u001b[0m \u001b[38;5;28;01mreturn\u001b[39;00m \u001b[43mfunc\u001b[49m\u001b[43m(\u001b[49m\u001b[38;5;241;43m*\u001b[39;49m\u001b[38;5;241;43m*\u001b[39;49m\u001b[43mkwargs\u001b[49m\u001b[43m)\u001b[49m\n",
      "File \u001b[0;32m~/miniforge3/envs/w207_final/lib/python3.9/site-packages/xgboost/core.py:754\u001b[0m, in \u001b[0;36mDMatrix.__init__\u001b[0;34m(self, data, label, weight, base_margin, missing, silent, feature_names, feature_types, nthread, group, qid, label_lower_bound, label_upper_bound, feature_weights, enable_categorical)\u001b[0m\n\u001b[1;32m    751\u001b[0m \u001b[38;5;28;01massert\u001b[39;00m handle \u001b[38;5;129;01mis\u001b[39;00m \u001b[38;5;129;01mnot\u001b[39;00m \u001b[38;5;28;01mNone\u001b[39;00m\n\u001b[1;32m    752\u001b[0m \u001b[38;5;28mself\u001b[39m\u001b[38;5;241m.\u001b[39mhandle \u001b[38;5;241m=\u001b[39m handle\n\u001b[0;32m--> 754\u001b[0m \u001b[38;5;28;43mself\u001b[39;49m\u001b[38;5;241;43m.\u001b[39;49m\u001b[43mset_info\u001b[49m\u001b[43m(\u001b[49m\n\u001b[1;32m    755\u001b[0m \u001b[43m    \u001b[49m\u001b[43mlabel\u001b[49m\u001b[38;5;241;43m=\u001b[39;49m\u001b[43mlabel\u001b[49m\u001b[43m,\u001b[49m\n\u001b[1;32m    756\u001b[0m \u001b[43m    \u001b[49m\u001b[43mweight\u001b[49m\u001b[38;5;241;43m=\u001b[39;49m\u001b[43mweight\u001b[49m\u001b[43m,\u001b[49m\n\u001b[1;32m    757\u001b[0m \u001b[43m    \u001b[49m\u001b[43mbase_margin\u001b[49m\u001b[38;5;241;43m=\u001b[39;49m\u001b[43mbase_margin\u001b[49m\u001b[43m,\u001b[49m\n\u001b[1;32m    758\u001b[0m \u001b[43m    \u001b[49m\u001b[43mgroup\u001b[49m\u001b[38;5;241;43m=\u001b[39;49m\u001b[43mgroup\u001b[49m\u001b[43m,\u001b[49m\n\u001b[1;32m    759\u001b[0m \u001b[43m    \u001b[49m\u001b[43mqid\u001b[49m\u001b[38;5;241;43m=\u001b[39;49m\u001b[43mqid\u001b[49m\u001b[43m,\u001b[49m\n\u001b[1;32m    760\u001b[0m \u001b[43m    \u001b[49m\u001b[43mlabel_lower_bound\u001b[49m\u001b[38;5;241;43m=\u001b[39;49m\u001b[43mlabel_lower_bound\u001b[49m\u001b[43m,\u001b[49m\n\u001b[1;32m    761\u001b[0m \u001b[43m    \u001b[49m\u001b[43mlabel_upper_bound\u001b[49m\u001b[38;5;241;43m=\u001b[39;49m\u001b[43mlabel_upper_bound\u001b[49m\u001b[43m,\u001b[49m\n\u001b[1;32m    762\u001b[0m \u001b[43m    \u001b[49m\u001b[43mfeature_weights\u001b[49m\u001b[38;5;241;43m=\u001b[39;49m\u001b[43mfeature_weights\u001b[49m\u001b[43m,\u001b[49m\n\u001b[1;32m    763\u001b[0m \u001b[43m\u001b[49m\u001b[43m)\u001b[49m\n\u001b[1;32m    765\u001b[0m \u001b[38;5;28;01mif\u001b[39;00m feature_names \u001b[38;5;129;01mis\u001b[39;00m \u001b[38;5;129;01mnot\u001b[39;00m \u001b[38;5;28;01mNone\u001b[39;00m:\n\u001b[1;32m    766\u001b[0m     \u001b[38;5;28mself\u001b[39m\u001b[38;5;241m.\u001b[39mfeature_names \u001b[38;5;241m=\u001b[39m feature_names\n",
      "File \u001b[0;32m~/miniforge3/envs/w207_final/lib/python3.9/site-packages/xgboost/core.py:620\u001b[0m, in \u001b[0;36mrequire_keyword_args.<locals>.throw_if.<locals>.inner_f\u001b[0;34m(*args, **kwargs)\u001b[0m\n\u001b[1;32m    618\u001b[0m \u001b[38;5;28;01mfor\u001b[39;00m k, arg \u001b[38;5;129;01min\u001b[39;00m \u001b[38;5;28mzip\u001b[39m(sig\u001b[38;5;241m.\u001b[39mparameters, args):\n\u001b[1;32m    619\u001b[0m     kwargs[k] \u001b[38;5;241m=\u001b[39m arg\n\u001b[0;32m--> 620\u001b[0m \u001b[38;5;28;01mreturn\u001b[39;00m \u001b[43mfunc\u001b[49m\u001b[43m(\u001b[49m\u001b[38;5;241;43m*\u001b[39;49m\u001b[38;5;241;43m*\u001b[39;49m\u001b[43mkwargs\u001b[49m\u001b[43m)\u001b[49m\n",
      "File \u001b[0;32m~/miniforge3/envs/w207_final/lib/python3.9/site-packages/xgboost/core.py:819\u001b[0m, in \u001b[0;36mDMatrix.set_info\u001b[0;34m(self, label, weight, base_margin, group, qid, label_lower_bound, label_upper_bound, feature_names, feature_types, feature_weights)\u001b[0m\n\u001b[1;32m    816\u001b[0m \u001b[38;5;28;01mfrom\u001b[39;00m \u001b[38;5;21;01m.\u001b[39;00m\u001b[38;5;21;01mdata\u001b[39;00m \u001b[38;5;28;01mimport\u001b[39;00m dispatch_meta_backend\n\u001b[1;32m    818\u001b[0m \u001b[38;5;28;01mif\u001b[39;00m label \u001b[38;5;129;01mis\u001b[39;00m \u001b[38;5;129;01mnot\u001b[39;00m \u001b[38;5;28;01mNone\u001b[39;00m:\n\u001b[0;32m--> 819\u001b[0m     \u001b[38;5;28;43mself\u001b[39;49m\u001b[38;5;241;43m.\u001b[39;49m\u001b[43mset_label\u001b[49m\u001b[43m(\u001b[49m\u001b[43mlabel\u001b[49m\u001b[43m)\u001b[49m\n\u001b[1;32m    820\u001b[0m \u001b[38;5;28;01mif\u001b[39;00m weight \u001b[38;5;129;01mis\u001b[39;00m \u001b[38;5;129;01mnot\u001b[39;00m \u001b[38;5;28;01mNone\u001b[39;00m:\n\u001b[1;32m    821\u001b[0m     \u001b[38;5;28mself\u001b[39m\u001b[38;5;241m.\u001b[39mset_weight(weight)\n",
      "File \u001b[0;32m~/miniforge3/envs/w207_final/lib/python3.9/site-packages/xgboost/core.py:950\u001b[0m, in \u001b[0;36mDMatrix.set_label\u001b[0;34m(self, label)\u001b[0m\n\u001b[1;32m    942\u001b[0m \u001b[38;5;250m\u001b[39m\u001b[38;5;124;03m\"\"\"Set label of dmatrix\u001b[39;00m\n\u001b[1;32m    943\u001b[0m \n\u001b[1;32m    944\u001b[0m \u001b[38;5;124;03mParameters\u001b[39;00m\n\u001b[0;32m   (...)\u001b[0m\n\u001b[1;32m    947\u001b[0m \u001b[38;5;124;03m    The label information to be set into DMatrix\u001b[39;00m\n\u001b[1;32m    948\u001b[0m \u001b[38;5;124;03m\"\"\"\u001b[39;00m\n\u001b[1;32m    949\u001b[0m \u001b[38;5;28;01mfrom\u001b[39;00m \u001b[38;5;21;01m.\u001b[39;00m\u001b[38;5;21;01mdata\u001b[39;00m \u001b[38;5;28;01mimport\u001b[39;00m dispatch_meta_backend\n\u001b[0;32m--> 950\u001b[0m \u001b[43mdispatch_meta_backend\u001b[49m\u001b[43m(\u001b[49m\u001b[38;5;28;43mself\u001b[39;49m\u001b[43m,\u001b[49m\u001b[43m \u001b[49m\u001b[43mlabel\u001b[49m\u001b[43m,\u001b[49m\u001b[43m \u001b[49m\u001b[38;5;124;43m'\u001b[39;49m\u001b[38;5;124;43mlabel\u001b[39;49m\u001b[38;5;124;43m'\u001b[39;49m\u001b[43m,\u001b[49m\u001b[43m \u001b[49m\u001b[38;5;124;43m'\u001b[39;49m\u001b[38;5;124;43mfloat\u001b[39;49m\u001b[38;5;124;43m'\u001b[39;49m\u001b[43m)\u001b[49m\n",
      "File \u001b[0;32m~/miniforge3/envs/w207_final/lib/python3.9/site-packages/xgboost/data.py:1134\u001b[0m, in \u001b[0;36mdispatch_meta_backend\u001b[0;34m(matrix, data, name, dtype)\u001b[0m\n\u001b[1;32m   1132\u001b[0m     \u001b[38;5;28;01mreturn\u001b[39;00m\n\u001b[1;32m   1133\u001b[0m \u001b[38;5;28;01mif\u001b[39;00m _is_pandas_series(data):\n\u001b[0;32m-> 1134\u001b[0m     \u001b[43m_meta_from_pandas_series\u001b[49m\u001b[43m(\u001b[49m\u001b[43mdata\u001b[49m\u001b[43m,\u001b[49m\u001b[43m \u001b[49m\u001b[43mname\u001b[49m\u001b[43m,\u001b[49m\u001b[43m \u001b[49m\u001b[43mdtype\u001b[49m\u001b[43m,\u001b[49m\u001b[43m \u001b[49m\u001b[43mhandle\u001b[49m\u001b[43m)\u001b[49m\n\u001b[1;32m   1135\u001b[0m     \u001b[38;5;28;01mreturn\u001b[39;00m\n\u001b[1;32m   1136\u001b[0m \u001b[38;5;28;01mif\u001b[39;00m _is_dlpack(data):\n",
      "File \u001b[0;32m~/miniforge3/envs/w207_final/lib/python3.9/site-packages/xgboost/data.py:443\u001b[0m, in \u001b[0;36m_meta_from_pandas_series\u001b[0;34m(data, name, dtype, handle)\u001b[0m\n\u001b[1;32m    441\u001b[0m     data \u001b[38;5;241m=\u001b[39m data\u001b[38;5;241m.\u001b[39mto_dense()  \u001b[38;5;66;03m# type: ignore\u001b[39;00m\n\u001b[1;32m    442\u001b[0m \u001b[38;5;28;01massert\u001b[39;00m \u001b[38;5;28mlen\u001b[39m(data\u001b[38;5;241m.\u001b[39mshape) \u001b[38;5;241m==\u001b[39m \u001b[38;5;241m1\u001b[39m \u001b[38;5;129;01mor\u001b[39;00m data\u001b[38;5;241m.\u001b[39mshape[\u001b[38;5;241m1\u001b[39m] \u001b[38;5;241m==\u001b[39m \u001b[38;5;241m0\u001b[39m \u001b[38;5;129;01mor\u001b[39;00m data\u001b[38;5;241m.\u001b[39mshape[\u001b[38;5;241m1\u001b[39m] \u001b[38;5;241m==\u001b[39m \u001b[38;5;241m1\u001b[39m\n\u001b[0;32m--> 443\u001b[0m \u001b[43m_meta_from_numpy\u001b[49m\u001b[43m(\u001b[49m\u001b[43mdata\u001b[49m\u001b[43m,\u001b[49m\u001b[43m \u001b[49m\u001b[43mname\u001b[49m\u001b[43m,\u001b[49m\u001b[43m \u001b[49m\u001b[43mdtype\u001b[49m\u001b[43m,\u001b[49m\u001b[43m \u001b[49m\u001b[43mhandle\u001b[49m\u001b[43m)\u001b[49m\n",
      "File \u001b[0;32m~/miniforge3/envs/w207_final/lib/python3.9/site-packages/xgboost/data.py:1050\u001b[0m, in \u001b[0;36m_meta_from_numpy\u001b[0;34m(data, field, dtype, handle)\u001b[0m\n\u001b[1;32m   1048\u001b[0m     \u001b[38;5;28;01mraise\u001b[39;00m \u001b[38;5;167;01mValueError\u001b[39;00m(\u001b[38;5;124m\"\u001b[39m\u001b[38;5;124mMasked array is not supported.\u001b[39m\u001b[38;5;124m\"\u001b[39m)\n\u001b[1;32m   1049\u001b[0m interface_str \u001b[38;5;241m=\u001b[39m _array_interface(data)\n\u001b[0;32m-> 1050\u001b[0m \u001b[43m_check_call\u001b[49m\u001b[43m(\u001b[49m\u001b[43m_LIB\u001b[49m\u001b[38;5;241;43m.\u001b[39;49m\u001b[43mXGDMatrixSetInfoFromInterface\u001b[49m\u001b[43m(\u001b[49m\u001b[43mhandle\u001b[49m\u001b[43m,\u001b[49m\u001b[43m \u001b[49m\u001b[43mc_str\u001b[49m\u001b[43m(\u001b[49m\u001b[43mfield\u001b[49m\u001b[43m)\u001b[49m\u001b[43m,\u001b[49m\u001b[43m \u001b[49m\u001b[43minterface_str\u001b[49m\u001b[43m)\u001b[49m\u001b[43m)\u001b[49m\n",
      "File \u001b[0;32m~/miniforge3/envs/w207_final/lib/python3.9/site-packages/xgboost/core.py:279\u001b[0m, in \u001b[0;36m_check_call\u001b[0;34m(ret)\u001b[0m\n\u001b[1;32m    268\u001b[0m \u001b[38;5;250m\u001b[39m\u001b[38;5;124;03m\"\"\"Check the return value of C API call\u001b[39;00m\n\u001b[1;32m    269\u001b[0m \n\u001b[1;32m    270\u001b[0m \u001b[38;5;124;03mThis function will raise exception when error occurs.\u001b[39;00m\n\u001b[0;32m   (...)\u001b[0m\n\u001b[1;32m    276\u001b[0m \u001b[38;5;124;03m    return value from API calls\u001b[39;00m\n\u001b[1;32m    277\u001b[0m \u001b[38;5;124;03m\"\"\"\u001b[39;00m\n\u001b[1;32m    278\u001b[0m \u001b[38;5;28;01mif\u001b[39;00m ret \u001b[38;5;241m!=\u001b[39m \u001b[38;5;241m0\u001b[39m:\n\u001b[0;32m--> 279\u001b[0m     \u001b[38;5;28;01mraise\u001b[39;00m XGBoostError(py_str(_LIB\u001b[38;5;241m.\u001b[39mXGBGetLastError()))\n",
      "\u001b[0;31mXGBoostError\u001b[0m: [15:23:00] /Users/runner/miniforge3/conda-bld/xgboost-split_1690927578751/work/src/data/data.cc:455: Check failed: this->labels.Size() % this->num_row_ == 0 (1 vs. 0) : Incorrect size for labels.\nStack trace:\n  [bt] (0) 1   libxgboost.dylib                    0x000000017ced8cc0 dmlc::LogMessageFatal::~LogMessageFatal() + 124\n  [bt] (1) 2   libxgboost.dylib                    0x000000017cf67f40 xgboost::MetaInfo::SetInfoFromHost(xgboost::GenericParameter const&, xgboost::StringView, xgboost::Json) + 676\n  [bt] (2) 3   libxgboost.dylib                    0x000000017cf67af8 xgboost::MetaInfo::SetInfo(xgboost::GenericParameter const&, xgboost::StringView, xgboost::StringView) + 180\n  [bt] (3) 4   libxgboost.dylib                    0x000000017ceee054 XGDMatrixSetInfoFromInterface + 240\n  [bt] (4) 5   libffi.8.dylib                      0x0000000100ee404c ffi_call_SYSV + 76\n  [bt] (5) 6   libffi.8.dylib                      0x0000000100ee174c ffi_call_int + 1208\n  [bt] (6) 7   _ctypes.cpython-39-darwin.so        0x0000000100ec4544 _ctypes_callproc + 1324\n  [bt] (7) 8   _ctypes.cpython-39-darwin.so        0x0000000100ebe850 PyCFuncPtr_call + 1176\n  [bt] (8) 9   python3.9                           0x00000001005613c4 _PyObject_MakeTpCall + 616\n\n"
     ]
    }
   ],
   "source": [
    "# Run best XGBoost model\n",
    "\n",
    "#initialize classifier\n",
    "xgb_model = xgb.XGBRegressor(\n",
    "                              objective='multi:softprob', \n",
    "                              num_class = 4, \n",
    "                              booster='gbtree',\n",
    "                              eval_metric = 'merror',\n",
    "                              random_state=42,\n",
    "                              max_depth = 5,\n",
    "                              eta = .1,\n",
    "                              n_estimators=10000,\n",
    "                              early_stopping_rounds=100,\n",
    "                              min_child_weight = 10,\n",
    "                              gamma = 4,\n",
    "                              colsample_bytree = .7,\n",
    "                              reg_alpha = 1,\n",
    "                              reg_lambda = 30,\n",
    "                            )\n",
    "\n",
    "#fit\n",
    "xgb_fitted = xgb_model.fit(X_train_std, y_train,\n",
    "                           eval_set=[(X_train_std, y_train), (X_val_std, y_val)],\n",
    "                           verbose=20\n",
    "                           )"
   ]
  },
  {
   "cell_type": "code",
   "execution_count": null,
   "id": "b1575e24",
   "metadata": {},
   "outputs": [],
   "source": [
    "# Make prediction with fitted XGboost\n",
    "y_test_pred_rf = xgb_fitted.predict(X_test_std)\n",
    "\n",
    "# Average predictions\n",
    "stacked_proba_2 = (y_test_pred_ffnn3_proba + y_test_pred_tab_proba + y_test_pred_rf) / 3\n",
    "stacked_proba_2"
   ]
  },
  {
   "cell_type": "code",
   "execution_count": null,
   "id": "9a81f8b2",
   "metadata": {},
   "outputs": [],
   "source": [
    "# Average result\n",
    "y_test_voting_proba_avg_result2 = np.argmax(stacked_proba_2,axis=1)\n",
    "print(classification_report(y_test, y_test_voting_proba_avg_result2))"
   ]
  },
  {
   "cell_type": "markdown",
   "id": "973e2ceb",
   "metadata": {},
   "source": [
    "### 50% weight XGboost, 25% embedding, 25% TabNet"
   ]
  },
  {
   "cell_type": "code",
   "execution_count": null,
   "id": "7355b524",
   "metadata": {},
   "outputs": [],
   "source": [
    "# Weighted Average predictions\n",
    "stacked_proba_3 = (0.25*y_test_pred_ffnn3_proba) + (0.25*y_test_pred_tab_proba) + (0.50*y_test_pred_rf)\n",
    "print(classification_report(y_test, np.argmax(stacked_proba_3,axis=1)))"
   ]
  },
  {
   "cell_type": "code",
   "execution_count": null,
   "id": "c38d28e3",
   "metadata": {},
   "outputs": [],
   "source": []
  }
 ],
 "metadata": {
  "kernelspec": {
   "display_name": "Python 3 (ipykernel)",
   "language": "python",
   "name": "python3"
  },
  "language_info": {
   "codemirror_mode": {
    "name": "ipython",
    "version": 3
   },
   "file_extension": ".py",
   "mimetype": "text/x-python",
   "name": "python",
   "nbconvert_exporter": "python",
   "pygments_lexer": "ipython3",
   "version": "3.9.16"
  },
  "toc": {
   "base_numbering": 1,
   "nav_menu": {},
   "number_sections": true,
   "sideBar": true,
   "skip_h1_title": false,
   "title_cell": "Table of Contents",
   "title_sidebar": "Contents",
   "toc_cell": false,
   "toc_position": {},
   "toc_section_display": true,
   "toc_window_display": false
  }
 },
 "nbformat": 4,
 "nbformat_minor": 5
}
